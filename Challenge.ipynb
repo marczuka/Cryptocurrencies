{
 "cells": [
  {
   "cell_type": "code",
   "execution_count": 11,
   "metadata": {},
   "outputs": [],
   "source": [
    "import warnings\n",
    "warnings.filterwarnings('ignore')"
   ]
  },
  {
   "cell_type": "code",
   "execution_count": 124,
   "metadata": {},
   "outputs": [],
   "source": [
    "import pandas as pd\n",
    "from sklearn.preprocessing import StandardScaler\n",
    "from sklearn.decomposition import PCA\n",
    "from sklearn.cluster import KMeans\n",
    "import hvplot.pandas\n",
    "import plotly.express as px"
   ]
  },
  {
   "cell_type": "code",
   "execution_count": 101,
   "metadata": {},
   "outputs": [
    {
     "data": {
      "text/html": [
       "<div>\n",
       "<style scoped>\n",
       "    .dataframe tbody tr th:only-of-type {\n",
       "        vertical-align: middle;\n",
       "    }\n",
       "\n",
       "    .dataframe tbody tr th {\n",
       "        vertical-align: top;\n",
       "    }\n",
       "\n",
       "    .dataframe thead th {\n",
       "        text-align: right;\n",
       "    }\n",
       "</style>\n",
       "<table border=\"1\" class=\"dataframe\">\n",
       "  <thead>\n",
       "    <tr style=\"text-align: right;\">\n",
       "      <th></th>\n",
       "      <th>Unnamed: 0</th>\n",
       "      <th>CoinName</th>\n",
       "      <th>Algorithm</th>\n",
       "      <th>IsTrading</th>\n",
       "      <th>ProofType</th>\n",
       "      <th>TotalCoinsMined</th>\n",
       "      <th>TotalCoinSupply</th>\n",
       "    </tr>\n",
       "  </thead>\n",
       "  <tbody>\n",
       "    <tr>\n",
       "      <th>0</th>\n",
       "      <td>42</td>\n",
       "      <td>42 Coin</td>\n",
       "      <td>Scrypt</td>\n",
       "      <td>True</td>\n",
       "      <td>PoW/PoS</td>\n",
       "      <td>4.199995e+01</td>\n",
       "      <td>42</td>\n",
       "    </tr>\n",
       "    <tr>\n",
       "      <th>1</th>\n",
       "      <td>365</td>\n",
       "      <td>365Coin</td>\n",
       "      <td>X11</td>\n",
       "      <td>True</td>\n",
       "      <td>PoW/PoS</td>\n",
       "      <td>NaN</td>\n",
       "      <td>2300000000</td>\n",
       "    </tr>\n",
       "    <tr>\n",
       "      <th>2</th>\n",
       "      <td>404</td>\n",
       "      <td>404Coin</td>\n",
       "      <td>Scrypt</td>\n",
       "      <td>True</td>\n",
       "      <td>PoW/PoS</td>\n",
       "      <td>1.055185e+09</td>\n",
       "      <td>532000000</td>\n",
       "    </tr>\n",
       "    <tr>\n",
       "      <th>3</th>\n",
       "      <td>611</td>\n",
       "      <td>SixEleven</td>\n",
       "      <td>SHA-256</td>\n",
       "      <td>True</td>\n",
       "      <td>PoW</td>\n",
       "      <td>NaN</td>\n",
       "      <td>611000</td>\n",
       "    </tr>\n",
       "    <tr>\n",
       "      <th>4</th>\n",
       "      <td>808</td>\n",
       "      <td>808</td>\n",
       "      <td>SHA-256</td>\n",
       "      <td>True</td>\n",
       "      <td>PoW/PoS</td>\n",
       "      <td>0.000000e+00</td>\n",
       "      <td>0</td>\n",
       "    </tr>\n",
       "  </tbody>\n",
       "</table>\n",
       "</div>"
      ],
      "text/plain": [
       "  Unnamed: 0   CoinName Algorithm  IsTrading ProofType  TotalCoinsMined  \\\n",
       "0         42    42 Coin    Scrypt       True   PoW/PoS     4.199995e+01   \n",
       "1        365    365Coin       X11       True   PoW/PoS              NaN   \n",
       "2        404    404Coin    Scrypt       True   PoW/PoS     1.055185e+09   \n",
       "3        611  SixEleven   SHA-256       True       PoW              NaN   \n",
       "4        808        808   SHA-256       True   PoW/PoS     0.000000e+00   \n",
       "\n",
       "  TotalCoinSupply  \n",
       "0              42  \n",
       "1      2300000000  \n",
       "2       532000000  \n",
       "3          611000  \n",
       "4               0  "
      ]
     },
     "execution_count": 101,
     "metadata": {},
     "output_type": "execute_result"
    }
   ],
   "source": [
    "# Read the source dataset into a DataFrame\n",
    "file_path = \"crypto_data.csv\"\n",
    "crypto_df = pd.read_csv(file_path)\n",
    "crypto_df.head()"
   ]
  },
  {
   "cell_type": "code",
   "execution_count": 102,
   "metadata": {},
   "outputs": [
    {
     "data": {
      "text/html": [
       "<div>\n",
       "<style scoped>\n",
       "    .dataframe tbody tr th:only-of-type {\n",
       "        vertical-align: middle;\n",
       "    }\n",
       "\n",
       "    .dataframe tbody tr th {\n",
       "        vertical-align: top;\n",
       "    }\n",
       "\n",
       "    .dataframe thead th {\n",
       "        text-align: right;\n",
       "    }\n",
       "</style>\n",
       "<table border=\"1\" class=\"dataframe\">\n",
       "  <thead>\n",
       "    <tr style=\"text-align: right;\">\n",
       "      <th></th>\n",
       "      <th>Unnamed: 0</th>\n",
       "      <th>CoinName</th>\n",
       "      <th>Algorithm</th>\n",
       "      <th>IsTrading</th>\n",
       "      <th>ProofType</th>\n",
       "      <th>TotalCoinsMined</th>\n",
       "      <th>TotalCoinSupply</th>\n",
       "    </tr>\n",
       "  </thead>\n",
       "  <tbody>\n",
       "    <tr>\n",
       "      <th>0</th>\n",
       "      <td>42</td>\n",
       "      <td>42 Coin</td>\n",
       "      <td>Scrypt</td>\n",
       "      <td>True</td>\n",
       "      <td>PoW/PoS</td>\n",
       "      <td>4.199995e+01</td>\n",
       "      <td>42</td>\n",
       "    </tr>\n",
       "    <tr>\n",
       "      <th>1</th>\n",
       "      <td>365</td>\n",
       "      <td>365Coin</td>\n",
       "      <td>X11</td>\n",
       "      <td>True</td>\n",
       "      <td>PoW/PoS</td>\n",
       "      <td>NaN</td>\n",
       "      <td>2300000000</td>\n",
       "    </tr>\n",
       "    <tr>\n",
       "      <th>2</th>\n",
       "      <td>404</td>\n",
       "      <td>404Coin</td>\n",
       "      <td>Scrypt</td>\n",
       "      <td>True</td>\n",
       "      <td>PoW/PoS</td>\n",
       "      <td>1.055185e+09</td>\n",
       "      <td>532000000</td>\n",
       "    </tr>\n",
       "    <tr>\n",
       "      <th>3</th>\n",
       "      <td>611</td>\n",
       "      <td>SixEleven</td>\n",
       "      <td>SHA-256</td>\n",
       "      <td>True</td>\n",
       "      <td>PoW</td>\n",
       "      <td>NaN</td>\n",
       "      <td>611000</td>\n",
       "    </tr>\n",
       "    <tr>\n",
       "      <th>4</th>\n",
       "      <td>808</td>\n",
       "      <td>808</td>\n",
       "      <td>SHA-256</td>\n",
       "      <td>True</td>\n",
       "      <td>PoW/PoS</td>\n",
       "      <td>0.000000e+00</td>\n",
       "      <td>0</td>\n",
       "    </tr>\n",
       "    <tr>\n",
       "      <th>...</th>\n",
       "      <td>...</td>\n",
       "      <td>...</td>\n",
       "      <td>...</td>\n",
       "      <td>...</td>\n",
       "      <td>...</td>\n",
       "      <td>...</td>\n",
       "      <td>...</td>\n",
       "    </tr>\n",
       "    <tr>\n",
       "      <th>1247</th>\n",
       "      <td>XBC</td>\n",
       "      <td>BitcoinPlus</td>\n",
       "      <td>Scrypt</td>\n",
       "      <td>True</td>\n",
       "      <td>PoS</td>\n",
       "      <td>1.283270e+05</td>\n",
       "      <td>1000000</td>\n",
       "    </tr>\n",
       "    <tr>\n",
       "      <th>1248</th>\n",
       "      <td>DVTC</td>\n",
       "      <td>DivotyCoin</td>\n",
       "      <td>Scrypt</td>\n",
       "      <td>False</td>\n",
       "      <td>PoW/PoS</td>\n",
       "      <td>2.149121e+07</td>\n",
       "      <td>100000000</td>\n",
       "    </tr>\n",
       "    <tr>\n",
       "      <th>1249</th>\n",
       "      <td>GIOT</td>\n",
       "      <td>Giotto Coin</td>\n",
       "      <td>Scrypt</td>\n",
       "      <td>False</td>\n",
       "      <td>PoW/PoS</td>\n",
       "      <td>NaN</td>\n",
       "      <td>233100000</td>\n",
       "    </tr>\n",
       "    <tr>\n",
       "      <th>1250</th>\n",
       "      <td>OPSC</td>\n",
       "      <td>OpenSourceCoin</td>\n",
       "      <td>SHA-256</td>\n",
       "      <td>False</td>\n",
       "      <td>PoW/PoS</td>\n",
       "      <td>NaN</td>\n",
       "      <td>21000000</td>\n",
       "    </tr>\n",
       "    <tr>\n",
       "      <th>1251</th>\n",
       "      <td>PUNK</td>\n",
       "      <td>SteamPunk</td>\n",
       "      <td>PoS</td>\n",
       "      <td>False</td>\n",
       "      <td>PoS</td>\n",
       "      <td>NaN</td>\n",
       "      <td>40000000</td>\n",
       "    </tr>\n",
       "  </tbody>\n",
       "</table>\n",
       "<p>1252 rows × 7 columns</p>\n",
       "</div>"
      ],
      "text/plain": [
       "     Unnamed: 0        CoinName Algorithm  IsTrading ProofType  \\\n",
       "0            42         42 Coin    Scrypt       True   PoW/PoS   \n",
       "1           365         365Coin       X11       True   PoW/PoS   \n",
       "2           404         404Coin    Scrypt       True   PoW/PoS   \n",
       "3           611       SixEleven   SHA-256       True       PoW   \n",
       "4           808             808   SHA-256       True   PoW/PoS   \n",
       "...         ...             ...       ...        ...       ...   \n",
       "1247        XBC     BitcoinPlus    Scrypt       True       PoS   \n",
       "1248       DVTC      DivotyCoin    Scrypt      False   PoW/PoS   \n",
       "1249       GIOT     Giotto Coin    Scrypt      False   PoW/PoS   \n",
       "1250       OPSC  OpenSourceCoin   SHA-256      False   PoW/PoS   \n",
       "1251       PUNK       SteamPunk       PoS      False       PoS   \n",
       "\n",
       "      TotalCoinsMined TotalCoinSupply  \n",
       "0        4.199995e+01              42  \n",
       "1                 NaN      2300000000  \n",
       "2        1.055185e+09       532000000  \n",
       "3                 NaN          611000  \n",
       "4        0.000000e+00               0  \n",
       "...               ...             ...  \n",
       "1247     1.283270e+05         1000000  \n",
       "1248     2.149121e+07       100000000  \n",
       "1249              NaN       233100000  \n",
       "1250              NaN        21000000  \n",
       "1251              NaN        40000000  \n",
       "\n",
       "[1252 rows x 7 columns]"
      ]
     },
     "execution_count": 102,
     "metadata": {},
     "output_type": "execute_result"
    }
   ],
   "source": [
    "crypto_df"
   ]
  },
  {
   "cell_type": "markdown",
   "metadata": {},
   "source": [
    "## Data Preprocessing"
   ]
  },
  {
   "cell_type": "code",
   "execution_count": 103,
   "metadata": {},
   "outputs": [
    {
     "data": {
      "text/html": [
       "<div>\n",
       "<style scoped>\n",
       "    .dataframe tbody tr th:only-of-type {\n",
       "        vertical-align: middle;\n",
       "    }\n",
       "\n",
       "    .dataframe tbody tr th {\n",
       "        vertical-align: top;\n",
       "    }\n",
       "\n",
       "    .dataframe thead th {\n",
       "        text-align: right;\n",
       "    }\n",
       "</style>\n",
       "<table border=\"1\" class=\"dataframe\">\n",
       "  <thead>\n",
       "    <tr style=\"text-align: right;\">\n",
       "      <th></th>\n",
       "      <th>Unnamed: 0</th>\n",
       "      <th>CoinName</th>\n",
       "      <th>Algorithm</th>\n",
       "      <th>IsTrading</th>\n",
       "      <th>ProofType</th>\n",
       "      <th>TotalCoinsMined</th>\n",
       "      <th>TotalCoinSupply</th>\n",
       "    </tr>\n",
       "  </thead>\n",
       "  <tbody>\n",
       "    <tr>\n",
       "      <th>0</th>\n",
       "      <td>42</td>\n",
       "      <td>42 Coin</td>\n",
       "      <td>Scrypt</td>\n",
       "      <td>True</td>\n",
       "      <td>PoW/PoS</td>\n",
       "      <td>4.199995e+01</td>\n",
       "      <td>42</td>\n",
       "    </tr>\n",
       "    <tr>\n",
       "      <th>1</th>\n",
       "      <td>365</td>\n",
       "      <td>365Coin</td>\n",
       "      <td>X11</td>\n",
       "      <td>True</td>\n",
       "      <td>PoW/PoS</td>\n",
       "      <td>NaN</td>\n",
       "      <td>2300000000</td>\n",
       "    </tr>\n",
       "    <tr>\n",
       "      <th>2</th>\n",
       "      <td>404</td>\n",
       "      <td>404Coin</td>\n",
       "      <td>Scrypt</td>\n",
       "      <td>True</td>\n",
       "      <td>PoW/PoS</td>\n",
       "      <td>1.055185e+09</td>\n",
       "      <td>532000000</td>\n",
       "    </tr>\n",
       "    <tr>\n",
       "      <th>3</th>\n",
       "      <td>611</td>\n",
       "      <td>SixEleven</td>\n",
       "      <td>SHA-256</td>\n",
       "      <td>True</td>\n",
       "      <td>PoW</td>\n",
       "      <td>NaN</td>\n",
       "      <td>611000</td>\n",
       "    </tr>\n",
       "    <tr>\n",
       "      <th>4</th>\n",
       "      <td>808</td>\n",
       "      <td>808</td>\n",
       "      <td>SHA-256</td>\n",
       "      <td>True</td>\n",
       "      <td>PoW/PoS</td>\n",
       "      <td>0.000000e+00</td>\n",
       "      <td>0</td>\n",
       "    </tr>\n",
       "    <tr>\n",
       "      <th>...</th>\n",
       "      <td>...</td>\n",
       "      <td>...</td>\n",
       "      <td>...</td>\n",
       "      <td>...</td>\n",
       "      <td>...</td>\n",
       "      <td>...</td>\n",
       "      <td>...</td>\n",
       "    </tr>\n",
       "    <tr>\n",
       "      <th>1243</th>\n",
       "      <td>SERO</td>\n",
       "      <td>Super Zero</td>\n",
       "      <td>Ethash</td>\n",
       "      <td>True</td>\n",
       "      <td>PoW</td>\n",
       "      <td>NaN</td>\n",
       "      <td>1000000000</td>\n",
       "    </tr>\n",
       "    <tr>\n",
       "      <th>1244</th>\n",
       "      <td>UOS</td>\n",
       "      <td>UOS</td>\n",
       "      <td>SHA-256</td>\n",
       "      <td>True</td>\n",
       "      <td>DPoI</td>\n",
       "      <td>NaN</td>\n",
       "      <td>1000000000</td>\n",
       "    </tr>\n",
       "    <tr>\n",
       "      <th>1245</th>\n",
       "      <td>BDX</td>\n",
       "      <td>Beldex</td>\n",
       "      <td>CryptoNight</td>\n",
       "      <td>True</td>\n",
       "      <td>PoW</td>\n",
       "      <td>9.802226e+08</td>\n",
       "      <td>1400222610</td>\n",
       "    </tr>\n",
       "    <tr>\n",
       "      <th>1246</th>\n",
       "      <td>ZEN</td>\n",
       "      <td>Horizen</td>\n",
       "      <td>Equihash</td>\n",
       "      <td>True</td>\n",
       "      <td>PoW</td>\n",
       "      <td>7.296538e+06</td>\n",
       "      <td>21000000</td>\n",
       "    </tr>\n",
       "    <tr>\n",
       "      <th>1247</th>\n",
       "      <td>XBC</td>\n",
       "      <td>BitcoinPlus</td>\n",
       "      <td>Scrypt</td>\n",
       "      <td>True</td>\n",
       "      <td>PoS</td>\n",
       "      <td>1.283270e+05</td>\n",
       "      <td>1000000</td>\n",
       "    </tr>\n",
       "  </tbody>\n",
       "</table>\n",
       "<p>1144 rows × 7 columns</p>\n",
       "</div>"
      ],
      "text/plain": [
       "     Unnamed: 0     CoinName    Algorithm  IsTrading ProofType  \\\n",
       "0            42      42 Coin       Scrypt       True   PoW/PoS   \n",
       "1           365      365Coin          X11       True   PoW/PoS   \n",
       "2           404      404Coin       Scrypt       True   PoW/PoS   \n",
       "3           611    SixEleven      SHA-256       True       PoW   \n",
       "4           808          808      SHA-256       True   PoW/PoS   \n",
       "...         ...          ...          ...        ...       ...   \n",
       "1243       SERO   Super Zero       Ethash       True       PoW   \n",
       "1244        UOS          UOS      SHA-256       True      DPoI   \n",
       "1245        BDX       Beldex  CryptoNight       True       PoW   \n",
       "1246        ZEN      Horizen     Equihash       True       PoW   \n",
       "1247        XBC  BitcoinPlus       Scrypt       True       PoS   \n",
       "\n",
       "      TotalCoinsMined TotalCoinSupply  \n",
       "0        4.199995e+01              42  \n",
       "1                 NaN      2300000000  \n",
       "2        1.055185e+09       532000000  \n",
       "3                 NaN          611000  \n",
       "4        0.000000e+00               0  \n",
       "...               ...             ...  \n",
       "1243              NaN      1000000000  \n",
       "1244              NaN      1000000000  \n",
       "1245     9.802226e+08      1400222610  \n",
       "1246     7.296538e+06        21000000  \n",
       "1247     1.283270e+05         1000000  \n",
       "\n",
       "[1144 rows x 7 columns]"
      ]
     },
     "execution_count": 103,
     "metadata": {},
     "output_type": "execute_result"
    }
   ],
   "source": [
    "# Remove all cryptocurrencies that aren’t trading\n",
    "crypto_df = crypto_df[crypto_df[\"IsTrading\"] == True]\n",
    "crypto_df"
   ]
  },
  {
   "cell_type": "code",
   "execution_count": 104,
   "metadata": {},
   "outputs": [
    {
     "data": {
      "text/plain": [
       "0"
      ]
     },
     "execution_count": 104,
     "metadata": {},
     "output_type": "execute_result"
    }
   ],
   "source": [
    "# Remove all cryptocurrencies that don’t have an algorithm defined\n",
    "crypto_df[\"Algorithm\"].isnull().sum()"
   ]
  },
  {
   "cell_type": "code",
   "execution_count": 105,
   "metadata": {},
   "outputs": [
    {
     "data": {
      "text/html": [
       "<div>\n",
       "<style scoped>\n",
       "    .dataframe tbody tr th:only-of-type {\n",
       "        vertical-align: middle;\n",
       "    }\n",
       "\n",
       "    .dataframe tbody tr th {\n",
       "        vertical-align: top;\n",
       "    }\n",
       "\n",
       "    .dataframe thead th {\n",
       "        text-align: right;\n",
       "    }\n",
       "</style>\n",
       "<table border=\"1\" class=\"dataframe\">\n",
       "  <thead>\n",
       "    <tr style=\"text-align: right;\">\n",
       "      <th></th>\n",
       "      <th>Unnamed: 0</th>\n",
       "      <th>CoinName</th>\n",
       "      <th>Algorithm</th>\n",
       "      <th>ProofType</th>\n",
       "      <th>TotalCoinsMined</th>\n",
       "      <th>TotalCoinSupply</th>\n",
       "    </tr>\n",
       "  </thead>\n",
       "  <tbody>\n",
       "    <tr>\n",
       "      <th>0</th>\n",
       "      <td>42</td>\n",
       "      <td>42 Coin</td>\n",
       "      <td>Scrypt</td>\n",
       "      <td>PoW/PoS</td>\n",
       "      <td>4.199995e+01</td>\n",
       "      <td>42</td>\n",
       "    </tr>\n",
       "    <tr>\n",
       "      <th>1</th>\n",
       "      <td>365</td>\n",
       "      <td>365Coin</td>\n",
       "      <td>X11</td>\n",
       "      <td>PoW/PoS</td>\n",
       "      <td>NaN</td>\n",
       "      <td>2300000000</td>\n",
       "    </tr>\n",
       "    <tr>\n",
       "      <th>2</th>\n",
       "      <td>404</td>\n",
       "      <td>404Coin</td>\n",
       "      <td>Scrypt</td>\n",
       "      <td>PoW/PoS</td>\n",
       "      <td>1.055185e+09</td>\n",
       "      <td>532000000</td>\n",
       "    </tr>\n",
       "    <tr>\n",
       "      <th>3</th>\n",
       "      <td>611</td>\n",
       "      <td>SixEleven</td>\n",
       "      <td>SHA-256</td>\n",
       "      <td>PoW</td>\n",
       "      <td>NaN</td>\n",
       "      <td>611000</td>\n",
       "    </tr>\n",
       "    <tr>\n",
       "      <th>4</th>\n",
       "      <td>808</td>\n",
       "      <td>808</td>\n",
       "      <td>SHA-256</td>\n",
       "      <td>PoW/PoS</td>\n",
       "      <td>0.000000e+00</td>\n",
       "      <td>0</td>\n",
       "    </tr>\n",
       "    <tr>\n",
       "      <th>...</th>\n",
       "      <td>...</td>\n",
       "      <td>...</td>\n",
       "      <td>...</td>\n",
       "      <td>...</td>\n",
       "      <td>...</td>\n",
       "      <td>...</td>\n",
       "    </tr>\n",
       "    <tr>\n",
       "      <th>1243</th>\n",
       "      <td>SERO</td>\n",
       "      <td>Super Zero</td>\n",
       "      <td>Ethash</td>\n",
       "      <td>PoW</td>\n",
       "      <td>NaN</td>\n",
       "      <td>1000000000</td>\n",
       "    </tr>\n",
       "    <tr>\n",
       "      <th>1244</th>\n",
       "      <td>UOS</td>\n",
       "      <td>UOS</td>\n",
       "      <td>SHA-256</td>\n",
       "      <td>DPoI</td>\n",
       "      <td>NaN</td>\n",
       "      <td>1000000000</td>\n",
       "    </tr>\n",
       "    <tr>\n",
       "      <th>1245</th>\n",
       "      <td>BDX</td>\n",
       "      <td>Beldex</td>\n",
       "      <td>CryptoNight</td>\n",
       "      <td>PoW</td>\n",
       "      <td>9.802226e+08</td>\n",
       "      <td>1400222610</td>\n",
       "    </tr>\n",
       "    <tr>\n",
       "      <th>1246</th>\n",
       "      <td>ZEN</td>\n",
       "      <td>Horizen</td>\n",
       "      <td>Equihash</td>\n",
       "      <td>PoW</td>\n",
       "      <td>7.296538e+06</td>\n",
       "      <td>21000000</td>\n",
       "    </tr>\n",
       "    <tr>\n",
       "      <th>1247</th>\n",
       "      <td>XBC</td>\n",
       "      <td>BitcoinPlus</td>\n",
       "      <td>Scrypt</td>\n",
       "      <td>PoS</td>\n",
       "      <td>1.283270e+05</td>\n",
       "      <td>1000000</td>\n",
       "    </tr>\n",
       "  </tbody>\n",
       "</table>\n",
       "<p>1144 rows × 6 columns</p>\n",
       "</div>"
      ],
      "text/plain": [
       "     Unnamed: 0     CoinName    Algorithm ProofType  TotalCoinsMined  \\\n",
       "0            42      42 Coin       Scrypt   PoW/PoS     4.199995e+01   \n",
       "1           365      365Coin          X11   PoW/PoS              NaN   \n",
       "2           404      404Coin       Scrypt   PoW/PoS     1.055185e+09   \n",
       "3           611    SixEleven      SHA-256       PoW              NaN   \n",
       "4           808          808      SHA-256   PoW/PoS     0.000000e+00   \n",
       "...         ...          ...          ...       ...              ...   \n",
       "1243       SERO   Super Zero       Ethash       PoW              NaN   \n",
       "1244        UOS          UOS      SHA-256      DPoI              NaN   \n",
       "1245        BDX       Beldex  CryptoNight       PoW     9.802226e+08   \n",
       "1246        ZEN      Horizen     Equihash       PoW     7.296538e+06   \n",
       "1247        XBC  BitcoinPlus       Scrypt       PoS     1.283270e+05   \n",
       "\n",
       "     TotalCoinSupply  \n",
       "0                 42  \n",
       "1         2300000000  \n",
       "2          532000000  \n",
       "3             611000  \n",
       "4                  0  \n",
       "...              ...  \n",
       "1243      1000000000  \n",
       "1244      1000000000  \n",
       "1245      1400222610  \n",
       "1246        21000000  \n",
       "1247         1000000  \n",
       "\n",
       "[1144 rows x 6 columns]"
      ]
     },
     "execution_count": 105,
     "metadata": {},
     "output_type": "execute_result"
    }
   ],
   "source": [
    "# Remove the IsTrading column\n",
    "crypto_df.drop(labels=[\"IsTrading\"], axis=\"columns\", inplace=True)\n",
    "crypto_df"
   ]
  },
  {
   "cell_type": "code",
   "execution_count": 106,
   "metadata": {},
   "outputs": [
    {
     "data": {
      "text/html": [
       "<div>\n",
       "<style scoped>\n",
       "    .dataframe tbody tr th:only-of-type {\n",
       "        vertical-align: middle;\n",
       "    }\n",
       "\n",
       "    .dataframe tbody tr th {\n",
       "        vertical-align: top;\n",
       "    }\n",
       "\n",
       "    .dataframe thead th {\n",
       "        text-align: right;\n",
       "    }\n",
       "</style>\n",
       "<table border=\"1\" class=\"dataframe\">\n",
       "  <thead>\n",
       "    <tr style=\"text-align: right;\">\n",
       "      <th></th>\n",
       "      <th>Unnamed: 0</th>\n",
       "      <th>CoinName</th>\n",
       "      <th>Algorithm</th>\n",
       "      <th>ProofType</th>\n",
       "      <th>TotalCoinsMined</th>\n",
       "      <th>TotalCoinSupply</th>\n",
       "    </tr>\n",
       "  </thead>\n",
       "  <tbody>\n",
       "    <tr>\n",
       "      <th>0</th>\n",
       "      <td>42</td>\n",
       "      <td>42 Coin</td>\n",
       "      <td>Scrypt</td>\n",
       "      <td>PoW/PoS</td>\n",
       "      <td>4.199995e+01</td>\n",
       "      <td>42</td>\n",
       "    </tr>\n",
       "    <tr>\n",
       "      <th>2</th>\n",
       "      <td>404</td>\n",
       "      <td>404Coin</td>\n",
       "      <td>Scrypt</td>\n",
       "      <td>PoW/PoS</td>\n",
       "      <td>1.055185e+09</td>\n",
       "      <td>532000000</td>\n",
       "    </tr>\n",
       "    <tr>\n",
       "      <th>4</th>\n",
       "      <td>808</td>\n",
       "      <td>808</td>\n",
       "      <td>SHA-256</td>\n",
       "      <td>PoW/PoS</td>\n",
       "      <td>0.000000e+00</td>\n",
       "      <td>0</td>\n",
       "    </tr>\n",
       "    <tr>\n",
       "      <th>5</th>\n",
       "      <td>1337</td>\n",
       "      <td>EliteCoin</td>\n",
       "      <td>X13</td>\n",
       "      <td>PoW/PoS</td>\n",
       "      <td>2.927942e+10</td>\n",
       "      <td>314159265359</td>\n",
       "    </tr>\n",
       "    <tr>\n",
       "      <th>7</th>\n",
       "      <td>BTC</td>\n",
       "      <td>Bitcoin</td>\n",
       "      <td>SHA-256</td>\n",
       "      <td>PoW</td>\n",
       "      <td>1.792718e+07</td>\n",
       "      <td>21000000</td>\n",
       "    </tr>\n",
       "    <tr>\n",
       "      <th>...</th>\n",
       "      <td>...</td>\n",
       "      <td>...</td>\n",
       "      <td>...</td>\n",
       "      <td>...</td>\n",
       "      <td>...</td>\n",
       "      <td>...</td>\n",
       "    </tr>\n",
       "    <tr>\n",
       "      <th>1238</th>\n",
       "      <td>ZEPH</td>\n",
       "      <td>ZEPHYR</td>\n",
       "      <td>SHA-256</td>\n",
       "      <td>DPoS</td>\n",
       "      <td>2.000000e+09</td>\n",
       "      <td>2000000000</td>\n",
       "    </tr>\n",
       "    <tr>\n",
       "      <th>1242</th>\n",
       "      <td>GAP</td>\n",
       "      <td>Gapcoin</td>\n",
       "      <td>Scrypt</td>\n",
       "      <td>PoW/PoS</td>\n",
       "      <td>1.493105e+07</td>\n",
       "      <td>250000000</td>\n",
       "    </tr>\n",
       "    <tr>\n",
       "      <th>1245</th>\n",
       "      <td>BDX</td>\n",
       "      <td>Beldex</td>\n",
       "      <td>CryptoNight</td>\n",
       "      <td>PoW</td>\n",
       "      <td>9.802226e+08</td>\n",
       "      <td>1400222610</td>\n",
       "    </tr>\n",
       "    <tr>\n",
       "      <th>1246</th>\n",
       "      <td>ZEN</td>\n",
       "      <td>Horizen</td>\n",
       "      <td>Equihash</td>\n",
       "      <td>PoW</td>\n",
       "      <td>7.296538e+06</td>\n",
       "      <td>21000000</td>\n",
       "    </tr>\n",
       "    <tr>\n",
       "      <th>1247</th>\n",
       "      <td>XBC</td>\n",
       "      <td>BitcoinPlus</td>\n",
       "      <td>Scrypt</td>\n",
       "      <td>PoS</td>\n",
       "      <td>1.283270e+05</td>\n",
       "      <td>1000000</td>\n",
       "    </tr>\n",
       "  </tbody>\n",
       "</table>\n",
       "<p>685 rows × 6 columns</p>\n",
       "</div>"
      ],
      "text/plain": [
       "     Unnamed: 0     CoinName    Algorithm ProofType  TotalCoinsMined  \\\n",
       "0            42      42 Coin       Scrypt   PoW/PoS     4.199995e+01   \n",
       "2           404      404Coin       Scrypt   PoW/PoS     1.055185e+09   \n",
       "4           808          808      SHA-256   PoW/PoS     0.000000e+00   \n",
       "5          1337    EliteCoin          X13   PoW/PoS     2.927942e+10   \n",
       "7           BTC      Bitcoin      SHA-256       PoW     1.792718e+07   \n",
       "...         ...          ...          ...       ...              ...   \n",
       "1238       ZEPH       ZEPHYR      SHA-256      DPoS     2.000000e+09   \n",
       "1242        GAP      Gapcoin       Scrypt   PoW/PoS     1.493105e+07   \n",
       "1245        BDX       Beldex  CryptoNight       PoW     9.802226e+08   \n",
       "1246        ZEN      Horizen     Equihash       PoW     7.296538e+06   \n",
       "1247        XBC  BitcoinPlus       Scrypt       PoS     1.283270e+05   \n",
       "\n",
       "     TotalCoinSupply  \n",
       "0                 42  \n",
       "2          532000000  \n",
       "4                  0  \n",
       "5       314159265359  \n",
       "7           21000000  \n",
       "...              ...  \n",
       "1238      2000000000  \n",
       "1242       250000000  \n",
       "1245      1400222610  \n",
       "1246        21000000  \n",
       "1247         1000000  \n",
       "\n",
       "[685 rows x 6 columns]"
      ]
     },
     "execution_count": 106,
     "metadata": {},
     "output_type": "execute_result"
    }
   ],
   "source": [
    "# Remove all cryptocurrencies with at least one null value\n",
    "crypto_df.dropna(inplace=True)\n",
    "crypto_df"
   ]
  },
  {
   "cell_type": "code",
   "execution_count": 107,
   "metadata": {},
   "outputs": [
    {
     "data": {
      "text/html": [
       "<div>\n",
       "<style scoped>\n",
       "    .dataframe tbody tr th:only-of-type {\n",
       "        vertical-align: middle;\n",
       "    }\n",
       "\n",
       "    .dataframe tbody tr th {\n",
       "        vertical-align: top;\n",
       "    }\n",
       "\n",
       "    .dataframe thead th {\n",
       "        text-align: right;\n",
       "    }\n",
       "</style>\n",
       "<table border=\"1\" class=\"dataframe\">\n",
       "  <thead>\n",
       "    <tr style=\"text-align: right;\">\n",
       "      <th></th>\n",
       "      <th>Unnamed: 0</th>\n",
       "      <th>CoinName</th>\n",
       "      <th>Algorithm</th>\n",
       "      <th>ProofType</th>\n",
       "      <th>TotalCoinsMined</th>\n",
       "      <th>TotalCoinSupply</th>\n",
       "    </tr>\n",
       "  </thead>\n",
       "  <tbody>\n",
       "    <tr>\n",
       "      <th>0</th>\n",
       "      <td>42</td>\n",
       "      <td>42 Coin</td>\n",
       "      <td>Scrypt</td>\n",
       "      <td>PoW/PoS</td>\n",
       "      <td>4.199995e+01</td>\n",
       "      <td>42</td>\n",
       "    </tr>\n",
       "    <tr>\n",
       "      <th>2</th>\n",
       "      <td>404</td>\n",
       "      <td>404Coin</td>\n",
       "      <td>Scrypt</td>\n",
       "      <td>PoW/PoS</td>\n",
       "      <td>1.055185e+09</td>\n",
       "      <td>532000000</td>\n",
       "    </tr>\n",
       "    <tr>\n",
       "      <th>5</th>\n",
       "      <td>1337</td>\n",
       "      <td>EliteCoin</td>\n",
       "      <td>X13</td>\n",
       "      <td>PoW/PoS</td>\n",
       "      <td>2.927942e+10</td>\n",
       "      <td>314159265359</td>\n",
       "    </tr>\n",
       "    <tr>\n",
       "      <th>7</th>\n",
       "      <td>BTC</td>\n",
       "      <td>Bitcoin</td>\n",
       "      <td>SHA-256</td>\n",
       "      <td>PoW</td>\n",
       "      <td>1.792718e+07</td>\n",
       "      <td>21000000</td>\n",
       "    </tr>\n",
       "    <tr>\n",
       "      <th>8</th>\n",
       "      <td>ETH</td>\n",
       "      <td>Ethereum</td>\n",
       "      <td>Ethash</td>\n",
       "      <td>PoW</td>\n",
       "      <td>1.076842e+08</td>\n",
       "      <td>0</td>\n",
       "    </tr>\n",
       "    <tr>\n",
       "      <th>...</th>\n",
       "      <td>...</td>\n",
       "      <td>...</td>\n",
       "      <td>...</td>\n",
       "      <td>...</td>\n",
       "      <td>...</td>\n",
       "      <td>...</td>\n",
       "    </tr>\n",
       "    <tr>\n",
       "      <th>1238</th>\n",
       "      <td>ZEPH</td>\n",
       "      <td>ZEPHYR</td>\n",
       "      <td>SHA-256</td>\n",
       "      <td>DPoS</td>\n",
       "      <td>2.000000e+09</td>\n",
       "      <td>2000000000</td>\n",
       "    </tr>\n",
       "    <tr>\n",
       "      <th>1242</th>\n",
       "      <td>GAP</td>\n",
       "      <td>Gapcoin</td>\n",
       "      <td>Scrypt</td>\n",
       "      <td>PoW/PoS</td>\n",
       "      <td>1.493105e+07</td>\n",
       "      <td>250000000</td>\n",
       "    </tr>\n",
       "    <tr>\n",
       "      <th>1245</th>\n",
       "      <td>BDX</td>\n",
       "      <td>Beldex</td>\n",
       "      <td>CryptoNight</td>\n",
       "      <td>PoW</td>\n",
       "      <td>9.802226e+08</td>\n",
       "      <td>1400222610</td>\n",
       "    </tr>\n",
       "    <tr>\n",
       "      <th>1246</th>\n",
       "      <td>ZEN</td>\n",
       "      <td>Horizen</td>\n",
       "      <td>Equihash</td>\n",
       "      <td>PoW</td>\n",
       "      <td>7.296538e+06</td>\n",
       "      <td>21000000</td>\n",
       "    </tr>\n",
       "    <tr>\n",
       "      <th>1247</th>\n",
       "      <td>XBC</td>\n",
       "      <td>BitcoinPlus</td>\n",
       "      <td>Scrypt</td>\n",
       "      <td>PoS</td>\n",
       "      <td>1.283270e+05</td>\n",
       "      <td>1000000</td>\n",
       "    </tr>\n",
       "  </tbody>\n",
       "</table>\n",
       "<p>532 rows × 6 columns</p>\n",
       "</div>"
      ],
      "text/plain": [
       "     Unnamed: 0     CoinName    Algorithm ProofType  TotalCoinsMined  \\\n",
       "0            42      42 Coin       Scrypt   PoW/PoS     4.199995e+01   \n",
       "2           404      404Coin       Scrypt   PoW/PoS     1.055185e+09   \n",
       "5          1337    EliteCoin          X13   PoW/PoS     2.927942e+10   \n",
       "7           BTC      Bitcoin      SHA-256       PoW     1.792718e+07   \n",
       "8           ETH     Ethereum       Ethash       PoW     1.076842e+08   \n",
       "...         ...          ...          ...       ...              ...   \n",
       "1238       ZEPH       ZEPHYR      SHA-256      DPoS     2.000000e+09   \n",
       "1242        GAP      Gapcoin       Scrypt   PoW/PoS     1.493105e+07   \n",
       "1245        BDX       Beldex  CryptoNight       PoW     9.802226e+08   \n",
       "1246        ZEN      Horizen     Equihash       PoW     7.296538e+06   \n",
       "1247        XBC  BitcoinPlus       Scrypt       PoS     1.283270e+05   \n",
       "\n",
       "     TotalCoinSupply  \n",
       "0                 42  \n",
       "2          532000000  \n",
       "5       314159265359  \n",
       "7           21000000  \n",
       "8                  0  \n",
       "...              ...  \n",
       "1238      2000000000  \n",
       "1242       250000000  \n",
       "1245      1400222610  \n",
       "1246        21000000  \n",
       "1247         1000000  \n",
       "\n",
       "[532 rows x 6 columns]"
      ]
     },
     "execution_count": 107,
     "metadata": {},
     "output_type": "execute_result"
    }
   ],
   "source": [
    "# Remove all cryptocurrencies without coins mined\n",
    "crypto_df = crypto_df[crypto_df[\"TotalCoinsMined\"] > 0]\n",
    "crypto_df"
   ]
  },
  {
   "cell_type": "code",
   "execution_count": 108,
   "metadata": {},
   "outputs": [
    {
     "data": {
      "text/html": [
       "<div>\n",
       "<style scoped>\n",
       "    .dataframe tbody tr th:only-of-type {\n",
       "        vertical-align: middle;\n",
       "    }\n",
       "\n",
       "    .dataframe tbody tr th {\n",
       "        vertical-align: top;\n",
       "    }\n",
       "\n",
       "    .dataframe thead th {\n",
       "        text-align: right;\n",
       "    }\n",
       "</style>\n",
       "<table border=\"1\" class=\"dataframe\">\n",
       "  <thead>\n",
       "    <tr style=\"text-align: right;\">\n",
       "      <th></th>\n",
       "      <th>CoinName</th>\n",
       "    </tr>\n",
       "  </thead>\n",
       "  <tbody>\n",
       "    <tr>\n",
       "      <th>42</th>\n",
       "      <td>42 Coin</td>\n",
       "    </tr>\n",
       "    <tr>\n",
       "      <th>404</th>\n",
       "      <td>404Coin</td>\n",
       "    </tr>\n",
       "    <tr>\n",
       "      <th>1337</th>\n",
       "      <td>EliteCoin</td>\n",
       "    </tr>\n",
       "    <tr>\n",
       "      <th>BTC</th>\n",
       "      <td>Bitcoin</td>\n",
       "    </tr>\n",
       "    <tr>\n",
       "      <th>ETH</th>\n",
       "      <td>Ethereum</td>\n",
       "    </tr>\n",
       "    <tr>\n",
       "      <th>...</th>\n",
       "      <td>...</td>\n",
       "    </tr>\n",
       "    <tr>\n",
       "      <th>ZEPH</th>\n",
       "      <td>ZEPHYR</td>\n",
       "    </tr>\n",
       "    <tr>\n",
       "      <th>GAP</th>\n",
       "      <td>Gapcoin</td>\n",
       "    </tr>\n",
       "    <tr>\n",
       "      <th>BDX</th>\n",
       "      <td>Beldex</td>\n",
       "    </tr>\n",
       "    <tr>\n",
       "      <th>ZEN</th>\n",
       "      <td>Horizen</td>\n",
       "    </tr>\n",
       "    <tr>\n",
       "      <th>XBC</th>\n",
       "      <td>BitcoinPlus</td>\n",
       "    </tr>\n",
       "  </tbody>\n",
       "</table>\n",
       "<p>532 rows × 1 columns</p>\n",
       "</div>"
      ],
      "text/plain": [
       "         CoinName\n",
       "42        42 Coin\n",
       "404       404Coin\n",
       "1337    EliteCoin\n",
       "BTC       Bitcoin\n",
       "ETH      Ethereum\n",
       "...           ...\n",
       "ZEPH       ZEPHYR\n",
       "GAP       Gapcoin\n",
       "BDX        Beldex\n",
       "ZEN       Horizen\n",
       "XBC   BitcoinPlus\n",
       "\n",
       "[532 rows x 1 columns]"
      ]
     },
     "execution_count": 108,
     "metadata": {},
     "output_type": "execute_result"
    }
   ],
   "source": [
    "# Store the names of all cryptocurrencies on a DataFramed named coins_name, \n",
    "# and use the crypto_df.index as the index for this new DataFrame\n",
    "coins_name = crypto_df[[\"Unnamed: 0\", \"CoinName\"]].set_index(\"Unnamed: 0\")\n",
    "coins_name.index.name = None\n",
    "coins_name"
   ]
  },
  {
   "cell_type": "code",
   "execution_count": 109,
   "metadata": {},
   "outputs": [
    {
     "data": {
      "text/html": [
       "<div>\n",
       "<style scoped>\n",
       "    .dataframe tbody tr th:only-of-type {\n",
       "        vertical-align: middle;\n",
       "    }\n",
       "\n",
       "    .dataframe tbody tr th {\n",
       "        vertical-align: top;\n",
       "    }\n",
       "\n",
       "    .dataframe thead th {\n",
       "        text-align: right;\n",
       "    }\n",
       "</style>\n",
       "<table border=\"1\" class=\"dataframe\">\n",
       "  <thead>\n",
       "    <tr style=\"text-align: right;\">\n",
       "      <th></th>\n",
       "      <th>Algorithm</th>\n",
       "      <th>ProofType</th>\n",
       "      <th>TotalCoinsMined</th>\n",
       "      <th>TotalCoinSupply</th>\n",
       "    </tr>\n",
       "  </thead>\n",
       "  <tbody>\n",
       "    <tr>\n",
       "      <th>42</th>\n",
       "      <td>Scrypt</td>\n",
       "      <td>PoW/PoS</td>\n",
       "      <td>4.199995e+01</td>\n",
       "      <td>42</td>\n",
       "    </tr>\n",
       "    <tr>\n",
       "      <th>404</th>\n",
       "      <td>Scrypt</td>\n",
       "      <td>PoW/PoS</td>\n",
       "      <td>1.055185e+09</td>\n",
       "      <td>532000000</td>\n",
       "    </tr>\n",
       "    <tr>\n",
       "      <th>1337</th>\n",
       "      <td>X13</td>\n",
       "      <td>PoW/PoS</td>\n",
       "      <td>2.927942e+10</td>\n",
       "      <td>314159265359</td>\n",
       "    </tr>\n",
       "    <tr>\n",
       "      <th>BTC</th>\n",
       "      <td>SHA-256</td>\n",
       "      <td>PoW</td>\n",
       "      <td>1.792718e+07</td>\n",
       "      <td>21000000</td>\n",
       "    </tr>\n",
       "    <tr>\n",
       "      <th>ETH</th>\n",
       "      <td>Ethash</td>\n",
       "      <td>PoW</td>\n",
       "      <td>1.076842e+08</td>\n",
       "      <td>0</td>\n",
       "    </tr>\n",
       "    <tr>\n",
       "      <th>...</th>\n",
       "      <td>...</td>\n",
       "      <td>...</td>\n",
       "      <td>...</td>\n",
       "      <td>...</td>\n",
       "    </tr>\n",
       "    <tr>\n",
       "      <th>ZEPH</th>\n",
       "      <td>SHA-256</td>\n",
       "      <td>DPoS</td>\n",
       "      <td>2.000000e+09</td>\n",
       "      <td>2000000000</td>\n",
       "    </tr>\n",
       "    <tr>\n",
       "      <th>GAP</th>\n",
       "      <td>Scrypt</td>\n",
       "      <td>PoW/PoS</td>\n",
       "      <td>1.493105e+07</td>\n",
       "      <td>250000000</td>\n",
       "    </tr>\n",
       "    <tr>\n",
       "      <th>BDX</th>\n",
       "      <td>CryptoNight</td>\n",
       "      <td>PoW</td>\n",
       "      <td>9.802226e+08</td>\n",
       "      <td>1400222610</td>\n",
       "    </tr>\n",
       "    <tr>\n",
       "      <th>ZEN</th>\n",
       "      <td>Equihash</td>\n",
       "      <td>PoW</td>\n",
       "      <td>7.296538e+06</td>\n",
       "      <td>21000000</td>\n",
       "    </tr>\n",
       "    <tr>\n",
       "      <th>XBC</th>\n",
       "      <td>Scrypt</td>\n",
       "      <td>PoS</td>\n",
       "      <td>1.283270e+05</td>\n",
       "      <td>1000000</td>\n",
       "    </tr>\n",
       "  </tbody>\n",
       "</table>\n",
       "<p>532 rows × 4 columns</p>\n",
       "</div>"
      ],
      "text/plain": [
       "        Algorithm ProofType  TotalCoinsMined TotalCoinSupply\n",
       "42         Scrypt   PoW/PoS     4.199995e+01              42\n",
       "404        Scrypt   PoW/PoS     1.055185e+09       532000000\n",
       "1337          X13   PoW/PoS     2.927942e+10    314159265359\n",
       "BTC       SHA-256       PoW     1.792718e+07        21000000\n",
       "ETH        Ethash       PoW     1.076842e+08               0\n",
       "...           ...       ...              ...             ...\n",
       "ZEPH      SHA-256      DPoS     2.000000e+09      2000000000\n",
       "GAP        Scrypt   PoW/PoS     1.493105e+07       250000000\n",
       "BDX   CryptoNight       PoW     9.802226e+08      1400222610\n",
       "ZEN      Equihash       PoW     7.296538e+06        21000000\n",
       "XBC        Scrypt       PoS     1.283270e+05         1000000\n",
       "\n",
       "[532 rows x 4 columns]"
      ]
     },
     "execution_count": 109,
     "metadata": {},
     "output_type": "execute_result"
    }
   ],
   "source": [
    "# Remove the CoinName column from crypto_df DataFrame\n",
    "crypto1_df = crypto_df.set_index(\"Unnamed: 0\")\n",
    "crypto1_df.drop(labels=[\"CoinName\"], axis=\"columns\", inplace=True)\n",
    "crypto1_df.index.name = None\n",
    "crypto1_df"
   ]
  },
  {
   "cell_type": "code",
   "execution_count": 110,
   "metadata": {},
   "outputs": [
    {
     "data": {
      "text/html": [
       "<div>\n",
       "<style scoped>\n",
       "    .dataframe tbody tr th:only-of-type {\n",
       "        vertical-align: middle;\n",
       "    }\n",
       "\n",
       "    .dataframe tbody tr th {\n",
       "        vertical-align: top;\n",
       "    }\n",
       "\n",
       "    .dataframe thead th {\n",
       "        text-align: right;\n",
       "    }\n",
       "</style>\n",
       "<table border=\"1\" class=\"dataframe\">\n",
       "  <thead>\n",
       "    <tr style=\"text-align: right;\">\n",
       "      <th></th>\n",
       "      <th>Algorithm</th>\n",
       "      <th>ProofType</th>\n",
       "      <th>TotalCoinsMined</th>\n",
       "      <th>TotalCoinSupply</th>\n",
       "    </tr>\n",
       "  </thead>\n",
       "  <tbody>\n",
       "    <tr>\n",
       "      <th>42</th>\n",
       "      <td>52</td>\n",
       "      <td>15</td>\n",
       "      <td>4.199995e+01</td>\n",
       "      <td>42</td>\n",
       "    </tr>\n",
       "    <tr>\n",
       "      <th>404</th>\n",
       "      <td>52</td>\n",
       "      <td>15</td>\n",
       "      <td>1.055185e+09</td>\n",
       "      <td>532000000</td>\n",
       "    </tr>\n",
       "    <tr>\n",
       "      <th>1337</th>\n",
       "      <td>66</td>\n",
       "      <td>15</td>\n",
       "      <td>2.927942e+10</td>\n",
       "      <td>314159265359</td>\n",
       "    </tr>\n",
       "    <tr>\n",
       "      <th>BTC</th>\n",
       "      <td>47</td>\n",
       "      <td>12</td>\n",
       "      <td>1.792718e+07</td>\n",
       "      <td>21000000</td>\n",
       "    </tr>\n",
       "    <tr>\n",
       "      <th>ETH</th>\n",
       "      <td>20</td>\n",
       "      <td>12</td>\n",
       "      <td>1.076842e+08</td>\n",
       "      <td>0</td>\n",
       "    </tr>\n",
       "    <tr>\n",
       "      <th>...</th>\n",
       "      <td>...</td>\n",
       "      <td>...</td>\n",
       "      <td>...</td>\n",
       "      <td>...</td>\n",
       "    </tr>\n",
       "    <tr>\n",
       "      <th>ZEPH</th>\n",
       "      <td>47</td>\n",
       "      <td>1</td>\n",
       "      <td>2.000000e+09</td>\n",
       "      <td>2000000000</td>\n",
       "    </tr>\n",
       "    <tr>\n",
       "      <th>GAP</th>\n",
       "      <td>52</td>\n",
       "      <td>15</td>\n",
       "      <td>1.493105e+07</td>\n",
       "      <td>250000000</td>\n",
       "    </tr>\n",
       "    <tr>\n",
       "      <th>BDX</th>\n",
       "      <td>10</td>\n",
       "      <td>12</td>\n",
       "      <td>9.802226e+08</td>\n",
       "      <td>1400222610</td>\n",
       "    </tr>\n",
       "    <tr>\n",
       "      <th>ZEN</th>\n",
       "      <td>18</td>\n",
       "      <td>12</td>\n",
       "      <td>7.296538e+06</td>\n",
       "      <td>21000000</td>\n",
       "    </tr>\n",
       "    <tr>\n",
       "      <th>XBC</th>\n",
       "      <td>52</td>\n",
       "      <td>7</td>\n",
       "      <td>1.283270e+05</td>\n",
       "      <td>1000000</td>\n",
       "    </tr>\n",
       "  </tbody>\n",
       "</table>\n",
       "<p>532 rows × 4 columns</p>\n",
       "</div>"
      ],
      "text/plain": [
       "      Algorithm  ProofType  TotalCoinsMined TotalCoinSupply\n",
       "42           52         15     4.199995e+01              42\n",
       "404          52         15     1.055185e+09       532000000\n",
       "1337         66         15     2.927942e+10    314159265359\n",
       "BTC          47         12     1.792718e+07        21000000\n",
       "ETH          20         12     1.076842e+08               0\n",
       "...         ...        ...              ...             ...\n",
       "ZEPH         47          1     2.000000e+09      2000000000\n",
       "GAP          52         15     1.493105e+07       250000000\n",
       "BDX          10         12     9.802226e+08      1400222610\n",
       "ZEN          18         12     7.296538e+06        21000000\n",
       "XBC          52          7     1.283270e+05         1000000\n",
       "\n",
       "[532 rows x 4 columns]"
      ]
     },
     "execution_count": 110,
     "metadata": {},
     "output_type": "execute_result"
    }
   ],
   "source": [
    "# Create dummies variables for all of the text features, and store the resulting data on a DataFrame named X\n",
    "from sklearn.preprocessing import LabelEncoder\n",
    "le = LabelEncoder()\n",
    "X = crypto1_df.copy()\n",
    "X['Algorithm'] = le.fit_transform(X['Algorithm'])\n",
    "X['ProofType'] = le.fit_transform(X['ProofType'])\n",
    "X"
   ]
  },
  {
   "cell_type": "code",
   "execution_count": 111,
   "metadata": {},
   "outputs": [
    {
     "data": {
      "text/html": [
       "<div>\n",
       "<style scoped>\n",
       "    .dataframe tbody tr th:only-of-type {\n",
       "        vertical-align: middle;\n",
       "    }\n",
       "\n",
       "    .dataframe tbody tr th {\n",
       "        vertical-align: top;\n",
       "    }\n",
       "\n",
       "    .dataframe thead th {\n",
       "        text-align: right;\n",
       "    }\n",
       "</style>\n",
       "<table border=\"1\" class=\"dataframe\">\n",
       "  <thead>\n",
       "    <tr style=\"text-align: right;\">\n",
       "      <th></th>\n",
       "      <th>TotalCoinsMined</th>\n",
       "      <th>TotalCoinSupply</th>\n",
       "      <th>Algorithm_1GB AES Pattern Search</th>\n",
       "      <th>Algorithm_536</th>\n",
       "      <th>Algorithm_Argon2d</th>\n",
       "      <th>Algorithm_BLAKE256</th>\n",
       "      <th>Algorithm_Blake</th>\n",
       "      <th>Algorithm_Blake2S</th>\n",
       "      <th>Algorithm_Blake2b</th>\n",
       "      <th>Algorithm_C11</th>\n",
       "      <th>...</th>\n",
       "      <th>ProofType_PoW/PoS</th>\n",
       "      <th>ProofType_PoW/PoS</th>\n",
       "      <th>ProofType_PoW/PoW</th>\n",
       "      <th>ProofType_PoW/nPoS</th>\n",
       "      <th>ProofType_Pos</th>\n",
       "      <th>ProofType_Proof of Authority</th>\n",
       "      <th>ProofType_Proof of Trust</th>\n",
       "      <th>ProofType_TPoS</th>\n",
       "      <th>ProofType_Zero-Knowledge Proof</th>\n",
       "      <th>ProofType_dPoW/PoW</th>\n",
       "    </tr>\n",
       "  </thead>\n",
       "  <tbody>\n",
       "    <tr>\n",
       "      <th>42</th>\n",
       "      <td>4.199995e+01</td>\n",
       "      <td>42</td>\n",
       "      <td>0</td>\n",
       "      <td>0</td>\n",
       "      <td>0</td>\n",
       "      <td>0</td>\n",
       "      <td>0</td>\n",
       "      <td>0</td>\n",
       "      <td>0</td>\n",
       "      <td>0</td>\n",
       "      <td>...</td>\n",
       "      <td>1</td>\n",
       "      <td>0</td>\n",
       "      <td>0</td>\n",
       "      <td>0</td>\n",
       "      <td>0</td>\n",
       "      <td>0</td>\n",
       "      <td>0</td>\n",
       "      <td>0</td>\n",
       "      <td>0</td>\n",
       "      <td>0</td>\n",
       "    </tr>\n",
       "    <tr>\n",
       "      <th>404</th>\n",
       "      <td>1.055185e+09</td>\n",
       "      <td>532000000</td>\n",
       "      <td>0</td>\n",
       "      <td>0</td>\n",
       "      <td>0</td>\n",
       "      <td>0</td>\n",
       "      <td>0</td>\n",
       "      <td>0</td>\n",
       "      <td>0</td>\n",
       "      <td>0</td>\n",
       "      <td>...</td>\n",
       "      <td>1</td>\n",
       "      <td>0</td>\n",
       "      <td>0</td>\n",
       "      <td>0</td>\n",
       "      <td>0</td>\n",
       "      <td>0</td>\n",
       "      <td>0</td>\n",
       "      <td>0</td>\n",
       "      <td>0</td>\n",
       "      <td>0</td>\n",
       "    </tr>\n",
       "    <tr>\n",
       "      <th>1337</th>\n",
       "      <td>2.927942e+10</td>\n",
       "      <td>314159265359</td>\n",
       "      <td>0</td>\n",
       "      <td>0</td>\n",
       "      <td>0</td>\n",
       "      <td>0</td>\n",
       "      <td>0</td>\n",
       "      <td>0</td>\n",
       "      <td>0</td>\n",
       "      <td>0</td>\n",
       "      <td>...</td>\n",
       "      <td>1</td>\n",
       "      <td>0</td>\n",
       "      <td>0</td>\n",
       "      <td>0</td>\n",
       "      <td>0</td>\n",
       "      <td>0</td>\n",
       "      <td>0</td>\n",
       "      <td>0</td>\n",
       "      <td>0</td>\n",
       "      <td>0</td>\n",
       "    </tr>\n",
       "    <tr>\n",
       "      <th>BTC</th>\n",
       "      <td>1.792718e+07</td>\n",
       "      <td>21000000</td>\n",
       "      <td>0</td>\n",
       "      <td>0</td>\n",
       "      <td>0</td>\n",
       "      <td>0</td>\n",
       "      <td>0</td>\n",
       "      <td>0</td>\n",
       "      <td>0</td>\n",
       "      <td>0</td>\n",
       "      <td>...</td>\n",
       "      <td>0</td>\n",
       "      <td>0</td>\n",
       "      <td>0</td>\n",
       "      <td>0</td>\n",
       "      <td>0</td>\n",
       "      <td>0</td>\n",
       "      <td>0</td>\n",
       "      <td>0</td>\n",
       "      <td>0</td>\n",
       "      <td>0</td>\n",
       "    </tr>\n",
       "    <tr>\n",
       "      <th>ETH</th>\n",
       "      <td>1.076842e+08</td>\n",
       "      <td>0</td>\n",
       "      <td>0</td>\n",
       "      <td>0</td>\n",
       "      <td>0</td>\n",
       "      <td>0</td>\n",
       "      <td>0</td>\n",
       "      <td>0</td>\n",
       "      <td>0</td>\n",
       "      <td>0</td>\n",
       "      <td>...</td>\n",
       "      <td>0</td>\n",
       "      <td>0</td>\n",
       "      <td>0</td>\n",
       "      <td>0</td>\n",
       "      <td>0</td>\n",
       "      <td>0</td>\n",
       "      <td>0</td>\n",
       "      <td>0</td>\n",
       "      <td>0</td>\n",
       "      <td>0</td>\n",
       "    </tr>\n",
       "    <tr>\n",
       "      <th>...</th>\n",
       "      <td>...</td>\n",
       "      <td>...</td>\n",
       "      <td>...</td>\n",
       "      <td>...</td>\n",
       "      <td>...</td>\n",
       "      <td>...</td>\n",
       "      <td>...</td>\n",
       "      <td>...</td>\n",
       "      <td>...</td>\n",
       "      <td>...</td>\n",
       "      <td>...</td>\n",
       "      <td>...</td>\n",
       "      <td>...</td>\n",
       "      <td>...</td>\n",
       "      <td>...</td>\n",
       "      <td>...</td>\n",
       "      <td>...</td>\n",
       "      <td>...</td>\n",
       "      <td>...</td>\n",
       "      <td>...</td>\n",
       "      <td>...</td>\n",
       "    </tr>\n",
       "    <tr>\n",
       "      <th>ZEPH</th>\n",
       "      <td>2.000000e+09</td>\n",
       "      <td>2000000000</td>\n",
       "      <td>0</td>\n",
       "      <td>0</td>\n",
       "      <td>0</td>\n",
       "      <td>0</td>\n",
       "      <td>0</td>\n",
       "      <td>0</td>\n",
       "      <td>0</td>\n",
       "      <td>0</td>\n",
       "      <td>...</td>\n",
       "      <td>0</td>\n",
       "      <td>0</td>\n",
       "      <td>0</td>\n",
       "      <td>0</td>\n",
       "      <td>0</td>\n",
       "      <td>0</td>\n",
       "      <td>0</td>\n",
       "      <td>0</td>\n",
       "      <td>0</td>\n",
       "      <td>0</td>\n",
       "    </tr>\n",
       "    <tr>\n",
       "      <th>GAP</th>\n",
       "      <td>1.493105e+07</td>\n",
       "      <td>250000000</td>\n",
       "      <td>0</td>\n",
       "      <td>0</td>\n",
       "      <td>0</td>\n",
       "      <td>0</td>\n",
       "      <td>0</td>\n",
       "      <td>0</td>\n",
       "      <td>0</td>\n",
       "      <td>0</td>\n",
       "      <td>...</td>\n",
       "      <td>1</td>\n",
       "      <td>0</td>\n",
       "      <td>0</td>\n",
       "      <td>0</td>\n",
       "      <td>0</td>\n",
       "      <td>0</td>\n",
       "      <td>0</td>\n",
       "      <td>0</td>\n",
       "      <td>0</td>\n",
       "      <td>0</td>\n",
       "    </tr>\n",
       "    <tr>\n",
       "      <th>BDX</th>\n",
       "      <td>9.802226e+08</td>\n",
       "      <td>1400222610</td>\n",
       "      <td>0</td>\n",
       "      <td>0</td>\n",
       "      <td>0</td>\n",
       "      <td>0</td>\n",
       "      <td>0</td>\n",
       "      <td>0</td>\n",
       "      <td>0</td>\n",
       "      <td>0</td>\n",
       "      <td>...</td>\n",
       "      <td>0</td>\n",
       "      <td>0</td>\n",
       "      <td>0</td>\n",
       "      <td>0</td>\n",
       "      <td>0</td>\n",
       "      <td>0</td>\n",
       "      <td>0</td>\n",
       "      <td>0</td>\n",
       "      <td>0</td>\n",
       "      <td>0</td>\n",
       "    </tr>\n",
       "    <tr>\n",
       "      <th>ZEN</th>\n",
       "      <td>7.296538e+06</td>\n",
       "      <td>21000000</td>\n",
       "      <td>0</td>\n",
       "      <td>0</td>\n",
       "      <td>0</td>\n",
       "      <td>0</td>\n",
       "      <td>0</td>\n",
       "      <td>0</td>\n",
       "      <td>0</td>\n",
       "      <td>0</td>\n",
       "      <td>...</td>\n",
       "      <td>0</td>\n",
       "      <td>0</td>\n",
       "      <td>0</td>\n",
       "      <td>0</td>\n",
       "      <td>0</td>\n",
       "      <td>0</td>\n",
       "      <td>0</td>\n",
       "      <td>0</td>\n",
       "      <td>0</td>\n",
       "      <td>0</td>\n",
       "    </tr>\n",
       "    <tr>\n",
       "      <th>XBC</th>\n",
       "      <td>1.283270e+05</td>\n",
       "      <td>1000000</td>\n",
       "      <td>0</td>\n",
       "      <td>0</td>\n",
       "      <td>0</td>\n",
       "      <td>0</td>\n",
       "      <td>0</td>\n",
       "      <td>0</td>\n",
       "      <td>0</td>\n",
       "      <td>0</td>\n",
       "      <td>...</td>\n",
       "      <td>0</td>\n",
       "      <td>0</td>\n",
       "      <td>0</td>\n",
       "      <td>0</td>\n",
       "      <td>0</td>\n",
       "      <td>0</td>\n",
       "      <td>0</td>\n",
       "      <td>0</td>\n",
       "      <td>0</td>\n",
       "      <td>0</td>\n",
       "    </tr>\n",
       "  </tbody>\n",
       "</table>\n",
       "<p>532 rows × 98 columns</p>\n",
       "</div>"
      ],
      "text/plain": [
       "      TotalCoinsMined TotalCoinSupply  Algorithm_1GB AES Pattern Search  \\\n",
       "42       4.199995e+01              42                                 0   \n",
       "404      1.055185e+09       532000000                                 0   \n",
       "1337     2.927942e+10    314159265359                                 0   \n",
       "BTC      1.792718e+07        21000000                                 0   \n",
       "ETH      1.076842e+08               0                                 0   \n",
       "...               ...             ...                               ...   \n",
       "ZEPH     2.000000e+09      2000000000                                 0   \n",
       "GAP      1.493105e+07       250000000                                 0   \n",
       "BDX      9.802226e+08      1400222610                                 0   \n",
       "ZEN      7.296538e+06        21000000                                 0   \n",
       "XBC      1.283270e+05         1000000                                 0   \n",
       "\n",
       "      Algorithm_536  Algorithm_Argon2d  Algorithm_BLAKE256  Algorithm_Blake  \\\n",
       "42                0                  0                   0                0   \n",
       "404               0                  0                   0                0   \n",
       "1337              0                  0                   0                0   \n",
       "BTC               0                  0                   0                0   \n",
       "ETH               0                  0                   0                0   \n",
       "...             ...                ...                 ...              ...   \n",
       "ZEPH              0                  0                   0                0   \n",
       "GAP               0                  0                   0                0   \n",
       "BDX               0                  0                   0                0   \n",
       "ZEN               0                  0                   0                0   \n",
       "XBC               0                  0                   0                0   \n",
       "\n",
       "      Algorithm_Blake2S  Algorithm_Blake2b  Algorithm_C11  ...  \\\n",
       "42                    0                  0              0  ...   \n",
       "404                   0                  0              0  ...   \n",
       "1337                  0                  0              0  ...   \n",
       "BTC                   0                  0              0  ...   \n",
       "ETH                   0                  0              0  ...   \n",
       "...                 ...                ...            ...  ...   \n",
       "ZEPH                  0                  0              0  ...   \n",
       "GAP                   0                  0              0  ...   \n",
       "BDX                   0                  0              0  ...   \n",
       "ZEN                   0                  0              0  ...   \n",
       "XBC                   0                  0              0  ...   \n",
       "\n",
       "      ProofType_PoW/PoS  ProofType_PoW/PoS   ProofType_PoW/PoW  \\\n",
       "42                    1                   0                  0   \n",
       "404                   1                   0                  0   \n",
       "1337                  1                   0                  0   \n",
       "BTC                   0                   0                  0   \n",
       "ETH                   0                   0                  0   \n",
       "...                 ...                 ...                ...   \n",
       "ZEPH                  0                   0                  0   \n",
       "GAP                   1                   0                  0   \n",
       "BDX                   0                   0                  0   \n",
       "ZEN                   0                   0                  0   \n",
       "XBC                   0                   0                  0   \n",
       "\n",
       "      ProofType_PoW/nPoS  ProofType_Pos  ProofType_Proof of Authority  \\\n",
       "42                     0              0                             0   \n",
       "404                    0              0                             0   \n",
       "1337                   0              0                             0   \n",
       "BTC                    0              0                             0   \n",
       "ETH                    0              0                             0   \n",
       "...                  ...            ...                           ...   \n",
       "ZEPH                   0              0                             0   \n",
       "GAP                    0              0                             0   \n",
       "BDX                    0              0                             0   \n",
       "ZEN                    0              0                             0   \n",
       "XBC                    0              0                             0   \n",
       "\n",
       "      ProofType_Proof of Trust  ProofType_TPoS  \\\n",
       "42                           0               0   \n",
       "404                          0               0   \n",
       "1337                         0               0   \n",
       "BTC                          0               0   \n",
       "ETH                          0               0   \n",
       "...                        ...             ...   \n",
       "ZEPH                         0               0   \n",
       "GAP                          0               0   \n",
       "BDX                          0               0   \n",
       "ZEN                          0               0   \n",
       "XBC                          0               0   \n",
       "\n",
       "      ProofType_Zero-Knowledge Proof  ProofType_dPoW/PoW  \n",
       "42                                 0                   0  \n",
       "404                                0                   0  \n",
       "1337                               0                   0  \n",
       "BTC                                0                   0  \n",
       "ETH                                0                   0  \n",
       "...                              ...                 ...  \n",
       "ZEPH                               0                   0  \n",
       "GAP                                0                   0  \n",
       "BDX                                0                   0  \n",
       "ZEN                                0                   0  \n",
       "XBC                                0                   0  \n",
       "\n",
       "[532 rows x 98 columns]"
      ]
     },
     "execution_count": 111,
     "metadata": {},
     "output_type": "execute_result"
    }
   ],
   "source": [
    "X1 = pd.get_dummies(crypto1_df, columns=[\"Algorithm\", \"ProofType\"])\n",
    "X1"
   ]
  },
  {
   "cell_type": "code",
   "execution_count": 112,
   "metadata": {},
   "outputs": [
    {
     "data": {
      "text/plain": [
       "array([[ 3.76459118e-01,  8.91356555e-01, -1.17108170e-01,\n",
       "        -1.52870298e-01],\n",
       "       [ 3.76459118e-01,  8.91356555e-01, -9.39695522e-02,\n",
       "        -1.45008997e-01],\n",
       "       [ 1.21543803e+00,  8.91356555e-01,  5.24945609e-01,\n",
       "         4.48942416e+00],\n",
       "       ...,\n",
       "       [-2.14047761e+00,  1.67233875e-03, -9.56133629e-02,\n",
       "        -1.32179374e-01],\n",
       "       [-1.66106109e+00,  1.67233875e-03, -1.16948169e-01,\n",
       "        -1.52559984e-01],\n",
       "       [ 3.76459118e-01, -1.48113469e+00, -1.17105357e-01,\n",
       "        -1.52855521e-01]])"
      ]
     },
     "execution_count": 112,
     "metadata": {},
     "output_type": "execute_result"
    }
   ],
   "source": [
    "# Use the StandardScaler from sklearn to standardize all of the data from the X DataFrame. \n",
    "X_scaled = StandardScaler().fit_transform(X)\n",
    "X_scaled"
   ]
  },
  {
   "cell_type": "code",
   "execution_count": 113,
   "metadata": {},
   "outputs": [
    {
     "data": {
      "text/plain": [
       "array([[-0.11710817, -0.1528703 , -0.0433963 , ..., -0.0433963 ,\n",
       "        -0.0433963 , -0.0433963 ],\n",
       "       [-0.09396955, -0.145009  , -0.0433963 , ..., -0.0433963 ,\n",
       "        -0.0433963 , -0.0433963 ],\n",
       "       [ 0.52494561,  4.48942416, -0.0433963 , ..., -0.0433963 ,\n",
       "        -0.0433963 , -0.0433963 ],\n",
       "       ...,\n",
       "       [-0.09561336, -0.13217937, -0.0433963 , ..., -0.0433963 ,\n",
       "        -0.0433963 , -0.0433963 ],\n",
       "       [-0.11694817, -0.15255998, -0.0433963 , ..., -0.0433963 ,\n",
       "        -0.0433963 , -0.0433963 ],\n",
       "       [-0.11710536, -0.15285552, -0.0433963 , ..., -0.0433963 ,\n",
       "        -0.0433963 , -0.0433963 ]])"
      ]
     },
     "execution_count": 113,
     "metadata": {},
     "output_type": "execute_result"
    }
   ],
   "source": [
    "X1_scaled = StandardScaler().fit_transform(X1)\n",
    "X1_scaled"
   ]
  },
  {
   "cell_type": "markdown",
   "metadata": {},
   "source": [
    "## Reducing Data Dimensions Using PCA"
   ]
  },
  {
   "cell_type": "code",
   "execution_count": 114,
   "metadata": {},
   "outputs": [
    {
     "data": {
      "text/html": [
       "<div>\n",
       "<style scoped>\n",
       "    .dataframe tbody tr th:only-of-type {\n",
       "        vertical-align: middle;\n",
       "    }\n",
       "\n",
       "    .dataframe tbody tr th {\n",
       "        vertical-align: top;\n",
       "    }\n",
       "\n",
       "    .dataframe thead th {\n",
       "        text-align: right;\n",
       "    }\n",
       "</style>\n",
       "<table border=\"1\" class=\"dataframe\">\n",
       "  <thead>\n",
       "    <tr style=\"text-align: right;\">\n",
       "      <th></th>\n",
       "      <th>PC1</th>\n",
       "      <th>PC2</th>\n",
       "      <th>PC3</th>\n",
       "    </tr>\n",
       "  </thead>\n",
       "  <tbody>\n",
       "    <tr>\n",
       "      <th>42</th>\n",
       "      <td>-0.417875</td>\n",
       "      <td>0.810296</td>\n",
       "      <td>0.372138</td>\n",
       "    </tr>\n",
       "    <tr>\n",
       "      <th>404</th>\n",
       "      <td>-0.396564</td>\n",
       "      <td>0.815135</td>\n",
       "      <td>0.373256</td>\n",
       "    </tr>\n",
       "    <tr>\n",
       "      <th>1337</th>\n",
       "      <td>3.124076</td>\n",
       "      <td>2.209780</td>\n",
       "      <td>0.504335</td>\n",
       "    </tr>\n",
       "    <tr>\n",
       "      <th>BTC</th>\n",
       "      <td>-0.192083</td>\n",
       "      <td>0.016266</td>\n",
       "      <td>-0.072910</td>\n",
       "    </tr>\n",
       "    <tr>\n",
       "      <th>ETH</th>\n",
       "      <td>-0.044116</td>\n",
       "      <td>-1.167492</td>\n",
       "      <td>1.012525</td>\n",
       "    </tr>\n",
       "    <tr>\n",
       "      <th>LTC</th>\n",
       "      <td>-0.217954</td>\n",
       "      <td>0.235824</td>\n",
       "      <td>-0.273789</td>\n",
       "    </tr>\n",
       "    <tr>\n",
       "      <th>DASH</th>\n",
       "      <td>-0.482771</td>\n",
       "      <td>1.336609</td>\n",
       "      <td>-0.110253</td>\n",
       "    </tr>\n",
       "    <tr>\n",
       "      <th>XMR</th>\n",
       "      <td>-0.001979</td>\n",
       "      <td>-1.518631</td>\n",
       "      <td>1.334156</td>\n",
       "    </tr>\n",
       "    <tr>\n",
       "      <th>ETC</th>\n",
       "      <td>-0.041907</td>\n",
       "      <td>-1.167016</td>\n",
       "      <td>1.012991</td>\n",
       "    </tr>\n",
       "    <tr>\n",
       "      <th>ZEC</th>\n",
       "      <td>-0.034542</td>\n",
       "      <td>-1.255502</td>\n",
       "      <td>1.092984</td>\n",
       "    </tr>\n",
       "  </tbody>\n",
       "</table>\n",
       "</div>"
      ],
      "text/plain": [
       "           PC1       PC2       PC3\n",
       "42   -0.417875  0.810296  0.372138\n",
       "404  -0.396564  0.815135  0.373256\n",
       "1337  3.124076  2.209780  0.504335\n",
       "BTC  -0.192083  0.016266 -0.072910\n",
       "ETH  -0.044116 -1.167492  1.012525\n",
       "LTC  -0.217954  0.235824 -0.273789\n",
       "DASH -0.482771  1.336609 -0.110253\n",
       "XMR  -0.001979 -1.518631  1.334156\n",
       "ETC  -0.041907 -1.167016  1.012991\n",
       "ZEC  -0.034542 -1.255502  1.092984"
      ]
     },
     "execution_count": 114,
     "metadata": {},
     "output_type": "execute_result"
    }
   ],
   "source": [
    "# Use the PCA algorithm from sklearn to reduce the dimensions of the X DataFrame down to three principal components\n",
    "pca = PCA(n_components=3)\n",
    "X_pca = pca.fit_transform(X_scaled)\n",
    "pcs_df = pd.DataFrame(data=X_pca, columns=[\"PC1\", \"PC2\", \"PC3\"]).set_index([X.index.tolist()])\n",
    "pcs_df.head(10)"
   ]
  },
  {
   "cell_type": "code",
   "execution_count": 119,
   "metadata": {},
   "outputs": [
    {
     "data": {
      "text/html": [
       "<div>\n",
       "<style scoped>\n",
       "    .dataframe tbody tr th:only-of-type {\n",
       "        vertical-align: middle;\n",
       "    }\n",
       "\n",
       "    .dataframe tbody tr th {\n",
       "        vertical-align: top;\n",
       "    }\n",
       "\n",
       "    .dataframe thead th {\n",
       "        text-align: right;\n",
       "    }\n",
       "</style>\n",
       "<table border=\"1\" class=\"dataframe\">\n",
       "  <thead>\n",
       "    <tr style=\"text-align: right;\">\n",
       "      <th></th>\n",
       "      <th>PC1</th>\n",
       "      <th>PC2</th>\n",
       "      <th>PC3</th>\n",
       "    </tr>\n",
       "  </thead>\n",
       "  <tbody>\n",
       "    <tr>\n",
       "      <th>42</th>\n",
       "      <td>-0.333437</td>\n",
       "      <td>1.076995</td>\n",
       "      <td>-0.507005</td>\n",
       "    </tr>\n",
       "    <tr>\n",
       "      <th>404</th>\n",
       "      <td>-0.316786</td>\n",
       "      <td>1.077155</td>\n",
       "      <td>-0.507448</td>\n",
       "    </tr>\n",
       "    <tr>\n",
       "      <th>1337</th>\n",
       "      <td>2.315273</td>\n",
       "      <td>1.692614</td>\n",
       "      <td>-0.555636</td>\n",
       "    </tr>\n",
       "    <tr>\n",
       "      <th>BTC</th>\n",
       "      <td>-0.149094</td>\n",
       "      <td>-1.288120</td>\n",
       "      <td>0.178030</td>\n",
       "    </tr>\n",
       "    <tr>\n",
       "      <th>ETH</th>\n",
       "      <td>-0.161280</td>\n",
       "      <td>-2.038474</td>\n",
       "      <td>0.364704</td>\n",
       "    </tr>\n",
       "    <tr>\n",
       "      <th>LTC</th>\n",
       "      <td>-0.170028</td>\n",
       "      <td>-1.090194</td>\n",
       "      <td>-0.034373</td>\n",
       "    </tr>\n",
       "    <tr>\n",
       "      <th>DASH</th>\n",
       "      <td>-0.391155</td>\n",
       "      <td>1.276606</td>\n",
       "      <td>-0.430337</td>\n",
       "    </tr>\n",
       "    <tr>\n",
       "      <th>XMR</th>\n",
       "      <td>-0.158948</td>\n",
       "      <td>-2.158690</td>\n",
       "      <td>0.369498</td>\n",
       "    </tr>\n",
       "    <tr>\n",
       "      <th>ETC</th>\n",
       "      <td>-0.159723</td>\n",
       "      <td>-2.038567</td>\n",
       "      <td>0.364674</td>\n",
       "    </tr>\n",
       "    <tr>\n",
       "      <th>ZEC</th>\n",
       "      <td>-0.129433</td>\n",
       "      <td>-2.218993</td>\n",
       "      <td>0.413702</td>\n",
       "    </tr>\n",
       "  </tbody>\n",
       "</table>\n",
       "</div>"
      ],
      "text/plain": [
       "           PC1       PC2       PC3\n",
       "42   -0.333437  1.076995 -0.507005\n",
       "404  -0.316786  1.077155 -0.507448\n",
       "1337  2.315273  1.692614 -0.555636\n",
       "BTC  -0.149094 -1.288120  0.178030\n",
       "ETH  -0.161280 -2.038474  0.364704\n",
       "LTC  -0.170028 -1.090194 -0.034373\n",
       "DASH -0.391155  1.276606 -0.430337\n",
       "XMR  -0.158948 -2.158690  0.369498\n",
       "ETC  -0.159723 -2.038567  0.364674\n",
       "ZEC  -0.129433 -2.218993  0.413702"
      ]
     },
     "execution_count": 119,
     "metadata": {},
     "output_type": "execute_result"
    }
   ],
   "source": [
    "pca = PCA(n_components=3)\n",
    "X1_pca = pca.fit_transform(X1_scaled)\n",
    "pcs1_df = pd.DataFrame(data=X1_pca, columns=[\"PC1\", \"PC2\", \"PC3\"]).set_index([X1.index.tolist()])\n",
    "pcs1_df.head(10)"
   ]
  },
  {
   "cell_type": "markdown",
   "metadata": {},
   "source": [
    "## Clustering Cryptocurrencies Using K-means"
   ]
  },
  {
   "cell_type": "code",
   "execution_count": 120,
   "metadata": {},
   "outputs": [
    {
     "data": {},
     "metadata": {},
     "output_type": "display_data"
    },
    {
     "data": {
      "application/vnd.holoviews_exec.v0+json": "",
      "text/html": [
       "<div id='1565'>\n",
       "\n",
       "\n",
       "\n",
       "\n",
       "\n",
       "  <div class=\"bk-root\" id=\"dd055589-6198-4922-b1cf-064e44ce1ee1\" data-root-id=\"1565\"></div>\n",
       "</div>\n",
       "<script type=\"application/javascript\">(function(root) {\n",
       "  function embed_document(root) {\n",
       "  var docs_json = {\"eaf495a7-d762-43df-b014-35b7dd548dab\":{\"roots\":{\"references\":[{\"attributes\":{},\"id\":\"1601\",\"type\":\"Selection\"},{\"attributes\":{\"active_drag\":\"auto\",\"active_inspect\":\"auto\",\"active_multi\":null,\"active_scroll\":\"auto\",\"active_tap\":\"auto\",\"tools\":[{\"id\":\"1569\"},{\"id\":\"1587\"},{\"id\":\"1588\"},{\"id\":\"1589\"},{\"id\":\"1590\"},{\"id\":\"1591\"}]},\"id\":\"1593\",\"type\":\"Toolbar\"},{\"attributes\":{\"callback\":null,\"renderers\":[{\"id\":\"1606\"}],\"tags\":[\"hv_created\"],\"tooltips\":[[\"k\",\"@{k}\"],[\"inertia\",\"@{inertia}\"]]},\"id\":\"1569\",\"type\":\"HoverTool\"},{\"attributes\":{\"end\":3988.4789487419484,\"reset_end\":3988.4789487419484,\"reset_start\":-232.27799939077698,\"start\":-232.27799939077698,\"tags\":[[[\"inertia\",\"inertia\",null]]]},\"id\":\"1568\",\"type\":\"Range1d\"},{\"attributes\":{\"margin\":[5,5,5,5],\"name\":\"HSpacer02593\",\"sizing_mode\":\"stretch_width\"},\"id\":\"1566\",\"type\":\"Spacer\"},{\"attributes\":{},\"id\":\"1620\",\"type\":\"UnionRenderers\"},{\"attributes\":{},\"id\":\"1587\",\"type\":\"SaveTool\"},{\"attributes\":{\"align\":null,\"below\":[{\"id\":\"1579\"}],\"center\":[{\"id\":\"1582\"},{\"id\":\"1586\"}],\"left\":[{\"id\":\"1583\"}],\"margin\":null,\"min_border_bottom\":10,\"min_border_left\":10,\"min_border_right\":10,\"min_border_top\":10,\"plot_height\":300,\"plot_width\":700,\"renderers\":[{\"id\":\"1606\"}],\"sizing_mode\":\"fixed\",\"title\":{\"id\":\"1571\"},\"toolbar\":{\"id\":\"1593\"},\"x_range\":{\"id\":\"1567\"},\"x_scale\":{\"id\":\"1575\"},\"y_range\":{\"id\":\"1568\"},\"y_scale\":{\"id\":\"1577\"}},\"id\":\"1570\",\"subtype\":\"Figure\",\"type\":\"Plot\"},{\"attributes\":{},\"id\":\"1575\",\"type\":\"LinearScale\"},{\"attributes\":{},\"id\":\"1589\",\"type\":\"WheelZoomTool\"},{\"attributes\":{\"ticks\":[1,2,3,4,5,6,7,8,9,10]},\"id\":\"1608\",\"type\":\"FixedTicker\"},{\"attributes\":{},\"id\":\"1588\",\"type\":\"PanTool\"},{\"attributes\":{\"children\":[{\"id\":\"1566\"},{\"id\":\"1570\"},{\"id\":\"1622\"}],\"margin\":[0,0,0,0],\"name\":\"Row02589\",\"tags\":[\"embedded\"]},\"id\":\"1565\",\"type\":\"Row\"},{\"attributes\":{\"text\":\"Elbow Curve\",\"text_color\":{\"value\":\"black\"},\"text_font_size\":{\"value\":\"12pt\"}},\"id\":\"1571\",\"type\":\"Title\"},{\"attributes\":{},\"id\":\"1609\",\"type\":\"BasicTickFormatter\"},{\"attributes\":{\"overlay\":{\"id\":\"1592\"}},\"id\":\"1590\",\"type\":\"BoxZoomTool\"},{\"attributes\":{\"end\":10.0,\"reset_end\":10.0,\"reset_start\":1.0,\"start\":1.0,\"tags\":[[[\"k\",\"k\",null]]]},\"id\":\"1567\",\"type\":\"Range1d\"},{\"attributes\":{},\"id\":\"1577\",\"type\":\"LinearScale\"},{\"attributes\":{\"line_color\":\"#1f77b3\",\"line_width\":2,\"x\":{\"field\":\"k\"},\"y\":{\"field\":\"inertia\"}},\"id\":\"1603\",\"type\":\"Line\"},{\"attributes\":{\"data\":{\"inertia\":{\"__ndarray__\":\"yUWLl39prEDz/l6NbE+jQF9kyieQVJdA1FaP+TODgEA3KLNq9BN2QHhzPZ+4WHFAKoJUZ98lakBuS32q5+FkQMZ0lj3/imFAkyJCaencXUA=\",\"dtype\":\"float64\",\"shape\":[10]},\"k\":[1,2,3,4,5,6,7,8,9,10]},\"selected\":{\"id\":\"1601\"},\"selection_policy\":{\"id\":\"1620\"}},\"id\":\"1600\",\"type\":\"ColumnDataSource\"},{\"attributes\":{},\"id\":\"1591\",\"type\":\"ResetTool\"},{\"attributes\":{\"axis_label\":\"inertia\",\"bounds\":\"auto\",\"formatter\":{\"id\":\"1613\"},\"major_label_orientation\":\"horizontal\",\"ticker\":{\"id\":\"1584\"}},\"id\":\"1583\",\"type\":\"LinearAxis\"},{\"attributes\":{\"margin\":[5,5,5,5],\"name\":\"HSpacer02594\",\"sizing_mode\":\"stretch_width\"},\"id\":\"1622\",\"type\":\"Spacer\"},{\"attributes\":{\"axis\":{\"id\":\"1579\"},\"grid_line_color\":null,\"ticker\":null},\"id\":\"1582\",\"type\":\"Grid\"},{\"attributes\":{\"line_alpha\":0.1,\"line_color\":\"#1f77b3\",\"line_width\":2,\"x\":{\"field\":\"k\"},\"y\":{\"field\":\"inertia\"}},\"id\":\"1604\",\"type\":\"Line\"},{\"attributes\":{\"axis_label\":\"k\",\"bounds\":\"auto\",\"formatter\":{\"id\":\"1609\"},\"major_label_orientation\":\"horizontal\",\"ticker\":{\"id\":\"1608\"}},\"id\":\"1579\",\"type\":\"LinearAxis\"},{\"attributes\":{\"data_source\":{\"id\":\"1600\"},\"glyph\":{\"id\":\"1603\"},\"hover_glyph\":null,\"muted_glyph\":{\"id\":\"1605\"},\"nonselection_glyph\":{\"id\":\"1604\"},\"selection_glyph\":null,\"view\":{\"id\":\"1607\"}},\"id\":\"1606\",\"type\":\"GlyphRenderer\"},{\"attributes\":{\"line_alpha\":0.2,\"line_color\":\"#1f77b3\",\"line_width\":2,\"x\":{\"field\":\"k\"},\"y\":{\"field\":\"inertia\"}},\"id\":\"1605\",\"type\":\"Line\"},{\"attributes\":{},\"id\":\"1613\",\"type\":\"BasicTickFormatter\"},{\"attributes\":{\"source\":{\"id\":\"1600\"}},\"id\":\"1607\",\"type\":\"CDSView\"},{\"attributes\":{},\"id\":\"1584\",\"type\":\"BasicTicker\"},{\"attributes\":{\"axis\":{\"id\":\"1583\"},\"dimension\":1,\"grid_line_color\":null,\"ticker\":null},\"id\":\"1586\",\"type\":\"Grid\"},{\"attributes\":{\"bottom_units\":\"screen\",\"fill_alpha\":0.5,\"fill_color\":\"lightgrey\",\"left_units\":\"screen\",\"level\":\"overlay\",\"line_alpha\":1.0,\"line_color\":\"black\",\"line_dash\":[4,4],\"line_width\":2,\"render_mode\":\"css\",\"right_units\":\"screen\",\"top_units\":\"screen\"},\"id\":\"1592\",\"type\":\"BoxAnnotation\"}],\"root_ids\":[\"1565\"]},\"title\":\"Bokeh Application\",\"version\":\"2.0.2\"}};\n",
       "  var render_items = [{\"docid\":\"eaf495a7-d762-43df-b014-35b7dd548dab\",\"root_ids\":[\"1565\"],\"roots\":{\"1565\":\"dd055589-6198-4922-b1cf-064e44ce1ee1\"}}];\n",
       "  root.Bokeh.embed.embed_items_notebook(docs_json, render_items);\n",
       "  }\n",
       "if (root.Bokeh !== undefined) {\n",
       "    embed_document(root);\n",
       "  } else {\n",
       "    var attempts = 0;\n",
       "    var timer = setInterval(function(root) {\n",
       "      if (root.Bokeh !== undefined) {\n",
       "        clearInterval(timer);\n",
       "        embed_document(root);\n",
       "      } else if (document.readyState == \"complete\") {\n",
       "        attempts++;\n",
       "        if (attempts > 100) {\n",
       "          clearInterval(timer);\n",
       "          console.log(\"Bokeh: ERROR: Unable to run BokehJS code because BokehJS library is missing\");\n",
       "        }\n",
       "      }\n",
       "    }, 10, root)\n",
       "  }\n",
       "})(window);</script>"
      ],
      "text/plain": [
       ":Curve   [k]   (inertia)"
      ]
     },
     "execution_count": 120,
     "metadata": {
      "application/vnd.holoviews_exec.v0+json": {
       "id": "1565"
      }
     },
     "output_type": "execute_result"
    }
   ],
   "source": [
    "# Create an elbow curve to find the best value for K, and use the pcs_df DataFrame\n",
    "# Find the best value for K\n",
    "inertia = []\n",
    "k = list(range(1, 11))\n",
    "\n",
    "# Calculate the inertia for the range of K values\n",
    "for i in k:\n",
    "    km = KMeans(n_clusters=i, random_state=0)\n",
    "    km.fit(pcs1_df)\n",
    "    inertia.append(km.inertia_)\n",
    "\n",
    "# Create the elbow curve\n",
    "elbow_data = {\"k\": k, \"inertia\": inertia}\n",
    "df_elbow = pd.DataFrame(elbow_data)\n",
    "df_elbow.hvplot.line(x=\"k\", y=\"inertia\", xticks=k, title=\"Elbow Curve\")"
   ]
  },
  {
   "cell_type": "code",
   "execution_count": 121,
   "metadata": {},
   "outputs": [],
   "source": [
    "# Run the K-means algorithm to predict the K clusters for the cryptocurrencies’ data\n",
    "model = KMeans(n_clusters=4, random_state=0)\n",
    "model.fit(pcs1_df)\n",
    "predictions = model.predict(pcs1_df)"
   ]
  },
  {
   "cell_type": "code",
   "execution_count": 123,
   "metadata": {},
   "outputs": [
    {
     "data": {
      "text/html": [
       "<div>\n",
       "<style scoped>\n",
       "    .dataframe tbody tr th:only-of-type {\n",
       "        vertical-align: middle;\n",
       "    }\n",
       "\n",
       "    .dataframe tbody tr th {\n",
       "        vertical-align: top;\n",
       "    }\n",
       "\n",
       "    .dataframe thead th {\n",
       "        text-align: right;\n",
       "    }\n",
       "</style>\n",
       "<table border=\"1\" class=\"dataframe\">\n",
       "  <thead>\n",
       "    <tr style=\"text-align: right;\">\n",
       "      <th></th>\n",
       "      <th>Algorithm</th>\n",
       "      <th>ProofType</th>\n",
       "      <th>TotalCoinsMined</th>\n",
       "      <th>TotalCoinSupply</th>\n",
       "      <th>PC1</th>\n",
       "      <th>PC2</th>\n",
       "      <th>PC3</th>\n",
       "      <th>CoinName</th>\n",
       "      <th>class</th>\n",
       "    </tr>\n",
       "  </thead>\n",
       "  <tbody>\n",
       "    <tr>\n",
       "      <th>42</th>\n",
       "      <td>Scrypt</td>\n",
       "      <td>PoW/PoS</td>\n",
       "      <td>4.199995e+01</td>\n",
       "      <td>42</td>\n",
       "      <td>-0.333437</td>\n",
       "      <td>1.076995</td>\n",
       "      <td>-0.507005</td>\n",
       "      <td>42 Coin</td>\n",
       "      <td>1</td>\n",
       "    </tr>\n",
       "    <tr>\n",
       "      <th>404</th>\n",
       "      <td>Scrypt</td>\n",
       "      <td>PoW/PoS</td>\n",
       "      <td>1.055185e+09</td>\n",
       "      <td>532000000</td>\n",
       "      <td>-0.316786</td>\n",
       "      <td>1.077155</td>\n",
       "      <td>-0.507448</td>\n",
       "      <td>404Coin</td>\n",
       "      <td>1</td>\n",
       "    </tr>\n",
       "    <tr>\n",
       "      <th>1337</th>\n",
       "      <td>X13</td>\n",
       "      <td>PoW/PoS</td>\n",
       "      <td>2.927942e+10</td>\n",
       "      <td>314159265359</td>\n",
       "      <td>2.315273</td>\n",
       "      <td>1.692614</td>\n",
       "      <td>-0.555636</td>\n",
       "      <td>EliteCoin</td>\n",
       "      <td>1</td>\n",
       "    </tr>\n",
       "    <tr>\n",
       "      <th>BTC</th>\n",
       "      <td>SHA-256</td>\n",
       "      <td>PoW</td>\n",
       "      <td>1.792718e+07</td>\n",
       "      <td>21000000</td>\n",
       "      <td>-0.149094</td>\n",
       "      <td>-1.288120</td>\n",
       "      <td>0.178030</td>\n",
       "      <td>Bitcoin</td>\n",
       "      <td>0</td>\n",
       "    </tr>\n",
       "    <tr>\n",
       "      <th>ETH</th>\n",
       "      <td>Ethash</td>\n",
       "      <td>PoW</td>\n",
       "      <td>1.076842e+08</td>\n",
       "      <td>0</td>\n",
       "      <td>-0.161280</td>\n",
       "      <td>-2.038474</td>\n",
       "      <td>0.364704</td>\n",
       "      <td>Ethereum</td>\n",
       "      <td>0</td>\n",
       "    </tr>\n",
       "    <tr>\n",
       "      <th>LTC</th>\n",
       "      <td>Scrypt</td>\n",
       "      <td>PoW</td>\n",
       "      <td>6.303924e+07</td>\n",
       "      <td>84000000</td>\n",
       "      <td>-0.170028</td>\n",
       "      <td>-1.090194</td>\n",
       "      <td>-0.034373</td>\n",
       "      <td>Litecoin</td>\n",
       "      <td>0</td>\n",
       "    </tr>\n",
       "    <tr>\n",
       "      <th>DASH</th>\n",
       "      <td>X11</td>\n",
       "      <td>PoW/PoS</td>\n",
       "      <td>9.031294e+06</td>\n",
       "      <td>22000000</td>\n",
       "      <td>-0.391155</td>\n",
       "      <td>1.276606</td>\n",
       "      <td>-0.430337</td>\n",
       "      <td>Dash</td>\n",
       "      <td>1</td>\n",
       "    </tr>\n",
       "    <tr>\n",
       "      <th>XMR</th>\n",
       "      <td>CryptoNight-V7</td>\n",
       "      <td>PoW</td>\n",
       "      <td>1.720114e+07</td>\n",
       "      <td>0</td>\n",
       "      <td>-0.158948</td>\n",
       "      <td>-2.158690</td>\n",
       "      <td>0.369498</td>\n",
       "      <td>Monero</td>\n",
       "      <td>0</td>\n",
       "    </tr>\n",
       "    <tr>\n",
       "      <th>ETC</th>\n",
       "      <td>Ethash</td>\n",
       "      <td>PoW</td>\n",
       "      <td>1.133597e+08</td>\n",
       "      <td>210000000</td>\n",
       "      <td>-0.159723</td>\n",
       "      <td>-2.038567</td>\n",
       "      <td>0.364674</td>\n",
       "      <td>Ethereum Classic</td>\n",
       "      <td>0</td>\n",
       "    </tr>\n",
       "    <tr>\n",
       "      <th>ZEC</th>\n",
       "      <td>Equihash</td>\n",
       "      <td>PoW</td>\n",
       "      <td>7.383056e+06</td>\n",
       "      <td>21000000</td>\n",
       "      <td>-0.129433</td>\n",
       "      <td>-2.218993</td>\n",
       "      <td>0.413702</td>\n",
       "      <td>ZCash</td>\n",
       "      <td>0</td>\n",
       "    </tr>\n",
       "  </tbody>\n",
       "</table>\n",
       "</div>"
      ],
      "text/plain": [
       "           Algorithm ProofType  TotalCoinsMined TotalCoinSupply       PC1  \\\n",
       "42            Scrypt   PoW/PoS     4.199995e+01              42 -0.333437   \n",
       "404           Scrypt   PoW/PoS     1.055185e+09       532000000 -0.316786   \n",
       "1337             X13   PoW/PoS     2.927942e+10    314159265359  2.315273   \n",
       "BTC          SHA-256       PoW     1.792718e+07        21000000 -0.149094   \n",
       "ETH           Ethash       PoW     1.076842e+08               0 -0.161280   \n",
       "LTC           Scrypt       PoW     6.303924e+07        84000000 -0.170028   \n",
       "DASH             X11   PoW/PoS     9.031294e+06        22000000 -0.391155   \n",
       "XMR   CryptoNight-V7       PoW     1.720114e+07               0 -0.158948   \n",
       "ETC           Ethash       PoW     1.133597e+08       210000000 -0.159723   \n",
       "ZEC         Equihash       PoW     7.383056e+06        21000000 -0.129433   \n",
       "\n",
       "           PC2       PC3          CoinName  class  \n",
       "42    1.076995 -0.507005           42 Coin      1  \n",
       "404   1.077155 -0.507448           404Coin      1  \n",
       "1337  1.692614 -0.555636         EliteCoin      1  \n",
       "BTC  -1.288120  0.178030           Bitcoin      0  \n",
       "ETH  -2.038474  0.364704          Ethereum      0  \n",
       "LTC  -1.090194 -0.034373          Litecoin      0  \n",
       "DASH  1.276606 -0.430337              Dash      1  \n",
       "XMR  -2.158690  0.369498            Monero      0  \n",
       "ETC  -2.038567  0.364674  Ethereum Classic      0  \n",
       "ZEC  -2.218993  0.413702             ZCash      0  "
      ]
     },
     "execution_count": 123,
     "metadata": {},
     "output_type": "execute_result"
    }
   ],
   "source": [
    "# Create a new DataFrame named “clustered_df,” that includes the following columns: \n",
    "# Algorithm, ProofType, TotalCoinsMined, TotalCoinSupply, PC 1, PC 2, PC 3, CoinName, and Class\n",
    "clustered_df = crypto1_df.copy()\n",
    "clustered_df = clustered_df.join(pcs1_df, how=\"inner\")\n",
    "clustered_df = clustered_df.join(coins_name, how=\"inner\")\n",
    "clustered_df[\"class\"] = model.labels_\n",
    "\n",
    "clustered_df.head(10)"
   ]
  },
  {
   "cell_type": "markdown",
   "metadata": {},
   "source": [
    "## Visualizing Results"
   ]
  },
  {
   "cell_type": "code",
   "execution_count": 129,
   "metadata": {},
   "outputs": [
    {
     "data": {
      "application/vnd.plotly.v1+json": {
       "config": {
        "plotlyServerURL": "https://plot.ly"
       },
       "data": [
        {
         "customdata": [
          [
           "Scrypt"
          ],
          [
           "Scrypt"
          ],
          [
           "X13"
          ],
          [
           "X11"
          ],
          [
           "SHA-512"
          ],
          [
           "SHA-256"
          ],
          [
           "SHA-256"
          ],
          [
           "X15"
          ],
          [
           "Scrypt"
          ],
          [
           "Scrypt"
          ],
          [
           "Scrypt"
          ],
          [
           "Scrypt"
          ],
          [
           "Scrypt"
          ],
          [
           "Groestl"
          ],
          [
           "PoS"
          ],
          [
           "Scrypt"
          ],
          [
           "Scrypt"
          ],
          [
           "X11"
          ],
          [
           "X11"
          ],
          [
           "SHA3"
          ],
          [
           "Scrypt"
          ],
          [
           "SHA-256"
          ],
          [
           "Scrypt"
          ],
          [
           "X13"
          ],
          [
           "X13"
          ],
          [
           "NeoScrypt"
          ],
          [
           "Scrypt"
          ],
          [
           "Scrypt"
          ],
          [
           "Scrypt"
          ],
          [
           "X11"
          ],
          [
           "X11"
          ],
          [
           "Multiple"
          ],
          [
           "PHI1612"
          ],
          [
           "X11"
          ],
          [
           "Scrypt"
          ],
          [
           "Scrypt"
          ],
          [
           "Scrypt"
          ],
          [
           "X11"
          ],
          [
           "Multiple"
          ],
          [
           "X13"
          ],
          [
           "Scrypt"
          ],
          [
           "Counterparty"
          ],
          [
           "SHA-256"
          ],
          [
           "Groestl"
          ],
          [
           "Scrypt"
          ],
          [
           "X13"
          ],
          [
           "Scrypt"
          ],
          [
           "Scrypt"
          ],
          [
           "X13"
          ],
          [
           "X11"
          ],
          [
           "Scrypt"
          ],
          [
           "X11"
          ],
          [
           "SHA3"
          ],
          [
           "QUAIT"
          ],
          [
           "X11"
          ],
          [
           "Scrypt"
          ],
          [
           "X13"
          ],
          [
           "SHA-256"
          ],
          [
           "X15"
          ],
          [
           "BLAKE256"
          ],
          [
           "SHA-256"
          ],
          [
           "X11"
          ],
          [
           "SHA-256"
          ],
          [
           "NIST5"
          ],
          [
           "Scrypt"
          ],
          [
           "Scrypt"
          ],
          [
           "X11"
          ],
          [
           "Scrypt"
          ],
          [
           "SHA-256"
          ],
          [
           "Scrypt"
          ],
          [
           "PoS"
          ],
          [
           "X11"
          ],
          [
           "SHA-256"
          ],
          [
           "SHA-256"
          ],
          [
           "NIST5"
          ],
          [
           "X11"
          ],
          [
           "POS 3.0"
          ],
          [
           "Scrypt"
          ],
          [
           "Scrypt"
          ],
          [
           "Scrypt"
          ],
          [
           "X13"
          ],
          [
           "X11"
          ],
          [
           "X11"
          ],
          [
           "Scrypt"
          ],
          [
           "SHA-256"
          ],
          [
           "X11"
          ],
          [
           "Scrypt"
          ],
          [
           "Scrypt"
          ],
          [
           "Scrypt"
          ],
          [
           "Scrypt"
          ],
          [
           "SHA-256D"
          ],
          [
           "PoS"
          ],
          [
           "Scrypt"
          ],
          [
           "X11"
          ],
          [
           "PoS"
          ],
          [
           "X13"
          ],
          [
           "X14"
          ],
          [
           "PoS"
          ],
          [
           "SHA-256D"
          ],
          [
           "DPoS"
          ],
          [
           "X11"
          ],
          [
           "X13"
          ],
          [
           "X11"
          ],
          [
           "PoS"
          ],
          [
           "Scrypt"
          ],
          [
           "Scrypt"
          ],
          [
           "PoS"
          ],
          [
           "X11"
          ],
          [
           "SHA-256"
          ],
          [
           "Scrypt"
          ],
          [
           "X11"
          ],
          [
           "Scrypt"
          ],
          [
           "Scrypt"
          ],
          [
           "X11"
          ],
          [
           "Scrypt"
          ],
          [
           "Scrypt"
          ],
          [
           "Scrypt"
          ],
          [
           "Scrypt"
          ],
          [
           "Quark"
          ],
          [
           "QuBit"
          ],
          [
           "Scrypt"
          ],
          [
           "SHA-256"
          ],
          [
           "X11"
          ],
          [
           "Scrypt"
          ],
          [
           "Scrypt"
          ],
          [
           "Scrypt"
          ],
          [
           "Scrypt"
          ],
          [
           "X13"
          ],
          [
           "Scrypt"
          ],
          [
           "Scrypt"
          ],
          [
           "X11"
          ],
          [
           "Blake2S"
          ],
          [
           "X11"
          ],
          [
           "PoS"
          ],
          [
           "X11"
          ],
          [
           "PoS"
          ],
          [
           "X11"
          ],
          [
           "Scrypt"
          ],
          [
           "Scrypt"
          ],
          [
           "Scrypt"
          ],
          [
           "SHA-256"
          ],
          [
           "X11"
          ],
          [
           "Scrypt"
          ],
          [
           "PoS"
          ],
          [
           "Scrypt"
          ],
          [
           "X15"
          ],
          [
           "SHA-256"
          ],
          [
           "POS 3.0"
          ],
          [
           "536"
          ],
          [
           "NIST5"
          ],
          [
           "NIST5"
          ],
          [
           "Skein"
          ],
          [
           "X13"
          ],
          [
           "Scrypt"
          ],
          [
           "X13"
          ],
          [
           "SkunkHash v2 Raptor"
          ],
          [
           "Skein"
          ],
          [
           "X11"
          ],
          [
           "Scrypt"
          ],
          [
           "PoS"
          ],
          [
           "Scrypt"
          ],
          [
           "Scrypt"
          ],
          [
           "SHA-512"
          ],
          [
           "Ouroboros"
          ],
          [
           "X11"
          ],
          [
           "NeoScrypt"
          ],
          [
           "Scrypt"
          ],
          [
           "Lyra2REv2"
          ],
          [
           "Scrypt"
          ],
          [
           "SHA-256"
          ],
          [
           "NIST5"
          ],
          [
           "PHI1612"
          ],
          [
           "Scrypt"
          ],
          [
           "Quark"
          ],
          [
           "POS 2.0"
          ],
          [
           "Scrypt"
          ],
          [
           "SHA-256"
          ],
          [
           "X11"
          ],
          [
           "DPoS"
          ],
          [
           "NIST5"
          ],
          [
           "X13"
          ],
          [
           "Scrypt"
          ],
          [
           "NIST5"
          ],
          [
           "Quark"
          ],
          [
           "Scrypt"
          ],
          [
           "Scrypt"
          ],
          [
           "X11"
          ],
          [
           "Quark"
          ],
          [
           "Scrypt"
          ],
          [
           "Scrypt"
          ],
          [
           "X11"
          ],
          [
           "POS 3.0"
          ],
          [
           "Scrypt"
          ],
          [
           "Scrypt"
          ],
          [
           "X13"
          ],
          [
           "C11"
          ],
          [
           "X11"
          ],
          [
           "XEVAN"
          ],
          [
           "Scrypt"
          ],
          [
           "VBFT"
          ],
          [
           "NIST5"
          ],
          [
           "Scrypt"
          ],
          [
           "Scrypt"
          ],
          [
           "Scrypt"
          ],
          [
           "Green Protocol"
          ],
          [
           "PoS"
          ],
          [
           "Scrypt"
          ],
          [
           "Semux BFT consensus"
          ],
          [
           "Quark"
          ],
          [
           "PoS"
          ],
          [
           "X16R"
          ],
          [
           "Scrypt"
          ],
          [
           "XEVAN"
          ],
          [
           "Scrypt"
          ],
          [
           "Scrypt"
          ],
          [
           "Scrypt"
          ],
          [
           "SHA-256D"
          ],
          [
           "Scrypt"
          ],
          [
           "X15"
          ],
          [
           "Scrypt"
          ],
          [
           "Quark"
          ],
          [
           "SHA-256"
          ],
          [
           "DPoS"
          ],
          [
           "X16R"
          ],
          [
           "Quark"
          ],
          [
           "Quark"
          ],
          [
           "Scrypt"
          ],
          [
           "Lyra2REv2"
          ],
          [
           "Quark"
          ],
          [
           "Scrypt"
          ],
          [
           "X11"
          ],
          [
           "X11"
          ],
          [
           "Scrypt"
          ],
          [
           "PoS"
          ],
          [
           "Keccak"
          ],
          [
           "X11"
          ],
          [
           "Scrypt"
          ],
          [
           "SHA-512"
          ],
          [
           "XEVAN"
          ],
          [
           "XEVAN"
          ],
          [
           "X11"
          ],
          [
           "Quark"
          ],
          [
           "Scrypt"
          ],
          [
           "Quark"
          ],
          [
           "Quark"
          ],
          [
           "Scrypt"
          ],
          [
           "X11"
          ],
          [
           "Scrypt"
          ],
          [
           "XEVAN"
          ],
          [
           "SHA-256D"
          ],
          [
           "X11"
          ],
          [
           "X11"
          ],
          [
           "DPoS"
          ],
          [
           "Scrypt"
          ],
          [
           "X11"
          ],
          [
           "Scrypt"
          ],
          [
           "Scrypt"
          ],
          [
           "SHA-256"
          ],
          [
           "Scrypt"
          ],
          [
           "X11"
          ],
          [
           "Scrypt"
          ],
          [
           "SHA-256"
          ],
          [
           "X11"
          ],
          [
           "Scrypt"
          ],
          [
           "Scrypt"
          ],
          [
           "X11"
          ],
          [
           "Scrypt"
          ],
          [
           "PoS"
          ],
          [
           "X11"
          ],
          [
           "SHA-256"
          ],
          [
           "DPoS"
          ],
          [
           "Scrypt"
          ],
          [
           "Scrypt"
          ],
          [
           "NeoScrypt"
          ],
          [
           "X13"
          ],
          [
           "DPoS"
          ],
          [
           "DPoS"
          ],
          [
           "SHA-256"
          ],
          [
           "PoS"
          ],
          [
           "PoS"
          ],
          [
           "SHA-256"
          ],
          [
           "Scrypt"
          ],
          [
           "Scrypt"
          ]
         ],
         "hovertemplate": "<b>%{hovertext}</b><br><br>class=%{marker.color}<br>PC1=%{x}<br>PC2=%{y}<br>PC3=%{z}<br>Algorithm=%{customdata[0]}<extra></extra>",
         "hovertext": [
          "42 Coin",
          "404Coin",
          "EliteCoin",
          "Dash",
          "Bitshares",
          "BitcoinDark",
          "PayCoin",
          "KoboCoin",
          "Aurora Coin",
          "BlueCoin",
          "EnergyCoin",
          "BitBar",
          "CryptoBullion",
          "Diamond",
          "Exclusive Coin",
          "FlutterCoin",
          "HoboNickels",
          "HyperStake",
          "IOCoin",
          "MaxCoin",
          "MintCoin",
          "MazaCoin",
          "Nautilus Coin",
          "NavCoin",
          "OpalCoin",
          "Orbitcoin",
          "PotCoin",
          "PhoenixCoin",
          "Reddcoin",
          "SuperCoin",
          "SyncCoin",
          "TeslaCoin",
          "TittieCoin",
          "TorCoin",
          "UnitaryStatus Dollar",
          "UltraCoin",
          "VeriCoin",
          "X11 Coin",
          "Crypti",
          "StealthCoin",
          "ZCC Coin",
          "StorjCoin",
          "Neutron",
          "FairCoin",
          "RubyCoin",
          "Kore",
          "Dnotes",
          "8BIT Coin",
          "Sativa Coin",
          "Ucoin",
          "Vtorrent",
          "IslaCoin",
          "Nexus",
          "Droidz",
          "Squall Coin",
          "Diggits",
          "Paycon",
          "Emercoin",
          "EverGreenCoin",
          "Decred",
          "EDRCoin",
          "Hitcoin",
          "DubaiCoin",
          "PWR Coin",
          "BillaryCoin",
          "GPU Coin",
          "EuropeCoin",
          "ZeitCoin",
          "SwingCoin",
          "SafeExchangeCoin",
          "Nebuchadnezzar",
          "Ratecoin",
          "Revenu",
          "Clockcoin",
          "VIP Tokens",
          "BitSend",
          "Let it Ride",
          "PutinCoin",
          "iBankCoin",
          "Frankywillcoin",
          "MudraCoin",
          "Lutetium Coin",
          "GoldBlocks",
          "CarterCoin",
          "BitTokens",
          "MustangCoin",
          "ZoneCoin",
          "RootCoin",
          "BitCurrency",
          "Swiscoin",
          "BuzzCoin",
          "Opair",
          "PesoBit",
          "Halloween Coin",
          "CoffeeCoin",
          "RoyalCoin",
          "GanjaCoin V2",
          "TeamUP",
          "LanaCoin",
          "ARK",
          "InsaneCoin",
          "EmberCoin",
          "XenixCoin",
          "FreeCoin",
          "PLNCoin",
          "AquariusCoin",
          "Creatio",
          "Eternity",
          "Eurocoin",
          "BitcoinFast",
          "Stakenet",
          "BitConnect Coin",
          "MoneyCoin",
          "Enigma",
          "Russiacoin",
          "PandaCoin",
          "GameUnits",
          "GAKHcoin",
          "Allsafe",
          "LiteCreed",
          "Klingon Empire Darsek",
          "Internet of People",
          "KushCoin",
          "Printerium",
          "Impeach",
          "Zilbercoin",
          "FirstCoin",
          "FindCoin",
          "OpenChat",
          "RenosCoin",
          "VirtacoinPlus",
          "TajCoin",
          "Impact",
          "Atmos",
          "HappyCoin",
          "MacronCoin",
          "Condensate",
          "Independent Money System",
          "ArgusCoin",
          "LomoCoin",
          "ProCurrency",
          "GoldReserve",
          "GrowthCoin",
          "Phreak",
          "Degas Coin",
          "HTML5 Coin",
          "Ultimate Secure Cash",
          "QTUM",
          "Espers",
          "Denarius",
          "Virta Unique Coin",
          "Bitcoin Planet",
          "BritCoin",
          "Linda",
          "DeepOnion",
          "Signatum",
          "Cream",
          "Monoeci",
          "Draftcoin",
          "Stakecoin",
          "CoinonatX",
          "Ethereum Dark",
          "Obsidian",
          "Cardano",
          "Regalcoin",
          "TrezarCoin",
          "TerraNovaCoin",
          "Rupee",
          "WomenCoin",
          "Theresa May Coin",
          "NamoCoin",
          "LUXCoin",
          "Xios",
          "Bitcloud 2.0",
          "KekCoin",
          "BlackholeCoin",
          "Infinity Economics",
          "Magnet",
          "Lamden Tau",
          "Electra",
          "Bitcoin Diamond",
          "Cash & Back Coin",
          "Bulwark",
          "Kalkulus",
          "GermanCoin",
          "LiteCoin Ultra",
          "PhantomX",
          "Digiwage",
          "Trollcoin",
          "Litecoin Plus",
          "Monkey Project",
          "TokenPay",
          "My Big Coin",
          "Unified Society USDEX",
          "Tokyo Coin",
          "Stipend",
          "Pushi",
          "Ellerium",
          "Velox",
          "Ontology",
          "Bitspace",
          "Briacoin",
          "Ignition",
          "MedicCoin",
          "Bitcoin Green",
          "Deviant Coin",
          "Abjcoin",
          "Semux",
          "Carebit",
          "Zealium",
          "Proton",
          "iDealCash",
          "Bitcoin Incognito",
          "HollyWoodCoin",
          "Swisscoin",
          "Xt3ch",
          "TheVig",
          "EmaratCoin",
          "Dekado",
          "Lynx",
          "Poseidon Quark",
          "BitcoinWSpectrum",
          "Muse",
          "Trivechain",
          "Dystem",
          "Giant",
          "Peony Coin",
          "Absolute Coin",
          "Vitae",
          "TPCash",
          "ARENON",
          "EUNO",
          "MMOCoin",
          "Ketan",
          "XDNA",
          "PAXEX",
          "ThunderStake",
          "Kcash",
          "Bettex coin",
          "BitMoney",
          "Junson Ming Chan Coin",
          "HerbCoin",
          "Oduwa",
          "Galilel",
          "Crypto Sports",
          "Credit",
          "Dash Platinum",
          "Nasdacoin",
          "Beetle Coin",
          "Titan Coin",
          "Award",
          "Insane Coin",
          "ALAX",
          "LiteDoge",
          "TruckCoin",
          "OrangeCoin",
          "BitstarCoin",
          "NeosCoin",
          "HyperCoin",
          "PinkCoin",
          "AudioCoin",
          "IncaKoin",
          "Piggy Coin",
          "Genstake",
          "XiaoMiCoin",
          "CapriCoin",
          " ClubCoin",
          "Radium",
          "Creditbit ",
          "OKCash",
          "Lisk",
          "HiCoin",
          "WhiteCoin",
          "FriendshipCoin",
          "Triangles Coin",
          "EOS",
          "Oxycoin",
          "TigerCash",
          "Particl",
          "Nxt",
          "ZEPHYR",
          "Gapcoin",
          "BitcoinPlus"
         ],
         "legendgroup": "1",
         "marker": {
          "color": [
           1,
           1,
           1,
           1,
           1,
           1,
           1,
           1,
           1,
           1,
           1,
           1,
           1,
           1,
           1,
           1,
           1,
           1,
           1,
           1,
           1,
           1,
           1,
           1,
           1,
           1,
           1,
           1,
           1,
           1,
           1,
           1,
           1,
           1,
           1,
           1,
           1,
           1,
           1,
           1,
           1,
           1,
           1,
           1,
           1,
           1,
           1,
           1,
           1,
           1,
           1,
           1,
           1,
           1,
           1,
           1,
           1,
           1,
           1,
           1,
           1,
           1,
           1,
           1,
           1,
           1,
           1,
           1,
           1,
           1,
           1,
           1,
           1,
           1,
           1,
           1,
           1,
           1,
           1,
           1,
           1,
           1,
           1,
           1,
           1,
           1,
           1,
           1,
           1,
           1,
           1,
           1,
           1,
           1,
           1,
           1,
           1,
           1,
           1,
           1,
           1,
           1,
           1,
           1,
           1,
           1,
           1,
           1,
           1,
           1,
           1,
           1,
           1,
           1,
           1,
           1,
           1,
           1,
           1,
           1,
           1,
           1,
           1,
           1,
           1,
           1,
           1,
           1,
           1,
           1,
           1,
           1,
           1,
           1,
           1,
           1,
           1,
           1,
           1,
           1,
           1,
           1,
           1,
           1,
           1,
           1,
           1,
           1,
           1,
           1,
           1,
           1,
           1,
           1,
           1,
           1,
           1,
           1,
           1,
           1,
           1,
           1,
           1,
           1,
           1,
           1,
           1,
           1,
           1,
           1,
           1,
           1,
           1,
           1,
           1,
           1,
           1,
           1,
           1,
           1,
           1,
           1,
           1,
           1,
           1,
           1,
           1,
           1,
           1,
           1,
           1,
           1,
           1,
           1,
           1,
           1,
           1,
           1,
           1,
           1,
           1,
           1,
           1,
           1,
           1,
           1,
           1,
           1,
           1,
           1,
           1,
           1,
           1,
           1,
           1,
           1,
           1,
           1,
           1,
           1,
           1,
           1,
           1,
           1,
           1,
           1,
           1,
           1,
           1,
           1,
           1,
           1,
           1,
           1,
           1,
           1,
           1,
           1,
           1,
           1,
           1,
           1,
           1,
           1,
           1,
           1,
           1,
           1,
           1,
           1,
           1,
           1,
           1,
           1,
           1,
           1,
           1,
           1,
           1,
           1,
           1,
           1,
           1,
           1,
           1,
           1,
           1,
           1,
           1,
           1,
           1,
           1,
           1,
           1,
           1,
           1,
           1,
           1,
           1,
           1,
           1,
           1,
           1
          ],
          "coloraxis": "coloraxis",
          "symbol": "circle"
         },
         "mode": "markers",
         "name": "1",
         "scene": "scene",
         "showlegend": true,
         "type": "scatter3d",
         "x": [
          -0.3334370781677879,
          -0.3167860928795252,
          2.3152725107111642,
          -0.3911551113209266,
          -0.3207219273051736,
          -0.3113352021383226,
          -0.26793271219590126,
          -0.25519088309638244,
          -0.33309688339378957,
          -0.3256796012048291,
          -0.33193468515174024,
          -0.3334330169359549,
          -0.33341730864376173,
          -0.3569857174382808,
          -0.34163968541044293,
          -0.2841612969388489,
          -0.3314971448847462,
          -0.32759018056905637,
          -0.39104987998252244,
          -0.3780953656316171,
          -0.03013428704803567,
          -0.27466585512020153,
          -0.28978583803513724,
          -0.26701470334038796,
          -0.26763648357325576,
          -0.36401413485260203,
          -0.3277430950906898,
          -0.3318398836995284,
          0.024457644095054857,
          -0.34746308547106763,
          -0.3914212046212679,
          -0.26071590831061775,
          -0.30476237992446065,
          -0.39133290119696656,
          -0.30868558617236797,
          -0.3321153465172442,
          -0.27422104514100093,
          -0.3912974035052969,
          -0.2611833645194732,
          -0.26741749797969827,
          -0.32454592837244456,
          -0.34295553794809164,
          -0.3105474417008091,
          -0.3564076806633247,
          -0.28976611749820763,
          -0.2677118136161956,
          -0.2844236373478468,
          -0.3334191590604785,
          -0.26766403280659035,
          -0.3479076155397653,
          -0.3331537157850863,
          -0.3914027462457404,
          -0.32956479175569536,
          -0.4312064684805776,
          -0.3741285669984985,
          -0.28816871683624284,
          -0.2671859838996886,
          -0.3038966716000566,
          -0.25763077496891024,
          -0.08909923309209467,
          -0.31130613613277247,
          -0.06908259925085829,
          -0.3113697912059463,
          -0.24076050800891247,
          -0.33302967294194635,
          -0.2880378046097676,
          -0.3885737478625181,
          0.8626187728812639,
          -0.31116998026047415,
          0.008961822070490436,
          -0.3413231695500859,
          -0.3892471996319085,
          -0.3099143186366163,
          -0.30758404122183824,
          -0.36203548166444705,
          -0.39013875587234215,
          -0.3648115585974699,
          -0.3093416948302761,
          -0.33306774346084966,
          -0.331507800525573,
          -0.22300450556289486,
          -0.3354067829526069,
          -0.3908769951616131,
          -0.3322725003686534,
          -0.31135075224541847,
          -0.3913919441181647,
          -0.33325678427130784,
          -0.33341339613297793,
          -0.2880274759173625,
          -0.24124311404018625,
          0.05184689190936188,
          -0.34028094646052326,
          -0.333027818964695,
          -0.37756328781583515,
          -0.3396100615725137,
          -0.22443419974041273,
          -0.4329420723972555,
          -0.33935907392002473,
          -0.2624670957320207,
          3.7473555198466357,
          -0.3909847575654947,
          0.8637225568840736,
          -0.3913468846717156,
          -0.3407443860143327,
          -0.33295540906695353,
          -0.3331096274547173,
          -0.3413231695500859,
          -0.3909220616761692,
          -0.3112135202404044,
          -0.3329561465208446,
          -0.3288106548466255,
          -0.33310343748509885,
          -0.3286942753645244,
          -0.3913758581162611,
          -0.3323146404867906,
          0.35305449976638326,
          -0.33330258194330165,
          -0.3333731081753758,
          -0.35819914680823595,
          -0.3628599862035605,
          -0.3296022843687035,
          -0.3113271821996706,
          -0.3912858700403915,
          -0.3331510664997481,
          -0.33327793137317163,
          -0.2896726711287672,
          -0.25145914864102575,
          -0.22420220926411594,
          -0.3141442944529794,
          -0.28941398807449686,
          -0.3905520872297866,
          -0.39258452630698093,
          -0.3892913237812543,
          -0.33957089754946,
          -0.3904500428407183,
          -0.33397455846874485,
          -0.38639367463616064,
          -0.33322125728038676,
          -0.3332204450268003,
          -0.32634654091296894,
          0.2643923285708226,
          -0.3909282144669897,
          -0.2723260102508991,
          -0.34135743635138466,
          -0.332432458139606,
          0.8759963555412953,
          -0.2666239552363269,
          -0.3635907265954092,
          0.5981378266150388,
          -0.3635701024620227,
          -0.362073321506921,
          -0.43949260376833205,
          -0.267349336442187,
          0.13120830393899965,
          -0.26742006418129227,
          -0.3438179081912185,
          -0.43899783056463204,
          -0.39120042247779263,
          -0.28974683632522735,
          -0.3412237909583905,
          -0.33285669473245943,
          -0.333356049283078,
          -0.37874733113130693,
          0.6354930876188248,
          -0.3911412844093147,
          -0.3590166743985747,
          -0.3333116907287325,
          -0.3327464696501808,
          0.4352839995872823,
          -0.3096745627314743,
          -0.34834699948423753,
          -0.38367512635008233,
          -0.3332620617215371,
          -0.39998107750803896,
          -0.35616926718657865,
          -0.33313255272793274,
          -0.09453265026993142,
          -0.3899347257552876,
          3.752208324237056,
          0.19554792768291623,
          -0.2640931389371396,
          -0.33059450200998186,
          -0.3199947095740696,
          -0.3580851273730748,
          0.0807459329461191,
          -0.3322716268789394,
          -0.39051550173493726,
          -0.3572504018416377,
          -0.3198456755362395,
          -0.33337816559649514,
          -0.3478795639961604,
          -0.36509328395402146,
          -0.29677736196321275,
          -0.3289264047575896,
          -0.21600331695485894,
          -0.39279414793431433,
          -0.391217649634332,
          -0.31163246552362456,
          -0.2889073578003194,
          -0.32965519899326723,
          -0.3631693238367161,
          -0.3334055018334767,
          -0.33338722466420173,
          -0.283292514587429,
          -0.32145104466016455,
          -0.34081851801528007,
          -0.3331039213239816,
          3.9224904221640413,
          -0.39865002489366574,
          -0.3410070599440616,
          -0.313925046731018,
          -0.2800085067063718,
          -0.2944921054058797,
          -0.2894412537056772,
          -0.1366506768220222,
          -0.28969313048206696,
          -0.3277400506175514,
          -0.3325782942191238,
          -0.21363586436099205,
          2.2467167335988147,
          -0.3537957748307522,
          -0.2667516329400197,
          1.0337523060297151,
          -0.3566011270013429,
          -0.35819858053450576,
          -0.40166414253777755,
          -0.1705000299755999,
          -0.3760138781141843,
          -0.3569189656862302,
          -0.3262866735726525,
          -0.3474572495877433,
          -0.3906913396850812,
          -0.2869404233920502,
          -0.3401074252307716,
          -0.34350638702316183,
          -0.3473187047842229,
          -0.19297697789047355,
          -0.45018369643645284,
          -0.2682864818117012,
          0.5477985170711003,
          -0.1379773591032945,
          -0.40095923868810784,
          -0.33310789636186433,
          -0.4014150567252929,
          -0.3583154795765526,
          0.5728096522413754,
          -0.34793384201656324,
          -0.3325911473106636,
          -0.30609172665183987,
          -0.2824890165240957,
          -0.38825750821108584,
          -0.3909184277979496,
          3.7644417811545723,
          0.10153645199250863,
          -0.38845979634331196,
          -0.3319770094326745,
          -0.33280149957239635,
          -0.2679653155333448,
          -0.33331949791152893,
          -0.3825518510812671,
          -0.247077396541981,
          -0.09114629846961218,
          -0.37830292883602906,
          -0.3325983114316181,
          -0.32566726812107416,
          -0.38748933751117476,
          -0.33103851735798007,
          -0.34159861422770366,
          -0.38354626056840857,
          -0.3098512574197252,
          3.747747078247643,
          -0.09710456745452427,
          -0.3282351765214329,
          -0.363640226282653,
          -0.26781894898711944,
          3.7576081620060755,
          3.7588514330917056,
          -0.24887492634868033,
          -0.34153452544828494,
          -0.2955819032175123,
          2.4821647782365535,
          -0.3314836870588263,
          -0.29008934419389626
         ],
         "y": [
          1.0769949895461437,
          1.0771547209342778,
          1.6926142531237873,
          1.2766060628618294,
          2.178616123007176,
          0.8790480498059106,
          0.6018576592824102,
          1.9690345516934686,
          1.0769942711328455,
          1.0772366997877356,
          1.0770418016679137,
          1.0769947786290144,
          1.0769949305867634,
          0.9571928993175015,
          1.4549718254418236,
          0.3019266613328686,
          1.0769744378752122,
          1.0000523379757718,
          1.2766093416971236,
          1.6235676004350443,
          0.8078962523869994,
          0.8785725596822024,
          0.7997950163764517,
          1.824203631824202,
          1.8241842581756065,
          0.6163212684988689,
          1.076888915819515,
          1.0769786081162205,
          1.0881464000200334,
          0.9994331309701291,
          1.276612620575937,
          0.06662702489718984,
          1.5036074113008875,
          1.2766086229046611,
          1.0766862476274348,
          1.076968675201117,
          0.23868241966315282,
          1.2766127663353246,
          0.06667995708718172,
          1.824191081406248,
          1.0765970496069595,
          1.3831836011740317,
          0.8790415463407092,
          0.9572138663761457,
          0.7998065519081258,
          1.8241738113327397,
          0.799635528015712,
          1.0769955479043845,
          1.8241766500512406,
          0.999405780673688,
          1.0769903192087178,
          1.276613196383509,
          1.1761375653317654,
          2.1244042989113776,
          0.6452936724630364,
          0.799788826927388,
          1.8241645463258953,
          0.8786196980316819,
          1.9691770189702007,
          1.0954079349900048,
          0.8790489554548006,
          1.2687356135969399,
          0.8790547342634396,
          1.613709551894158,
          1.0769793347612093,
          0.7997111986108901,
          1.2764421534694428,
          0.7688905857904098,
          0.8790410483235831,
          -0.14616006834832795,
          1.4549681880838392,
          1.2766297366509187,
          0.8789568381291586,
          0.8788254181048244,
          1.609870075715091,
          1.2765587589181298,
          1.4672232991937972,
          1.0763958149375437,
          1.0769765736084234,
          1.0769876053341871,
          1.5468907695156868,
          0.9993653278827013,
          1.2765958292438866,
          1.0769705282813864,
          0.8790482402637293,
          1.2766115080393432,
          1.0769864327907792,
          1.0769957274677189,
          0.7998607251179543,
          0.3456561331877367,
          1.9193023116009382,
          1.4549642134675445,
          1.0770077414176173,
          1.2760319507879399,
          1.4550080663062614,
          1.5469795297928546,
          2.0067129023087587,
          1.4548397185003277,
          1.917941924772669,
          1.7485956292954472,
          1.2766059710159638,
          1.8588618161158523,
          1.2766123360445136,
          1.454965972819321,
          1.0769839841098334,
          1.0769768435101974,
          1.4549681880838392,
          1.2765876753098715,
          0.8790531911606798,
          1.0769877004855077,
          0.5380041215679562,
          1.0769864860093046,
          1.0767035893191663,
          1.2766106593055642,
          1.0769327666924182,
          0.7978890750316155,
          1.0769904055991846,
          1.0769947447042572,
          1.4322533375032498,
          0.7497036584693889,
          1.076776988657051,
          0.8790489746675584,
          1.276610524351006,
          1.0769904017560885,
          1.0769851439067957,
          0.7997723399973727,
          0.22382803939162857,
          1.5469786418611169,
          1.0769211473986426,
          0.7997942867560612,
          1.2765722041622294,
          1.932807745175327,
          1.2766047377404472,
          1.4549618426121134,
          1.276575383697426,
          1.4549406687563364,
          1.2764317840297597,
          1.076987396577272,
          1.0769824352627662,
          1.0765409454840331,
          0.5678294514928008,
          1.276600983070241,
          0.7990000098228887,
          1.454960370651112,
          1.0769554196571336,
          1.9437691044269145,
          0.601771823619728,
          1.4672164525677227,
          1.9004956807763607,
          1.6098762573418632,
          1.609848647481079,
          2.0091123374069193,
          1.8241729560007556,
          1.057723896858045,
          1.8241782456706503,
          1.3069051546328412,
          2.0091277537255428,
          1.2766130833025358,
          0.7997954041613892,
          1.4549432056806968,
          1.0769805045427938,
          1.076994679412215,
          2.179176751702862,
          1.542446908327014,
          1.276603118817837,
          0.6162095363669661,
          1.0769882768569183,
          0.6863626458971022,
          1.084072734025966,
          0.8790471446586954,
          1.6095473656365649,
          1.7812097137064424,
          1.076986268354117,
          1.7093757641254717,
          1.3436426251939018,
          1.076994496390653,
          0.6011941949206675,
          1.2765617412929398,
          1.7484937196073924,
          1.6070549977742674,
          1.8241529185144285,
          1.0769418151210088,
          1.3326728840274598,
          1.4322535152933706,
          1.05615157243974,
          1.0769300570842764,
          1.2766070927840383,
          1.4322120266109402,
          1.076810999104667,
          1.0769941252990045,
          0.9994059797400537,
          1.467220258370673,
          0.3753690766985494,
          1.0769789408673558,
          1.5467039308925359,
          1.0381332186512684,
          1.2766020893502432,
          1.2697899970984758,
          0.7997496127253169,
          1.4814076477114997,
          1.6098617460017326,
          1.0769939485204167,
          1.0769931680598064,
          0.7996707719390814,
          1.4512505953103436,
          1.4549380139929076,
          1.0769851209865615,
          1.8148917284037966,
          1.7094172375340018,
          1.4549375391252297,
          0.5714945416641126,
          1.0752025542669055,
          0.6384926275630405,
          0.7997991248166053,
          1.07624179961307,
          0.7997791272267628,
          1.920906981125484,
          1.076965050089708,
          1.6919556778849512,
          0.25633899193527815,
          1.43196193111533,
          0.6018352225999907,
          1.5798646911908834,
          0.848688635228159,
          1.4322493053060457,
          1.7094548405127254,
          0.7921291331855204,
          0.9635444208394798,
          1.432235853087197,
          1.0765428108518147,
          0.9993961892608378,
          1.2766016139629432,
          0.7997191027596882,
          1.4548778236992592,
          0.9845577786565245,
          0.9993701322786593,
          1.0692219710162452,
          3.538021605954284,
          0.9925981834206234,
          0.40419839697454285,
          1.0059603613870471,
          1.709443832372956,
          1.0769910718929658,
          1.7094532296094342,
          1.4322508129725773,
          1.0547441236958734,
          0.9994051659919082,
          1.0769646496085317,
          1.2696656490350975,
          1.9190095584190112,
          1.276427707928279,
          1.2766080377423412,
          1.7485374072083908,
          1.0669239741945662,
          1.276704893858328,
          1.0769054882009477,
          1.076978171711552,
          0.6018509061408202,
          1.0769986531817415,
          1.2765514889280298,
          1.0725985927226047,
          0.885795378051821,
          1.276346391571306,
          1.0770109995619686,
          1.0769670946422492,
          1.2765947372576278,
          1.0769617290116305,
          1.454967030390233,
          0.6970369582063379,
          0.8790382642752511,
          1.748584260613947,
          0.7990538692617222,
          1.0769545801993292,
          0.6162948516177309,
          1.824178491856824,
          1.7489994564441531,
          1.7490381947247382,
          0.6017849321293162,
          1.4549692742369345,
          1.504218174274689,
          0.7704563559793534,
          1.0768871106360915,
          0.7997958057227642
         ],
         "z": [
          -0.5070049283904,
          -0.5074482986067133,
          -0.5556358700813651,
          -0.4303367275489064,
          0.20616920563172006,
          -0.29462959086135254,
          -0.06213513414301433,
          -0.5416422727410721,
          -0.5070135711510052,
          -0.5072289537638967,
          -0.5070483154576985,
          -0.5070050104435272,
          -0.5070054288449386,
          -0.36735452686345826,
          -0.14392550595116024,
          -0.30987696433737705,
          -0.5070524951827172,
          -0.19842541548076226,
          -0.43033976648665406,
          -0.6834790208513751,
          -0.2820153690193174,
          -0.2955196321288377,
          -0.2745158456915664,
          -0.50320027462115,
          -0.5031823184547665,
          -0.22218242737804947,
          -0.5071397674233737,
          -0.5070441475901978,
          -0.5173404405903874,
          -0.19785151305016346,
          -0.4303305933040017,
          0.035770004554290684,
          -0.2524079534104382,
          -0.43033243880360494,
          -0.5076069732148943,
          -0.507036051668447,
          -0.3388178788555798,
          -0.43033378102267633,
          0.03577645751797892,
          -0.5031886424604933,
          -0.5071912273410522,
          -0.1399554529036211,
          -0.2946490989038952,
          -0.36737152841658194,
          -0.274517555323187,
          -0.5031792974415062,
          -0.2746366061993243,
          -0.5070054458727743,
          -0.5031808182169203,
          -0.19783726632013374,
          -0.5070117022060782,
          -0.43033112642721555,
          -0.7555424836403474,
          -0.5869943016292325,
          -0.33858096577419894,
          -0.2745566395439198,
          -0.5031918050043276,
          -0.29477549038079237,
          -0.5415946217613009,
          -0.3999351378383874,
          -0.29463043024801067,
          -0.4377684382828028,
          -0.2946294023277128,
          -0.5207393375817202,
          -0.5070137341567571,
          -0.2745518900946125,
          -0.43038576535343054,
          -0.3008207919466614,
          -0.2946330938678779,
          -0.3921783663714214,
          -0.14393323719116738,
          -0.4303880907767139,
          -0.294656479884459,
          -0.29470247520902665,
          -0.5172307396135718,
          -0.4303578340641879,
          -0.1887183730963924,
          -0.5075598395501825,
          -0.5070124703128884,
          -0.5070535967693293,
          -0.27070860518660095,
          -0.19815338691337792,
          -0.43034278613503574,
          -0.507032217932735,
          -0.2946292122607862,
          -0.4303312269818984,
          -0.5070086552632046,
          -0.5070056122982727,
          -0.27456776492435536,
          -0.39700705870866054,
          -0.5808257865826201,
          -0.14395953004576947,
          -0.5070167472418129,
          -0.4306250931144552,
          -0.1439813001168241,
          -0.27068123446368253,
          -0.6195493834633327,
          -0.14397015683478914,
          -0.5726292207410635,
          -0.15344388296411213,
          -0.4303410834105709,
          -0.5357945313077825,
          -0.43033246810737946,
          -0.1439478377109788,
          -0.5070161226064467,
          -0.5070114251793107,
          -0.14393323719116738,
          -0.430340780021963,
          -0.2946332457995584,
          -0.507016491687824,
          -0.1567812985431848,
          -0.5070125904521097,
          -0.5070960451064285,
          -0.4303315505930266,
          -0.5070271958545883,
          -0.29079016434247446,
          -0.5070078964116078,
          -0.5070065421113904,
          -0.22554397473643673,
          -0.26225843612772043,
          -0.5070804393408411,
          -0.29462989293160957,
          -0.4303338425199761,
          -0.5070117787138309,
          -0.5070079787960641,
          -0.27451637833280873,
          -0.25462764229141766,
          -0.2706870867060771,
          -0.5074916123636755,
          -0.2745252984714532,
          -0.43034864576612625,
          -0.5535540211315849,
          -0.43038435024410504,
          -0.1439774781016948,
          -0.43035159266911827,
          -0.14411867823868563,
          -0.43044054891873157,
          -0.5070096662871414,
          -0.5070091691544361,
          -0.5071392281029607,
          -0.07222393593531087,
          -0.4303420116447511,
          -0.27488027116969826,
          -0.14393154295910618,
          -0.507026541589885,
          -0.5679922010755437,
          -0.06215971107535505,
          -0.18874894311627727,
          -0.5256739425391336,
          -0.5171920590828204,
          -0.5172275328899395,
          -0.6041392640244237,
          -0.5031884969123619,
          -0.5168999867531241,
          -0.5031872366846732,
          -0.1739620457780476,
          -0.6041535524007628,
          -0.43033629932892636,
          -0.2745168856249833,
          -0.14393317575345077,
          -0.5070182889825142,
          -0.5070069724427307,
          0.20759762456710157,
          -0.20471366468517443,
          -0.43033677452453123,
          -0.22229882674461685,
          -0.5070074407570216,
          -0.05732756074066144,
          -0.5274429125125316,
          -0.29467205156862786,
          -0.5175478277989779,
          -0.48403543408523286,
          -0.5070085028576289,
          -0.4580728643298246,
          -0.1001195902629448,
          -0.5070126806123073,
          -0.06650938445803783,
          -0.4303633738493676,
          -0.15355760083994507,
          -0.5312253705264439,
          -0.5032698476989372,
          -0.5070722203981826,
          -0.2847006777725867,
          -0.22554691513570058,
          -0.5154427021986318,
          -0.5070280152369043,
          -0.4303532255729157,
          -0.22556397433727643,
          -0.5073340107771864,
          -0.5070063478467878,
          -0.19783800594516168,
          -0.18871083620722762,
          -0.37306689825165307,
          -0.507118842537504,
          -0.27086851076912183,
          -0.31968919662385453,
          -0.430334710131528,
          -0.525854608434436,
          -0.2745336174303507,
          -0.13647972820244617,
          -0.5172008144097218,
          -0.5070056288788404,
          -0.5070060157678984,
          -0.2746692714842793,
          -0.14087690237889713,
          -0.14394301919642838,
          -0.5070124355488007,
          -0.08207794945065716,
          -0.4581113033166968,
          -0.14393813808508554,
          -0.04036913079405889,
          -0.5081869526905282,
          -0.4341033314158621,
          -0.2745251048480045,
          -0.5119691051058841,
          -0.27451656261340157,
          -0.57126609307794,
          -0.5070238098148669,
          -0.3091121151404422,
          -0.3715373269355306,
          -0.22562639262511663,
          -0.06216305790899962,
          -0.14737295620331287,
          -0.27288258892354056,
          -0.22554356829754843,
          -0.4580379898068288,
          -0.2767723423991518,
          -0.28982457958648444,
          -0.22557495506910222,
          -0.5071409569902213,
          -0.19784780598825408,
          -0.4303481476123721,
          -0.2745808365298301,
          -0.14395495781492842,
          -0.32897679346640696,
          -0.19784863603274092,
          -0.5097928485031653,
          0.8585178542216344,
          -0.2933585551257869,
          -0.47429273028004704,
          -0.20390117554948287,
          -0.45805490430816553,
          -0.5070129549432735,
          -0.4580442046545678,
          -0.2255407300630316,
          -0.5279052916282441,
          -0.19783653007480395,
          -0.5070234386350866,
          -0.5259836126734828,
          -0.5722276011026043,
          -0.43039236117129337,
          -0.43034299892392947,
          -0.15387565374096834,
          -0.5171000843321842,
          -0.43041611481268127,
          -0.5070330001200217,
          -0.5070194598612231,
          -0.062133593647549785,
          -0.5070083239510372,
          -0.43055149555119215,
          -0.5087589922146312,
          -0.30097650836664164,
          -0.43063896596423934,
          -0.5070280938542072,
          -0.5072011237863983,
          -0.43042948354929583,
          -0.5070629211071138,
          -0.1439260578428333,
          -0.21019702051815878,
          -0.2946665965399023,
          -0.15345273010021684,
          -0.2793760824113068,
          -0.5071340126238202,
          -0.22218925123331018,
          -0.503177040646254,
          -0.15374877347640467,
          -0.15378467745226837,
          -0.0626159125118172,
          -0.14392793441995994,
          -0.03263220925751549,
          -0.06912745005854937,
          -0.5070437233308503,
          -0.27450815051103583
         ]
        },
        {
         "customdata": [
          [
           "SHA-256"
          ],
          [
           "Ethash"
          ],
          [
           "Scrypt"
          ],
          [
           "CryptoNight-V7"
          ],
          [
           "Ethash"
          ],
          [
           "Equihash"
          ],
          [
           "Multiple"
          ],
          [
           "Scrypt"
          ],
          [
           "X11"
          ],
          [
           "Scrypt"
          ],
          [
           "Multiple"
          ],
          [
           "Scrypt"
          ],
          [
           "SHA-256"
          ],
          [
           "Scrypt"
          ],
          [
           "Scrypt"
          ],
          [
           "Quark"
          ],
          [
           "Groestl"
          ],
          [
           "Scrypt"
          ],
          [
           "Scrypt"
          ],
          [
           "Scrypt"
          ],
          [
           "X11"
          ],
          [
           "Scrypt"
          ],
          [
           "Multiple"
          ],
          [
           "SHA-256"
          ],
          [
           "Scrypt"
          ],
          [
           "Scrypt"
          ],
          [
           "Scrypt"
          ],
          [
           "Scrypt"
          ],
          [
           "Scrypt"
          ],
          [
           "NeoScrypt"
          ],
          [
           "Scrypt"
          ],
          [
           "Scrypt"
          ],
          [
           "Scrypt"
          ],
          [
           "Scrypt"
          ],
          [
           "SHA-256"
          ],
          [
           "Scrypt"
          ],
          [
           "Scrypt"
          ],
          [
           "Scrypt"
          ],
          [
           "Scrypt"
          ],
          [
           "HybridScryptHash256"
          ],
          [
           "Scrypt"
          ],
          [
           "Scrypt"
          ],
          [
           "SHA-256"
          ],
          [
           "Scrypt"
          ],
          [
           "Scrypt"
          ],
          [
           "Scrypt"
          ],
          [
           "Scrypt"
          ],
          [
           "SHA-256"
          ],
          [
           "SHA-256"
          ],
          [
           "SHA-256"
          ],
          [
           "SHA-256"
          ],
          [
           "SHA-256"
          ],
          [
           "X11"
          ],
          [
           "Scrypt"
          ],
          [
           "Lyra2REv2"
          ],
          [
           "Scrypt"
          ],
          [
           "SHA-256"
          ],
          [
           "CryptoNight"
          ],
          [
           "CryptoNight"
          ],
          [
           "Shabal256"
          ],
          [
           "Scrypt"
          ],
          [
           "Scrypt"
          ],
          [
           "Scrypt"
          ],
          [
           "Scrypt"
          ],
          [
           "Scrypt"
          ],
          [
           "Scrypt"
          ],
          [
           "Stanford Folding"
          ],
          [
           "Multiple"
          ],
          [
           "QuBit"
          ],
          [
           "Scrypt"
          ],
          [
           "Scrypt"
          ],
          [
           "M7 POW"
          ],
          [
           "Scrypt"
          ],
          [
           "SHA-256"
          ],
          [
           "Scrypt"
          ],
          [
           "X11"
          ],
          [
           "Lyra2RE"
          ],
          [
           "SHA-256"
          ],
          [
           "X11"
          ],
          [
           "Scrypt"
          ],
          [
           "Scrypt"
          ],
          [
           "Ethash"
          ],
          [
           "Blake2b"
          ],
          [
           "X11"
          ],
          [
           "SHA-256"
          ],
          [
           "Scrypt"
          ],
          [
           "1GB AES Pattern Search"
          ],
          [
           "Scrypt"
          ],
          [
           "SHA-256"
          ],
          [
           "X11"
          ],
          [
           "Dagger"
          ],
          [
           "Scrypt"
          ],
          [
           "X11GOST"
          ],
          [
           "Scrypt"
          ],
          [
           "X11"
          ],
          [
           "Scrypt"
          ],
          [
           "X11"
          ],
          [
           "Equihash"
          ],
          [
           "CryptoNight"
          ],
          [
           "SHA-256"
          ],
          [
           "Multiple"
          ],
          [
           "Scrypt"
          ],
          [
           "SHA-256"
          ],
          [
           "Scrypt"
          ],
          [
           "Lyra2Z"
          ],
          [
           "Ethash"
          ],
          [
           "Equihash"
          ],
          [
           "Scrypt"
          ],
          [
           "X11"
          ],
          [
           "X11"
          ],
          [
           "CryptoNight"
          ],
          [
           "Scrypt"
          ],
          [
           "CryptoNight"
          ],
          [
           "Lyra2RE"
          ],
          [
           "X11"
          ],
          [
           "CryptoNight-V7"
          ],
          [
           "Scrypt"
          ],
          [
           "X11"
          ],
          [
           "Equihash"
          ],
          [
           "Scrypt"
          ],
          [
           "Lyra2RE"
          ],
          [
           "Dagger-Hashimoto"
          ],
          [
           "Scrypt"
          ],
          [
           "NIST5"
          ],
          [
           "Scrypt"
          ],
          [
           "SHA-256"
          ],
          [
           "Scrypt"
          ],
          [
           "CryptoNight-V7"
          ],
          [
           "Argon2d"
          ],
          [
           "Blake2b"
          ],
          [
           "Cloverhash"
          ],
          [
           "CryptoNight"
          ],
          [
           "X11"
          ],
          [
           "Scrypt"
          ],
          [
           "Scrypt"
          ],
          [
           "X11"
          ],
          [
           "X11"
          ],
          [
           "CryptoNight"
          ],
          [
           "Time Travel"
          ],
          [
           "Scrypt"
          ],
          [
           "Keccak"
          ],
          [
           "X11"
          ],
          [
           "SHA-256"
          ],
          [
           "Scrypt"
          ],
          [
           "Scrypt"
          ],
          [
           "Scrypt"
          ],
          [
           "Scrypt"
          ],
          [
           "Scrypt"
          ],
          [
           "Scrypt"
          ],
          [
           "CryptoNight"
          ],
          [
           "Equihash"
          ],
          [
           "X11"
          ],
          [
           "NeoScrypt"
          ],
          [
           "Equihash"
          ],
          [
           "Dagger"
          ],
          [
           "Scrypt"
          ],
          [
           "X11"
          ],
          [
           "NeoScrypt"
          ],
          [
           "Ethash"
          ],
          [
           "NeoScrypt"
          ],
          [
           "Multiple"
          ],
          [
           "CryptoNight"
          ],
          [
           "CryptoNight"
          ],
          [
           "Ethash"
          ],
          [
           "X11"
          ],
          [
           "CryptoNight-V7"
          ],
          [
           "Scrypt"
          ],
          [
           "BLAKE256"
          ],
          [
           "X11"
          ],
          [
           "NeoScrypt"
          ],
          [
           "NeoScrypt"
          ],
          [
           "Scrypt"
          ],
          [
           "X11"
          ],
          [
           "SHA-256"
          ],
          [
           "C11"
          ],
          [
           "Ethash"
          ],
          [
           "CryptoNight"
          ],
          [
           "SkunkHash"
          ],
          [
           "CryptoNight"
          ],
          [
           "Scrypt"
          ],
          [
           "Dagger"
          ],
          [
           "Lyra2REv2"
          ],
          [
           "Scrypt"
          ],
          [
           "Scrypt"
          ],
          [
           "X11"
          ],
          [
           "Ethash"
          ],
          [
           "CryptoNight"
          ],
          [
           "Scrypt"
          ],
          [
           "IMesh"
          ],
          [
           "Equihash"
          ],
          [
           "Lyra2Z"
          ],
          [
           "X11"
          ],
          [
           "CryptoNight"
          ],
          [
           "NIST5"
          ],
          [
           "Lyra2RE"
          ],
          [
           "Tribus"
          ],
          [
           "Lyra2Z"
          ],
          [
           "CryptoNight"
          ],
          [
           "CryptoNight Heavy"
          ],
          [
           "CryptoNight"
          ],
          [
           "Jump Consistent Hash"
          ],
          [
           "CryptoNight"
          ],
          [
           "X16R"
          ],
          [
           "HMQ1725"
          ],
          [
           "X11"
          ],
          [
           "Scrypt"
          ],
          [
           "CryptoNight-V7"
          ],
          [
           "Cryptonight-GPU"
          ],
          [
           "XEVAN"
          ],
          [
           "CryptoNight Heavy"
          ],
          [
           "SHA-256"
          ],
          [
           "X11"
          ],
          [
           "X16R"
          ],
          [
           "Equihash"
          ],
          [
           "Lyra2Z"
          ],
          [
           "SHA-256"
          ],
          [
           "CryptoNight"
          ],
          [
           "Blake"
          ],
          [
           "Blake"
          ],
          [
           "Equihash"
          ],
          [
           "Exosis"
          ],
          [
           "Scrypt"
          ],
          [
           "Equihash"
          ],
          [
           "Equihash"
          ],
          [
           "QuBit"
          ],
          [
           "SHA-256"
          ],
          [
           "X13"
          ],
          [
           "SHA-256"
          ],
          [
           "Scrypt"
          ],
          [
           "NeoScrypt"
          ],
          [
           "Blake"
          ],
          [
           "Scrypt"
          ],
          [
           "SHA-256"
          ],
          [
           "Scrypt"
          ],
          [
           "Groestl"
          ],
          [
           "Scrypt"
          ],
          [
           "Scrypt"
          ],
          [
           "Multiple"
          ],
          [
           "Equihash+Scrypt"
          ],
          [
           "Ethash"
          ],
          [
           "Leased POS"
          ],
          [
           "CryptoNight"
          ],
          [
           "Equihash"
          ]
         ],
         "hovertemplate": "<b>%{hovertext}</b><br><br>class=%{marker.color}<br>PC1=%{x}<br>PC2=%{y}<br>PC3=%{z}<br>Algorithm=%{customdata[0]}<extra></extra>",
         "hovertext": [
          "Bitcoin",
          "Ethereum",
          "Litecoin",
          "Monero",
          "Ethereum Classic",
          "ZCash",
          "DigiByte",
          "ProsperCoin",
          "Spreadcoin",
          "Argentum",
          "MyriadCoin",
          "MoonCoin",
          "ZetaCoin",
          "SexCoin",
          "Quatloo",
          "QuarkCoin",
          "Riecoin",
          "Digitalcoin ",
          "Catcoin",
          "CannaCoin",
          "CryptCoin",
          "CasinoCoin",
          "Verge",
          "DevCoin",
          "EarthCoin",
          "E-Gulden",
          "Einsteinium",
          "Emerald",
          "Franko",
          "FeatherCoin",
          "GrandCoin",
          "GlobalCoin",
          "GoldCoin",
          "Infinite Coin",
          "IXcoin",
          "KrugerCoin",
          "LuckyCoin",
          "Litebar ",
          "MegaCoin",
          "MediterraneanCoin",
          "MinCoin",
          "NobleCoin",
          "Namecoin",
          "NyanCoin",
          "RonPaulCoin",
          "StableCoin",
          "SmartCoin",
          "SysCoin",
          "TigerCoin",
          "TerraCoin",
          "UnbreakableCoin",
          "Unobtanium",
          "UroCoin",
          "ViaCoin",
          "Vertcoin",
          "WorldCoin",
          "JouleCoin",
          "ByteCoin",
          "DigitalNote ",
          "BurstCoin",
          "MonaCoin",
          "Gulden",
          "PesetaCoin",
          "Wild Beast Coin",
          "Flo",
          "ArtByte",
          "Folding Coin",
          "Unitus",
          "CypherPunkCoin",
          "OmniCron",
          "GreenCoin",
          "Cryptonite",
          "MasterCoin",
          "SoonCoin",
          "1Credit",
          "MarsCoin ",
          "Crypto",
          "Anarchists Prime",
          "BowsCoin",
          "Song Coin",
          "BitZeny",
          "Expanse",
          "Siacoin",
          "MindCoin",
          "I0coin",
          "Revolution VR",
          "HOdlcoin",
          "Gamecredits",
          "CarpeDiemCoin",
          "Adzcoin",
          "SoilCoin",
          "YoCoin",
          "SibCoin",
          "Francs",
          "BolivarCoin",
          "Omni",
          "PizzaCoin",
          "Komodo",
          "Karbo",
          "ZayedCoin",
          "Circuits of Value",
          "DopeCoin",
          "DollarCoin",
          "Shilling",
          "ZCoin",
          "Elementrem",
          "ZClassic",
          "KiloCoin",
          "ArtexCoin",
          "Kurrent",
          "Cannabis Industry Coin",
          "OsmiumCoin",
          "Bikercoins",
          "HexxCoin",
          "PacCoin",
          "Citadel",
          "BeaverCoin",
          "VaultCoin",
          "Zero",
          "Canada eCoin",
          "Zoin",
          "DubaiCoin",
          "EB3coin",
          "Coinonat",
          "BenjiRolls",
          "ILCoin",
          "EquiTrader",
          "Quantum Resistant Ledger",
          "Dynamic",
          "Nano",
          "ChanCoin",
          "Dinastycoin",
          "DigitalPrice",
          "Unify",
          "SocialCoin",
          "ArcticCoin",
          "DAS",
          "LeviarCoin",
          "Bitcore",
          "gCn Coin",
          "SmartCash",
          "Onix",
          "Bitcoin Cash",
          "Sojourn Coin",
          "NewYorkCoin",
          "FrazCoin",
          "Kronecoin",
          "AdCoin",
          "Linx",
          "Sumokoin",
          "BitcoinZ",
          "Elements",
          "VIVO Coin",
          "Bitcoin Gold",
          "Pirl",
          "eBoost",
          "Pura",
          "Innova",
          "Ellaism",
          "GoByte",
          "SHIELD",
          "UltraNote",
          "BitCoal",
          "DaxxCoin",
          "AC3",
          "Lethean",
          "PopularCoin",
          "Photon",
          "Sucre",
          "SparksPay",
          "GunCoin",
          "IrishCoin",
          "Pioneer Coin",
          "UnitedBitcoin",
          "Interzone",
          "1717 Masonic Commemorative Token",
          "TurtleCoin",
          "MUNcoin",
          "Niobio Cash",
          "ShareChain",
          "Travelflex",
          "KREDS",
          "BitFlip",
          "LottoCoin",
          "Crypto Improvement Fund",
          "Callisto Network",
          "BitTube",
          "Poseidon",
          "Aidos Kuneen",
          "Bitrolium",
          "Alpenschillling",
          "FuturoCoin",
          "Monero Classic",
          "Jumpcoin",
          "Infinex",
          "KEYCO",
          "GINcoin",
          "PlatinCoin",
          "Loki",
          "Newton Coin",
          "MassGrid",
          "PluraCoin",
          "Motion",
          "PlusOneCoin",
          "Axe",
          "HexCoin",
          "Webchain",
          "Ryo",
          "Urals Coin",
          "Qwertycoin",
          "Project Pai",
          "Azart",
          "Xchange",
          "CrypticCoin",
          "Actinium",
          "Bitcoin SV",
          "FREDEnergy",
          "Universal Molecule",
          "Lithium",
          "PirateCash",
          "Exosis",
          "Block-Logic",
          "Beam",
          "Bithereum",
          "SLICE",
          "BLAST",
          "Bitcoin Rhodium",
          "GlobalToken",
          "SolarCoin",
          "UFO Coin",
          "BlakeCoin",
          "Crypto Escudo",
          "Crown Coin",
          "SmileyCoin",
          "Groestlcoin",
          "Bata",
          "Pakcoin",
          "JoinCoin",
          "Vollar",
          "Reality Clash",
          "Waves",
          "Beldex",
          "Horizen"
         ],
         "legendgroup": "0",
         "marker": {
          "color": [
           0,
           0,
           0,
           0,
           0,
           0,
           0,
           0,
           0,
           0,
           0,
           0,
           0,
           0,
           0,
           0,
           0,
           0,
           0,
           0,
           0,
           0,
           0,
           0,
           0,
           0,
           0,
           0,
           0,
           0,
           0,
           0,
           0,
           0,
           0,
           0,
           0,
           0,
           0,
           0,
           0,
           0,
           0,
           0,
           0,
           0,
           0,
           0,
           0,
           0,
           0,
           0,
           0,
           0,
           0,
           0,
           0,
           0,
           0,
           0,
           0,
           0,
           0,
           0,
           0,
           0,
           0,
           0,
           0,
           0,
           0,
           0,
           0,
           0,
           0,
           0,
           0,
           0,
           0,
           0,
           0,
           0,
           0,
           0,
           0,
           0,
           0,
           0,
           0,
           0,
           0,
           0,
           0,
           0,
           0,
           0,
           0,
           0,
           0,
           0,
           0,
           0,
           0,
           0,
           0,
           0,
           0,
           0,
           0,
           0,
           0,
           0,
           0,
           0,
           0,
           0,
           0,
           0,
           0,
           0,
           0,
           0,
           0,
           0,
           0,
           0,
           0,
           0,
           0,
           0,
           0,
           0,
           0,
           0,
           0,
           0,
           0,
           0,
           0,
           0,
           0,
           0,
           0,
           0,
           0,
           0,
           0,
           0,
           0,
           0,
           0,
           0,
           0,
           0,
           0,
           0,
           0,
           0,
           0,
           0,
           0,
           0,
           0,
           0,
           0,
           0,
           0,
           0,
           0,
           0,
           0,
           0,
           0,
           0,
           0,
           0,
           0,
           0,
           0,
           0,
           0,
           0,
           0,
           0,
           0,
           0,
           0,
           0,
           0,
           0,
           0,
           0,
           0,
           0,
           0,
           0,
           0,
           0,
           0,
           0,
           0,
           0,
           0,
           0,
           0,
           0,
           0,
           0,
           0,
           0,
           0,
           0,
           0,
           0,
           0,
           0,
           0,
           0,
           0,
           0,
           0,
           0,
           0,
           0,
           0,
           0,
           0,
           0,
           0,
           0,
           0,
           0,
           0,
           0,
           0,
           0,
           0,
           0,
           0,
           0,
           0,
           0,
           0
          ],
          "coloraxis": "coloraxis",
          "symbol": "diamond"
         },
         "mode": "markers",
         "name": "0",
         "scene": "scene",
         "showlegend": true,
         "type": "scatter3d",
         "x": [
          -0.1490943309682459,
          -0.1612798823416799,
          -0.1700275521004666,
          -0.15894790861203814,
          -0.15972286297113247,
          -0.12943284612961792,
          0.14432578035476343,
          -0.17117305507046066,
          -0.2290985882901171,
          -0.17078983333367762,
          -0.10891878640230883,
          2.549030365023104,
          -0.14618114483046965,
          -0.16804698491745762,
          -0.1705939798054903,
          -0.23480945236856568,
          -0.19381226141129265,
          -0.17064273716246703,
          -0.1711553328592045,
          -0.17124173366138265,
          -0.22918787206031044,
          0.7392422308376021,
          0.16805764488264086,
          0.2285089815047951,
          0.07732830180122295,
          -0.1709881941642949,
          -0.16659632502715213,
          -0.17092752424518878,
          -0.1712986994840441,
          -0.19710745709511926,
          -0.15053431704306863,
          -0.17009458376223083,
          -0.17037184646595088,
          1.5764821796035386,
          -0.14905572603929476,
          -0.16766296761097088,
          -0.17101461857480685,
          -0.17136920352587395,
          -0.17062893051647396,
          -0.1853486108708322,
          -0.17125054562587028,
          -0.03623997429908477,
          -0.14913328506824278,
          -0.16491854795118446,
          -0.1712299966805531,
          -0.16932551383155384,
          -0.17071706940102377,
          -0.1362935780022198,
          -0.14859739961896606,
          -0.1488844157385315,
          -0.14886739815304703,
          -0.14945774140816057,
          -0.22936165756624094,
          -0.17094667354462742,
          -0.2132839117128186,
          -0.16805169014847796,
          -0.14866465046364724,
          3.852908010791777,
          0.4540706177332606,
          0.20844771443541418,
          -0.1698149895404161,
          -0.1544235394899608,
          -0.16853463537238098,
          -0.171371410907024,
          -0.16839976664274184,
          -0.15463224320386043,
          -0.15064701765218222,
          -0.14290352800561132,
          -0.2016649810610081,
          -0.17124457250108477,
          -0.044263255743039395,
          -0.16591241606549162,
          -0.17138029827762757,
          -0.14916104417175033,
          0.4803767450633392,
          -0.22874923822824647,
          -0.15118682106175974,
          -0.14890106716382367,
          -0.22903395242773908,
          -0.1695052497512647,
          -0.16869801293163678,
          -0.16234662680442777,
          0.38493488064321907,
          -0.22906932750347553,
          -0.14905684764652002,
          -0.16734076498292766,
          -0.1524237816562831,
          -0.1699445736906542,
          0.2691571857349733,
          -0.22823058173063912,
          -0.15098671024975058,
          -0.17019180591999153,
          -0.17153968950655835,
          -0.1711703423315725,
          -0.2290325921560527,
          -0.17138035673476465,
          -0.22918246388891914,
          -0.13808007356712265,
          0.2990745789346876,
          -0.14931676428184884,
          -0.1229887827243866,
          -0.16854887544175376,
          -0.14927542104170227,
          -0.17104396962412147,
          -0.1636265975324434,
          -0.1620889512728366,
          -0.12945444888236882,
          -0.09815143637626436,
          -0.21577449896165474,
          -0.22701198274939863,
          0.29906895024308705,
          -0.17136210597058946,
          0.2991995810527435,
          -0.15172692677013214,
          0.48562265759389894,
          -0.15771336864250848,
          -0.17133041387334647,
          -0.22192100561368636,
          -0.1294668168268517,
          -0.16946488300687582,
          -0.15144548953352907,
          -0.1711217463280802,
          -0.14227200709685756,
          -0.20118161757092468,
          -0.17089307007976337,
          -0.11566335706493912,
          -0.17071524075302677,
          -0.15757122474047608,
          -0.15980023051519682,
          -0.015103278962185877,
          -0.16894452254246858,
          0.33516771271867435,
          -0.2282389645133014,
          -0.17103430811529424,
          -0.17079782718226036,
          -0.22863339648101372,
          -0.22921047991756488,
          0.2994636872809703,
          -0.18296752068005406,
          3.2361283313803733,
          -0.12133030934967871,
          -0.22008829401352478,
          -0.14909349573824637,
          -0.09699977022768821,
          1.5744833176609014,
          -0.17113209070808788,
          -0.17058407579382853,
          -0.17028524360430572,
          -0.17027218317260742,
          0.2996471869216792,
          0.08272582703339594,
          -0.18362700610642838,
          -0.20179319302836562,
          -0.129312968613148,
          -0.14974658618447853,
          -0.16946309334596268,
          -0.2247577483250789,
          -0.2016387014134888,
          -0.1604551533998161,
          -0.2017388444912427,
          -0.133141591991799,
          1.1364843529302864,
          0.2990517285957504,
          -0.08539096069887063,
          -0.22449942977390425,
          -0.14669020790772594,
          -0.08757372145615695,
          1.0776145935414088,
          -0.2291844954297055,
          -0.20179075520220557,
          -0.1948330768614112,
          -0.170383572949949,
          -0.22910995118007926,
          -0.1490729070254974,
          -0.2307152723142583,
          -0.2812690582836584,
          8.03209186638321,
          -0.1491611620184574,
          0.30292369990927914,
          0.021535595517840938,
          -0.14925014799909336,
          -0.19885118741879426,
          -0.17095692602473156,
          0.13592216716696484,
          -0.2232545842259217,
          -0.1135227691585562,
          0.30696993675621354,
          -0.17119378604443503,
          -0.15922604483903052,
          -0.12830471112551187,
          -0.1614114880512408,
          -0.2282797100521833,
          0.2992341286696314,
          -0.2012410481717365,
          -0.15157226244952923,
          -0.1912575013761128,
          -0.16371092167577497,
          0.3031599287618426,
          0.5936886710799663,
          2.1065820510011295,
          -0.1614047046612811,
          0.3128303951769317,
          -0.19533626658842057,
          -0.15583291869927587,
          -0.2291666670488744,
          -0.17121835133941765,
          -0.14656993835560586,
          -0.17227610366033433,
          -0.1483500636486016,
          3.114636971563034,
          -0.10894711781551207,
          -0.22913805034425289,
          -0.19476434320190888,
          -0.02412633039785231,
          -0.16310904917248356,
          -0.14909353327892438,
          0.378944121972237,
          -0.15068663619771416,
          -0.1510784260149487,
          -0.24746911542139508,
          -0.1631227665818262,
          -0.1701113494670967,
          -0.1273742791970602,
          -0.1291458947230889,
          -0.2008764447214832,
          -0.14837014005566593,
          -0.10574752388612257,
          -0.1472387940316044,
          0.5242690727914683,
          -0.1270045010809934,
          -0.10157443499764959,
          -0.1547827300483841,
          -0.14888378660455537,
          0.5440011596020499,
          -0.1933735446264999,
          -0.171295144189477,
          -0.1692521504994304,
          -0.14363792812603837,
          -0.10673715247348384,
          -0.16212208846190324,
          -0.29794414888937987,
          0.3207949212462236,
          -0.12943390238085387
         ],
         "y": [
          -1.2881202942007268,
          -2.0384735046299465,
          -1.0901943138217727,
          -2.1586895404004465,
          -2.038566734916883,
          -2.2189929308942666,
          -1.828534514753893,
          -1.090187482474504,
          -0.8905673501558086,
          -1.090204565779063,
          -1.8236007009660091,
          -1.26460609406899,
          -1.2881299572035787,
          -1.090244648219379,
          -1.09022276235367,
          -0.45773366114241804,
          -1.2100008032484488,
          -1.0901892949731384,
          -1.0901869302795721,
          -1.0901843170941683,
          -0.890568782144005,
          -0.14895518058878085,
          -1.8247948114431707,
          -1.2905150668440937,
          -1.0915425578492108,
          -1.090181722512952,
          -1.0902330566376528,
          -1.0901872568472986,
          -1.090184806779557,
          -1.5509266180939387,
          -1.0904891128532868,
          -1.0901869527881694,
          -1.0901971076257624,
          -1.09687185213771,
          -1.2881190913346674,
          -1.0902430915044843,
          -1.090181870880528,
          -1.0901803309070535,
          -1.0901847028938032,
          -2.0750856208429185,
          -1.0901824722434976,
          -1.0960936187376664,
          -1.2881215079463468,
          -1.090205893972702,
          -1.0901892566813474,
          -1.0902844850758642,
          -1.0901936589131214,
          -1.2883066458852077,
          -1.2881223680284715,
          -1.2881279280324396,
          -1.2881530467877744,
          -1.2881176117704645,
          -0.890562047490233,
          -1.090181778745907,
          -1.2036306204054983,
          -1.0902552034589101,
          -1.2881231054288917,
          -2.2573605175528946,
          -2.2455017865722176,
          -0.8435433927038714,
          -1.090201946163868,
          -1.0907853762753292,
          -1.090203405365613,
          -1.0901812623016265,
          -1.0901948926968377,
          -1.0903328971185953,
          -2.1859776240019144,
          -1.8233096624545846,
          -1.417444736299085,
          -1.0901778119584966,
          -1.0929687431800654,
          -2.0681318416696857,
          -1.0901801835182212,
          -1.2881223728743196,
          -1.1319696562559802,
          -0.8905652396391988,
          -2.2468341252240673,
          -1.2881363845525111,
          -0.8905660111822888,
          -1.0902632484025214,
          -1.090264933180699,
          -2.0385181540025066,
          -2.2135490996073592,
          -0.89056373854362,
          -1.2881191262821028,
          -1.0901956446262604,
          -2.1621534836176717,
          -1.0901917283511005,
          -1.2896712581491212,
          -0.8905835028080197,
          -2.1946075723399816,
          -1.0902563665976863,
          -2.0509205900773124,
          -1.090186722976465,
          -0.890568668692703,
          -1.0901801832944786,
          -0.8905733384492078,
          -2.309358636081388,
          -2.2435882221490373,
          -1.2881196219544508,
          -1.8234991200438246,
          -1.0902265376239875,
          -1.2881189427944333,
          -1.0901895351465145,
          -2.2284543393133514,
          -2.0385164019320623,
          -2.2189936040004854,
          -1.094647810187829,
          -0.8904761807728797,
          -0.8906427294622643,
          -2.243595822238964,
          -1.0901810306158923,
          -2.2435944518921964,
          -2.2468132978607955,
          -0.9357816691239539,
          -2.158775944275702,
          -1.0901804789821852,
          -0.8910051825830083,
          -2.218991289471036,
          -1.0901875815559352,
          -2.246811953449591,
          -2.113936711115913,
          -1.0919726931872091,
          -0.5573139813263694,
          -1.0901885594891365,
          -1.288751899537487,
          -1.0902076413855113,
          -2.1587175174208713,
          -2.0847343397954843,
          -2.2262433117924725,
          -2.1608997636682483,
          -2.2438068168949554,
          -0.8905945635786924,
          -1.090181996233322,
          -1.0902122395633893,
          -0.8905798544871574,
          -0.8905700940438284,
          -2.243605797010094,
          -2.0133696370386573,
          -1.1190021173360387,
          -1.1838715854211952,
          -0.8910155756622372,
          -1.2881202681763173,
          -1.094949412946395,
          -1.0357815288324543,
          -1.0901855311188406,
          -1.0902116541840052,
          -1.0902131426418251,
          -1.090212735700271,
          -2.2436236285402766,
          -2.22654268617415,
          -0.8903519834390216,
          -1.5508640510827263,
          -2.218989195708175,
          -2.1946541858204247,
          -1.0901875257930471,
          -0.8906548380024497,
          -1.5508713869023858,
          -2.0386368000304933,
          -1.550865597544857,
          -1.8234509791464155,
          -2.2748619148611624,
          -2.2435906215618866,
          -2.042858666347787,
          -0.8907817839336294,
          -2.15898223422006,
          -1.0909433582003734,
          -1.1011968060480988,
          -0.8905698918861619,
          -1.5508599252827144,
          -1.5509664478133915,
          -1.0901919073742168,
          -0.890569729125437,
          -1.2881190637379687,
          -1.1290433178458992,
          -0.14853823742066183,
          -2.6776069425911677,
          -2.217940241045137,
          -2.2436883312558034,
          -1.0909185592806896,
          -2.1946007120678725,
          -1.2038666936101345,
          -1.0901935727468344,
          -1.0930289511031974,
          -0.8907092479173798,
          -2.041372799733339,
          -2.2440104396197853,
          -1.0901881284175292,
          -2.2255676686605748,
          -2.218990853768915,
          -2.22857336778189,
          -0.890595833142616,
          -2.2435889206198234,
          -0.5572974387066046,
          -2.2468194673453805,
          -2.1824542426484514,
          -2.2284496095030524,
          -2.24385916412312,
          -2.1973580267979904,
          -2.3114576498437165,
          -2.211442552693376,
          -2.243827837381801,
          -1.318469978406324,
          -2.1455540479228157,
          -0.8905701463514333,
          -1.0901896398549882,
          -2.1594850669519166,
          -2.266054297630782,
          -0.8974478155333444,
          -2.2432205538885603,
          -1.2882726431534313,
          -0.8905719545962616,
          -1.3185047550571916,
          -2.2208273778128786,
          -2.228480466703216,
          -1.288120269346023,
          -2.2465466552852082,
          -2.1380871429905817,
          -2.1380454260677313,
          -0.32905241997783174,
          -2.231235392996754,
          -1.0902212238579458,
          -2.219091997943935,
          -2.218990662749382,
          -1.417487664160707,
          -1.2881267534669911,
          -0.3429971432316083,
          -1.2881616998373537,
          -1.1347193822885735,
          -1.5512154284996098,
          -2.1412107493403325,
          -1.090337586040967,
          -1.2881279084296602,
          -1.1016383346977234,
          -1.2100013080003327,
          -1.090180486993529,
          -1.0902363009930998,
          -1.823334435079472,
          -2.2156119094992834,
          -2.0385162751011174,
          -0.9503965161271997,
          -2.243849815539152,
          -2.218992963805317
         ],
         "z": [
          0.17803048656239392,
          0.3647039168285509,
          -0.0343726105767809,
          0.3694978149509917,
          0.3646737499530653,
          0.4137016885640572,
          0.2691425903612597,
          -0.03434396932802777,
          0.04232860313271191,
          -0.034352006239846376,
          0.27511710692243224,
          -0.08584252493745169,
          0.17795684264717118,
          -0.03441810941171376,
          -0.034355125470412085,
          0.014505959247218517,
          0.10528429969617156,
          -0.034357369925313415,
          -0.03434448112135476,
          -0.03434253984150298,
          0.042331040595707456,
          -0.410600579250424,
          0.2681440279492571,
          0.16860410970544895,
          -0.04057054764661059,
          -0.03434930785925387,
          -0.034456493850833075,
          -0.034350284805042756,
          -0.03434102892532478,
          0.25036638907408015,
          -0.0348413639944938,
          -0.03437166130857485,
          -0.03436349609523096,
          -0.07843119156985642,
          0.17802937170462316,
          -0.03442811267649394,
          -0.03434861522361354,
          -0.03433968947188632,
          -0.03435820313179824,
          0.287882184506738,
          -0.034342506625168925,
          -0.03718515246478648,
          0.17803161150375907,
          -0.03450232392550136,
          -0.03434232493187154,
          -0.034381187237778575,
          -0.03435500951961654,
          0.17772191170763832,
          0.17801796880419402,
          0.17802590426878653,
          0.17802809050740773,
          0.17803951920498956,
          0.04233479090814979,
          -0.03435036598750614,
          0.1828236635569268,
          -0.034416886898974014,
          0.17801976914297588,
          0.2072110602485201,
          0.29307094626922403,
          -0.4292393424546699,
          -0.03437726086584257,
          -0.03471077051213908,
          -0.034409918620467876,
          -0.03433953567100703,
          -0.034414263437443096,
          -0.034752659871370224,
          0.370566521709387,
          0.27595760927862045,
          0.21042635979800128,
          -0.03434314621193957,
          -0.037305777774834056,
          0.2569479237279743,
          -0.03433942054705338,
          0.178032413148866,
          -0.04667850780886792,
          0.04231943042822625,
          0.34458589914066196,
          0.17802721381179365,
          0.04232680700237817,
          -0.03437879841151417,
          -0.03439930860923573,
          0.3647359142711268,
          0.3789519150830471,
          0.04232747625963938,
          0.17802940409511225,
          -0.03444132269570725,
          0.37319077083127683,
          -0.034375006880252135,
          0.16747437596175832,
          0.042308046067753596,
          0.3234426856148148,
          -0.034361923306238856,
          0.314498640875144,
          -0.03434411813358313,
          0.042327049580985945,
          -0.034339419072400845,
          0.04233137767253538,
          0.7290159513008692,
          0.29684307194519205,
          0.17803611641187847,
          0.2754670569753341,
          -0.034407138764368114,
          0.17803498605614917,
          -0.034347062951775684,
          0.3591187655266039,
          0.36472912821997727,
          0.41370231242213834,
          -0.03574956050320461,
          0.04197764494587811,
          0.04228300159912482,
          0.2968440096129947,
          -0.03433979830472647,
          0.2968405190345069,
          0.34459756545945186,
          0.02873355259422625,
          0.3694751992076953,
          -0.034340668028873166,
          0.04219038036286329,
          0.41370238773013074,
          -0.03438773224834918,
          0.34459021305424564,
          0.3195838956101734,
          -0.03489821060672569,
          -0.04453347863637739,
          -0.03435103172820095,
          0.17723972916610842,
          -0.03435359664919211,
          0.3694654570573441,
          0.3062506999315122,
          0.3905284504757203,
          0.378531429995279,
          0.29594097744053527,
          0.042309415596707575,
          -0.034348097577038925,
          -0.034351000269531064,
          0.04231798764078059,
          0.0423317568986528,
          0.29683493550145773,
          0.2810809130618614,
          -0.11865060298863192,
          0.1422790437125656,
          0.04214450068268216,
          0.17803046244209403,
          -0.03574758637803125,
          -0.0847576279056899,
          -0.03434522278837826,
          -0.034356538930387995,
          -0.03436404135146464,
          -0.0343644185189464,
          0.29683209473944255,
          0.409053127587461,
          0.041140874086281004,
          0.25047993295351034,
          0.4136982266646313,
          0.3234157727687926,
          -0.034387783931319214,
          0.04222649915152185,
          0.2504767398223671,
          0.3646998300779396,
          0.2504787016754523,
          0.27572220499163735,
          0.27864866818981704,
          0.29684390799523885,
          0.3632170016212755,
          0.04223313233362376,
          0.36921425806246594,
          -0.03640735725743379,
          0.05005760075477323,
          0.042331069920844615,
          0.2504794397603084,
          0.2503122643876538,
          -0.034363738486482054,
          0.042329142673551194,
          0.17802980910000535,
          0.15297588733745202,
          0.12457224247807117,
          0.14398870927717305,
          0.36175321406265604,
          0.29675488627742036,
          -0.03920595899420934,
          0.32339746863639895,
          0.18247845892984627,
          -0.034348871998885644,
          -0.04191688663124685,
          0.04219365962191152,
          0.36378278121320745,
          0.2966848254601252,
          -0.034343370645730974,
          0.34378949109603596,
          0.4136725623636059,
          0.3590744278279512,
          0.04231059227238321,
          0.2968390562750655,
          -0.04453368268328798,
          0.34459424614047,
          0.33891570736281357,
          0.35912043262071125,
          0.2967666671988632,
          0.29321839471708133,
          0.2576096374410649,
          0.4592420193042932,
          0.29651558340172157,
          0.19980148372647288,
          0.37909527657057385,
          0.04233063961990535,
          -0.034342583350720345,
          0.36926367038954433,
          0.3610405541375931,
          -0.053213968731173775,
          0.23340501421940574,
          0.17701758718261418,
          0.04233009506984784,
          0.1997904583210216,
          0.411194636687117,
          0.359108230565702,
          0.17803046352621765,
          0.295105203686577,
          0.36376300396651673,
          0.3637686887613944,
          0.17351942200316672,
          0.417271902658656,
          -0.03436765387032967,
          0.41365927847613465,
          0.4136940984186623,
          0.2104106344773873,
          0.17801260292511617,
          -0.030511859864035443,
          0.17798725958905318,
          -0.04751621982350612,
          0.24860009621465504,
          0.3628305606120743,
          -0.03474831401623386,
          0.17802588610025405,
          -0.05147543897386546,
          0.10527310992523095,
          -0.03434157100613846,
          -0.03438809751473147,
          0.27597901505697153,
          0.34803460250458224,
          0.36472996414593756,
          1.4229177838564324,
          0.29631378056140545,
          0.4137017190671551
         ]
        },
        {
         "customdata": [
          [
           "VeChainThor Authority"
          ],
          [
           "Proof-of-BibleHash"
          ],
          [
           "SHA-256 + Hive"
          ],
          [
           "Proof-of-Authority"
          ],
          [
           "ECC 256K1"
          ]
         ],
         "hovertemplate": "<b>%{hovertext}</b><br><br>class=%{marker.color}<br>PC1=%{x}<br>PC2=%{y}<br>PC3=%{z}<br>Algorithm=%{customdata[0]}<extra></extra>",
         "hovertext": [
          "Vechain",
          "BiblePay",
          "LitecoinCash",
          "Poa Network",
          "Acute Angle Cloud"
         ],
         "legendgroup": "3",
         "marker": {
          "color": [
           3,
           3,
           3,
           3,
           3
          ],
          "coloraxis": "coloraxis",
          "symbol": "square"
         },
         "mode": "markers",
         "name": "3",
         "scene": "scene",
         "showlegend": true,
         "type": "scatter3d",
         "x": [
          4.401223699026138,
          -0.2547661277728526,
          -0.2354001638880651,
          -0.48430905998714585,
          -0.3266258838462617
         ],
         "y": [
          3.1980471200466085,
          4.218984874398697,
          0.2569087639823127,
          5.069027140114269,
          2.195051366806166
         ],
         "z": [
          8.02948801368411,
          14.089605227494367,
          18.98284718779086,
          16.790511605919452,
          10.074708949033182
         ]
        },
        {
         "customdata": [
          [
           "TRC10"
          ]
         ],
         "hovertemplate": "<b>%{hovertext}</b><br><br>class=%{marker.color}<br>PC1=%{x}<br>PC2=%{y}<br>PC3=%{z}<br>Algorithm=%{customdata[0]}<extra></extra>",
         "hovertext": [
          "BitTorrent"
         ],
         "legendgroup": "2",
         "marker": {
          "color": [
           2
          ],
          "coloraxis": "coloraxis",
          "symbol": "x"
         },
         "mode": "markers",
         "name": "2",
         "scene": "scene",
         "showlegend": true,
         "type": "scatter3d",
         "x": [
          34.045630154318715
         ],
         "y": [
          1.6088836271266655
         ],
         "z": [
          -1.0741640162403951
         ]
        }
       ],
       "layout": {
        "coloraxis": {
         "colorbar": {
          "title": {
           "text": "class"
          }
         },
         "colorscale": [
          [
           0,
           "#0d0887"
          ],
          [
           0.1111111111111111,
           "#46039f"
          ],
          [
           0.2222222222222222,
           "#7201a8"
          ],
          [
           0.3333333333333333,
           "#9c179e"
          ],
          [
           0.4444444444444444,
           "#bd3786"
          ],
          [
           0.5555555555555556,
           "#d8576b"
          ],
          [
           0.6666666666666666,
           "#ed7953"
          ],
          [
           0.7777777777777778,
           "#fb9f3a"
          ],
          [
           0.8888888888888888,
           "#fdca26"
          ],
          [
           1,
           "#f0f921"
          ]
         ]
        },
        "legend": {
         "title": {
          "text": "class"
         },
         "tracegroupgap": 0,
         "x": 0,
         "y": 1
        },
        "margin": {
         "t": 60
        },
        "scene": {
         "domain": {
          "x": [
           0,
           1
          ],
          "y": [
           0,
           1
          ]
         },
         "xaxis": {
          "title": {
           "text": "PC1"
          }
         },
         "yaxis": {
          "title": {
           "text": "PC2"
          }
         },
         "zaxis": {
          "title": {
           "text": "PC3"
          }
         }
        },
        "template": {
         "data": {
          "bar": [
           {
            "error_x": {
             "color": "#2a3f5f"
            },
            "error_y": {
             "color": "#2a3f5f"
            },
            "marker": {
             "line": {
              "color": "#E5ECF6",
              "width": 0.5
             }
            },
            "type": "bar"
           }
          ],
          "barpolar": [
           {
            "marker": {
             "line": {
              "color": "#E5ECF6",
              "width": 0.5
             }
            },
            "type": "barpolar"
           }
          ],
          "carpet": [
           {
            "aaxis": {
             "endlinecolor": "#2a3f5f",
             "gridcolor": "white",
             "linecolor": "white",
             "minorgridcolor": "white",
             "startlinecolor": "#2a3f5f"
            },
            "baxis": {
             "endlinecolor": "#2a3f5f",
             "gridcolor": "white",
             "linecolor": "white",
             "minorgridcolor": "white",
             "startlinecolor": "#2a3f5f"
            },
            "type": "carpet"
           }
          ],
          "choropleth": [
           {
            "colorbar": {
             "outlinewidth": 0,
             "ticks": ""
            },
            "type": "choropleth"
           }
          ],
          "contour": [
           {
            "colorbar": {
             "outlinewidth": 0,
             "ticks": ""
            },
            "colorscale": [
             [
              0,
              "#0d0887"
             ],
             [
              0.1111111111111111,
              "#46039f"
             ],
             [
              0.2222222222222222,
              "#7201a8"
             ],
             [
              0.3333333333333333,
              "#9c179e"
             ],
             [
              0.4444444444444444,
              "#bd3786"
             ],
             [
              0.5555555555555556,
              "#d8576b"
             ],
             [
              0.6666666666666666,
              "#ed7953"
             ],
             [
              0.7777777777777778,
              "#fb9f3a"
             ],
             [
              0.8888888888888888,
              "#fdca26"
             ],
             [
              1,
              "#f0f921"
             ]
            ],
            "type": "contour"
           }
          ],
          "contourcarpet": [
           {
            "colorbar": {
             "outlinewidth": 0,
             "ticks": ""
            },
            "type": "contourcarpet"
           }
          ],
          "heatmap": [
           {
            "colorbar": {
             "outlinewidth": 0,
             "ticks": ""
            },
            "colorscale": [
             [
              0,
              "#0d0887"
             ],
             [
              0.1111111111111111,
              "#46039f"
             ],
             [
              0.2222222222222222,
              "#7201a8"
             ],
             [
              0.3333333333333333,
              "#9c179e"
             ],
             [
              0.4444444444444444,
              "#bd3786"
             ],
             [
              0.5555555555555556,
              "#d8576b"
             ],
             [
              0.6666666666666666,
              "#ed7953"
             ],
             [
              0.7777777777777778,
              "#fb9f3a"
             ],
             [
              0.8888888888888888,
              "#fdca26"
             ],
             [
              1,
              "#f0f921"
             ]
            ],
            "type": "heatmap"
           }
          ],
          "heatmapgl": [
           {
            "colorbar": {
             "outlinewidth": 0,
             "ticks": ""
            },
            "colorscale": [
             [
              0,
              "#0d0887"
             ],
             [
              0.1111111111111111,
              "#46039f"
             ],
             [
              0.2222222222222222,
              "#7201a8"
             ],
             [
              0.3333333333333333,
              "#9c179e"
             ],
             [
              0.4444444444444444,
              "#bd3786"
             ],
             [
              0.5555555555555556,
              "#d8576b"
             ],
             [
              0.6666666666666666,
              "#ed7953"
             ],
             [
              0.7777777777777778,
              "#fb9f3a"
             ],
             [
              0.8888888888888888,
              "#fdca26"
             ],
             [
              1,
              "#f0f921"
             ]
            ],
            "type": "heatmapgl"
           }
          ],
          "histogram": [
           {
            "marker": {
             "colorbar": {
              "outlinewidth": 0,
              "ticks": ""
             }
            },
            "type": "histogram"
           }
          ],
          "histogram2d": [
           {
            "colorbar": {
             "outlinewidth": 0,
             "ticks": ""
            },
            "colorscale": [
             [
              0,
              "#0d0887"
             ],
             [
              0.1111111111111111,
              "#46039f"
             ],
             [
              0.2222222222222222,
              "#7201a8"
             ],
             [
              0.3333333333333333,
              "#9c179e"
             ],
             [
              0.4444444444444444,
              "#bd3786"
             ],
             [
              0.5555555555555556,
              "#d8576b"
             ],
             [
              0.6666666666666666,
              "#ed7953"
             ],
             [
              0.7777777777777778,
              "#fb9f3a"
             ],
             [
              0.8888888888888888,
              "#fdca26"
             ],
             [
              1,
              "#f0f921"
             ]
            ],
            "type": "histogram2d"
           }
          ],
          "histogram2dcontour": [
           {
            "colorbar": {
             "outlinewidth": 0,
             "ticks": ""
            },
            "colorscale": [
             [
              0,
              "#0d0887"
             ],
             [
              0.1111111111111111,
              "#46039f"
             ],
             [
              0.2222222222222222,
              "#7201a8"
             ],
             [
              0.3333333333333333,
              "#9c179e"
             ],
             [
              0.4444444444444444,
              "#bd3786"
             ],
             [
              0.5555555555555556,
              "#d8576b"
             ],
             [
              0.6666666666666666,
              "#ed7953"
             ],
             [
              0.7777777777777778,
              "#fb9f3a"
             ],
             [
              0.8888888888888888,
              "#fdca26"
             ],
             [
              1,
              "#f0f921"
             ]
            ],
            "type": "histogram2dcontour"
           }
          ],
          "mesh3d": [
           {
            "colorbar": {
             "outlinewidth": 0,
             "ticks": ""
            },
            "type": "mesh3d"
           }
          ],
          "parcoords": [
           {
            "line": {
             "colorbar": {
              "outlinewidth": 0,
              "ticks": ""
             }
            },
            "type": "parcoords"
           }
          ],
          "pie": [
           {
            "automargin": true,
            "type": "pie"
           }
          ],
          "scatter": [
           {
            "marker": {
             "colorbar": {
              "outlinewidth": 0,
              "ticks": ""
             }
            },
            "type": "scatter"
           }
          ],
          "scatter3d": [
           {
            "line": {
             "colorbar": {
              "outlinewidth": 0,
              "ticks": ""
             }
            },
            "marker": {
             "colorbar": {
              "outlinewidth": 0,
              "ticks": ""
             }
            },
            "type": "scatter3d"
           }
          ],
          "scattercarpet": [
           {
            "marker": {
             "colorbar": {
              "outlinewidth": 0,
              "ticks": ""
             }
            },
            "type": "scattercarpet"
           }
          ],
          "scattergeo": [
           {
            "marker": {
             "colorbar": {
              "outlinewidth": 0,
              "ticks": ""
             }
            },
            "type": "scattergeo"
           }
          ],
          "scattergl": [
           {
            "marker": {
             "colorbar": {
              "outlinewidth": 0,
              "ticks": ""
             }
            },
            "type": "scattergl"
           }
          ],
          "scattermapbox": [
           {
            "marker": {
             "colorbar": {
              "outlinewidth": 0,
              "ticks": ""
             }
            },
            "type": "scattermapbox"
           }
          ],
          "scatterpolar": [
           {
            "marker": {
             "colorbar": {
              "outlinewidth": 0,
              "ticks": ""
             }
            },
            "type": "scatterpolar"
           }
          ],
          "scatterpolargl": [
           {
            "marker": {
             "colorbar": {
              "outlinewidth": 0,
              "ticks": ""
             }
            },
            "type": "scatterpolargl"
           }
          ],
          "scatterternary": [
           {
            "marker": {
             "colorbar": {
              "outlinewidth": 0,
              "ticks": ""
             }
            },
            "type": "scatterternary"
           }
          ],
          "surface": [
           {
            "colorbar": {
             "outlinewidth": 0,
             "ticks": ""
            },
            "colorscale": [
             [
              0,
              "#0d0887"
             ],
             [
              0.1111111111111111,
              "#46039f"
             ],
             [
              0.2222222222222222,
              "#7201a8"
             ],
             [
              0.3333333333333333,
              "#9c179e"
             ],
             [
              0.4444444444444444,
              "#bd3786"
             ],
             [
              0.5555555555555556,
              "#d8576b"
             ],
             [
              0.6666666666666666,
              "#ed7953"
             ],
             [
              0.7777777777777778,
              "#fb9f3a"
             ],
             [
              0.8888888888888888,
              "#fdca26"
             ],
             [
              1,
              "#f0f921"
             ]
            ],
            "type": "surface"
           }
          ],
          "table": [
           {
            "cells": {
             "fill": {
              "color": "#EBF0F8"
             },
             "line": {
              "color": "white"
             }
            },
            "header": {
             "fill": {
              "color": "#C8D4E3"
             },
             "line": {
              "color": "white"
             }
            },
            "type": "table"
           }
          ]
         },
         "layout": {
          "annotationdefaults": {
           "arrowcolor": "#2a3f5f",
           "arrowhead": 0,
           "arrowwidth": 1
          },
          "coloraxis": {
           "colorbar": {
            "outlinewidth": 0,
            "ticks": ""
           }
          },
          "colorscale": {
           "diverging": [
            [
             0,
             "#8e0152"
            ],
            [
             0.1,
             "#c51b7d"
            ],
            [
             0.2,
             "#de77ae"
            ],
            [
             0.3,
             "#f1b6da"
            ],
            [
             0.4,
             "#fde0ef"
            ],
            [
             0.5,
             "#f7f7f7"
            ],
            [
             0.6,
             "#e6f5d0"
            ],
            [
             0.7,
             "#b8e186"
            ],
            [
             0.8,
             "#7fbc41"
            ],
            [
             0.9,
             "#4d9221"
            ],
            [
             1,
             "#276419"
            ]
           ],
           "sequential": [
            [
             0,
             "#0d0887"
            ],
            [
             0.1111111111111111,
             "#46039f"
            ],
            [
             0.2222222222222222,
             "#7201a8"
            ],
            [
             0.3333333333333333,
             "#9c179e"
            ],
            [
             0.4444444444444444,
             "#bd3786"
            ],
            [
             0.5555555555555556,
             "#d8576b"
            ],
            [
             0.6666666666666666,
             "#ed7953"
            ],
            [
             0.7777777777777778,
             "#fb9f3a"
            ],
            [
             0.8888888888888888,
             "#fdca26"
            ],
            [
             1,
             "#f0f921"
            ]
           ],
           "sequentialminus": [
            [
             0,
             "#0d0887"
            ],
            [
             0.1111111111111111,
             "#46039f"
            ],
            [
             0.2222222222222222,
             "#7201a8"
            ],
            [
             0.3333333333333333,
             "#9c179e"
            ],
            [
             0.4444444444444444,
             "#bd3786"
            ],
            [
             0.5555555555555556,
             "#d8576b"
            ],
            [
             0.6666666666666666,
             "#ed7953"
            ],
            [
             0.7777777777777778,
             "#fb9f3a"
            ],
            [
             0.8888888888888888,
             "#fdca26"
            ],
            [
             1,
             "#f0f921"
            ]
           ]
          },
          "colorway": [
           "#636efa",
           "#EF553B",
           "#00cc96",
           "#ab63fa",
           "#FFA15A",
           "#19d3f3",
           "#FF6692",
           "#B6E880",
           "#FF97FF",
           "#FECB52"
          ],
          "font": {
           "color": "#2a3f5f"
          },
          "geo": {
           "bgcolor": "white",
           "lakecolor": "white",
           "landcolor": "#E5ECF6",
           "showlakes": true,
           "showland": true,
           "subunitcolor": "white"
          },
          "hoverlabel": {
           "align": "left"
          },
          "hovermode": "closest",
          "mapbox": {
           "style": "light"
          },
          "paper_bgcolor": "white",
          "plot_bgcolor": "#E5ECF6",
          "polar": {
           "angularaxis": {
            "gridcolor": "white",
            "linecolor": "white",
            "ticks": ""
           },
           "bgcolor": "#E5ECF6",
           "radialaxis": {
            "gridcolor": "white",
            "linecolor": "white",
            "ticks": ""
           }
          },
          "scene": {
           "xaxis": {
            "backgroundcolor": "#E5ECF6",
            "gridcolor": "white",
            "gridwidth": 2,
            "linecolor": "white",
            "showbackground": true,
            "ticks": "",
            "zerolinecolor": "white"
           },
           "yaxis": {
            "backgroundcolor": "#E5ECF6",
            "gridcolor": "white",
            "gridwidth": 2,
            "linecolor": "white",
            "showbackground": true,
            "ticks": "",
            "zerolinecolor": "white"
           },
           "zaxis": {
            "backgroundcolor": "#E5ECF6",
            "gridcolor": "white",
            "gridwidth": 2,
            "linecolor": "white",
            "showbackground": true,
            "ticks": "",
            "zerolinecolor": "white"
           }
          },
          "shapedefaults": {
           "line": {
            "color": "#2a3f5f"
           }
          },
          "ternary": {
           "aaxis": {
            "gridcolor": "white",
            "linecolor": "white",
            "ticks": ""
           },
           "baxis": {
            "gridcolor": "white",
            "linecolor": "white",
            "ticks": ""
           },
           "bgcolor": "#E5ECF6",
           "caxis": {
            "gridcolor": "white",
            "linecolor": "white",
            "ticks": ""
           }
          },
          "title": {
           "x": 0.05
          },
          "xaxis": {
           "automargin": true,
           "gridcolor": "white",
           "linecolor": "white",
           "ticks": "",
           "title": {
            "standoff": 15
           },
           "zerolinecolor": "white",
           "zerolinewidth": 2
          },
          "yaxis": {
           "automargin": true,
           "gridcolor": "white",
           "linecolor": "white",
           "ticks": "",
           "title": {
            "standoff": 15
           },
           "zerolinecolor": "white",
           "zerolinewidth": 2
          }
         }
        },
        "width": 1000
       }
      },
      "text/html": [
       "<div>\n",
       "        \n",
       "        \n",
       "            <div id=\"a067f3b1-11b5-4534-a27f-bedd0f255ad7\" class=\"plotly-graph-div\" style=\"height:525px; width:1000px;\"></div>\n",
       "            <script type=\"text/javascript\">\n",
       "                require([\"plotly\"], function(Plotly) {\n",
       "                    window.PLOTLYENV=window.PLOTLYENV || {};\n",
       "                    \n",
       "                if (document.getElementById(\"a067f3b1-11b5-4534-a27f-bedd0f255ad7\")) {\n",
       "                    Plotly.newPlot(\n",
       "                        'a067f3b1-11b5-4534-a27f-bedd0f255ad7',\n",
       "                        [{\"customdata\": [[\"Scrypt\"], [\"Scrypt\"], [\"X13\"], [\"X11\"], [\"SHA-512\"], [\"SHA-256\"], [\"SHA-256\"], [\"X15\"], [\"Scrypt\"], [\"Scrypt\"], [\"Scrypt\"], [\"Scrypt\"], [\"Scrypt\"], [\"Groestl\"], [\"PoS\"], [\"Scrypt\"], [\"Scrypt\"], [\"X11\"], [\"X11\"], [\"SHA3\"], [\"Scrypt\"], [\"SHA-256\"], [\"Scrypt\"], [\"X13\"], [\"X13\"], [\"NeoScrypt\"], [\"Scrypt\"], [\"Scrypt\"], [\"Scrypt\"], [\"X11\"], [\"X11\"], [\"Multiple\"], [\"PHI1612\"], [\"X11\"], [\"Scrypt\"], [\"Scrypt\"], [\"Scrypt\"], [\"X11\"], [\"Multiple\"], [\"X13\"], [\"Scrypt\"], [\"Counterparty\"], [\"SHA-256\"], [\"Groestl\"], [\"Scrypt\"], [\"X13\"], [\"Scrypt\"], [\"Scrypt\"], [\"X13\"], [\"X11\"], [\"Scrypt\"], [\"X11\"], [\"SHA3\"], [\"QUAIT\"], [\"X11\"], [\"Scrypt\"], [\"X13\"], [\"SHA-256\"], [\"X15\"], [\"BLAKE256\"], [\"SHA-256\"], [\"X11\"], [\"SHA-256\"], [\"NIST5\"], [\"Scrypt\"], [\"Scrypt\"], [\"X11\"], [\"Scrypt\"], [\"SHA-256\"], [\"Scrypt\"], [\"PoS\"], [\"X11\"], [\"SHA-256\"], [\"SHA-256\"], [\"NIST5\"], [\"X11\"], [\"POS 3.0\"], [\"Scrypt\"], [\"Scrypt\"], [\"Scrypt\"], [\"X13\"], [\"X11\"], [\"X11\"], [\"Scrypt\"], [\"SHA-256\"], [\"X11\"], [\"Scrypt\"], [\"Scrypt\"], [\"Scrypt\"], [\"Scrypt\"], [\"SHA-256D\"], [\"PoS\"], [\"Scrypt\"], [\"X11\"], [\"PoS\"], [\"X13\"], [\"X14\"], [\"PoS\"], [\"SHA-256D\"], [\"DPoS\"], [\"X11\"], [\"X13\"], [\"X11\"], [\"PoS\"], [\"Scrypt\"], [\"Scrypt\"], [\"PoS\"], [\"X11\"], [\"SHA-256\"], [\"Scrypt\"], [\"X11\"], [\"Scrypt\"], [\"Scrypt\"], [\"X11\"], [\"Scrypt\"], [\"Scrypt\"], [\"Scrypt\"], [\"Scrypt\"], [\"Quark\"], [\"QuBit\"], [\"Scrypt\"], [\"SHA-256\"], [\"X11\"], [\"Scrypt\"], [\"Scrypt\"], [\"Scrypt\"], [\"Scrypt\"], [\"X13\"], [\"Scrypt\"], [\"Scrypt\"], [\"X11\"], [\"Blake2S\"], [\"X11\"], [\"PoS\"], [\"X11\"], [\"PoS\"], [\"X11\"], [\"Scrypt\"], [\"Scrypt\"], [\"Scrypt\"], [\"SHA-256\"], [\"X11\"], [\"Scrypt\"], [\"PoS\"], [\"Scrypt\"], [\"X15\"], [\"SHA-256\"], [\"POS 3.0\"], [\"536\"], [\"NIST5\"], [\"NIST5\"], [\"Skein\"], [\"X13\"], [\"Scrypt\"], [\"X13\"], [\"SkunkHash v2 Raptor\"], [\"Skein\"], [\"X11\"], [\"Scrypt\"], [\"PoS\"], [\"Scrypt\"], [\"Scrypt\"], [\"SHA-512\"], [\"Ouroboros\"], [\"X11\"], [\"NeoScrypt\"], [\"Scrypt\"], [\"Lyra2REv2\"], [\"Scrypt\"], [\"SHA-256\"], [\"NIST5\"], [\"PHI1612\"], [\"Scrypt\"], [\"Quark\"], [\"POS 2.0\"], [\"Scrypt\"], [\"SHA-256\"], [\"X11\"], [\"DPoS\"], [\"NIST5\"], [\"X13\"], [\"Scrypt\"], [\"NIST5\"], [\"Quark\"], [\"Scrypt\"], [\"Scrypt\"], [\"X11\"], [\"Quark\"], [\"Scrypt\"], [\"Scrypt\"], [\"X11\"], [\"POS 3.0\"], [\"Scrypt\"], [\"Scrypt\"], [\"X13\"], [\"C11\"], [\"X11\"], [\"XEVAN\"], [\"Scrypt\"], [\"VBFT\"], [\"NIST5\"], [\"Scrypt\"], [\"Scrypt\"], [\"Scrypt\"], [\"Green Protocol\"], [\"PoS\"], [\"Scrypt\"], [\"Semux BFT consensus\"], [\"Quark\"], [\"PoS\"], [\"X16R\"], [\"Scrypt\"], [\"XEVAN\"], [\"Scrypt\"], [\"Scrypt\"], [\"Scrypt\"], [\"SHA-256D\"], [\"Scrypt\"], [\"X15\"], [\"Scrypt\"], [\"Quark\"], [\"SHA-256\"], [\"DPoS\"], [\"X16R\"], [\"Quark\"], [\"Quark\"], [\"Scrypt\"], [\"Lyra2REv2\"], [\"Quark\"], [\"Scrypt\"], [\"X11\"], [\"X11\"], [\"Scrypt\"], [\"PoS\"], [\"Keccak\"], [\"X11\"], [\"Scrypt\"], [\"SHA-512\"], [\"XEVAN\"], [\"XEVAN\"], [\"X11\"], [\"Quark\"], [\"Scrypt\"], [\"Quark\"], [\"Quark\"], [\"Scrypt\"], [\"X11\"], [\"Scrypt\"], [\"XEVAN\"], [\"SHA-256D\"], [\"X11\"], [\"X11\"], [\"DPoS\"], [\"Scrypt\"], [\"X11\"], [\"Scrypt\"], [\"Scrypt\"], [\"SHA-256\"], [\"Scrypt\"], [\"X11\"], [\"Scrypt\"], [\"SHA-256\"], [\"X11\"], [\"Scrypt\"], [\"Scrypt\"], [\"X11\"], [\"Scrypt\"], [\"PoS\"], [\"X11\"], [\"SHA-256\"], [\"DPoS\"], [\"Scrypt\"], [\"Scrypt\"], [\"NeoScrypt\"], [\"X13\"], [\"DPoS\"], [\"DPoS\"], [\"SHA-256\"], [\"PoS\"], [\"PoS\"], [\"SHA-256\"], [\"Scrypt\"], [\"Scrypt\"]], \"hovertemplate\": \"<b>%{hovertext}</b><br><br>class=%{marker.color}<br>PC1=%{x}<br>PC2=%{y}<br>PC3=%{z}<br>Algorithm=%{customdata[0]}<extra></extra>\", \"hovertext\": [\"42 Coin\", \"404Coin\", \"EliteCoin\", \"Dash\", \"Bitshares\", \"BitcoinDark\", \"PayCoin\", \"KoboCoin\", \"Aurora Coin\", \"BlueCoin\", \"EnergyCoin\", \"BitBar\", \"CryptoBullion\", \"Diamond\", \"Exclusive Coin\", \"FlutterCoin\", \"HoboNickels\", \"HyperStake\", \"IOCoin\", \"MaxCoin\", \"MintCoin\", \"MazaCoin\", \"Nautilus Coin\", \"NavCoin\", \"OpalCoin\", \"Orbitcoin\", \"PotCoin\", \"PhoenixCoin\", \"Reddcoin\", \"SuperCoin\", \"SyncCoin\", \"TeslaCoin\", \"TittieCoin\", \"TorCoin\", \"UnitaryStatus Dollar\", \"UltraCoin\", \"VeriCoin\", \"X11 Coin\", \"Crypti\", \"StealthCoin\", \"ZCC Coin\", \"StorjCoin\", \"Neutron\", \"FairCoin\", \"RubyCoin\", \"Kore\", \"Dnotes\", \"8BIT Coin\", \"Sativa Coin\", \"Ucoin\", \"Vtorrent\", \"IslaCoin\", \"Nexus\", \"Droidz\", \"Squall Coin\", \"Diggits\", \"Paycon\", \"Emercoin\", \"EverGreenCoin\", \"Decred\", \"EDRCoin\", \"Hitcoin\", \"DubaiCoin\", \"PWR Coin\", \"BillaryCoin\", \"GPU Coin\", \"EuropeCoin\", \"ZeitCoin\", \"SwingCoin\", \"SafeExchangeCoin\", \"Nebuchadnezzar\", \"Ratecoin\", \"Revenu\", \"Clockcoin\", \"VIP Tokens\", \"BitSend\", \"Let it Ride\", \"PutinCoin\", \"iBankCoin\", \"Frankywillcoin\", \"MudraCoin\", \"Lutetium Coin\", \"GoldBlocks\", \"CarterCoin\", \"BitTokens\", \"MustangCoin\", \"ZoneCoin\", \"RootCoin\", \"BitCurrency\", \"Swiscoin\", \"BuzzCoin\", \"Opair\", \"PesoBit\", \"Halloween Coin\", \"CoffeeCoin\", \"RoyalCoin\", \"GanjaCoin V2\", \"TeamUP\", \"LanaCoin\", \"ARK\", \"InsaneCoin\", \"EmberCoin\", \"XenixCoin\", \"FreeCoin\", \"PLNCoin\", \"AquariusCoin\", \"Creatio\", \"Eternity\", \"Eurocoin\", \"BitcoinFast\", \"Stakenet\", \"BitConnect Coin\", \"MoneyCoin\", \"Enigma\", \"Russiacoin\", \"PandaCoin\", \"GameUnits\", \"GAKHcoin\", \"Allsafe\", \"LiteCreed\", \"Klingon Empire Darsek\", \"Internet of People\", \"KushCoin\", \"Printerium\", \"Impeach\", \"Zilbercoin\", \"FirstCoin\", \"FindCoin\", \"OpenChat\", \"RenosCoin\", \"VirtacoinPlus\", \"TajCoin\", \"Impact\", \"Atmos\", \"HappyCoin\", \"MacronCoin\", \"Condensate\", \"Independent Money System\", \"ArgusCoin\", \"LomoCoin\", \"ProCurrency\", \"GoldReserve\", \"GrowthCoin\", \"Phreak\", \"Degas Coin\", \"HTML5 Coin\", \"Ultimate Secure Cash\", \"QTUM\", \"Espers\", \"Denarius\", \"Virta Unique Coin\", \"Bitcoin Planet\", \"BritCoin\", \"Linda\", \"DeepOnion\", \"Signatum\", \"Cream\", \"Monoeci\", \"Draftcoin\", \"Stakecoin\", \"CoinonatX\", \"Ethereum Dark\", \"Obsidian\", \"Cardano\", \"Regalcoin\", \"TrezarCoin\", \"TerraNovaCoin\", \"Rupee\", \"WomenCoin\", \"Theresa May Coin\", \"NamoCoin\", \"LUXCoin\", \"Xios\", \"Bitcloud 2.0\", \"KekCoin\", \"BlackholeCoin\", \"Infinity Economics\", \"Magnet\", \"Lamden Tau\", \"Electra\", \"Bitcoin Diamond\", \"Cash & Back Coin\", \"Bulwark\", \"Kalkulus\", \"GermanCoin\", \"LiteCoin Ultra\", \"PhantomX\", \"Digiwage\", \"Trollcoin\", \"Litecoin Plus\", \"Monkey Project\", \"TokenPay\", \"My Big Coin\", \"Unified Society USDEX\", \"Tokyo Coin\", \"Stipend\", \"Pushi\", \"Ellerium\", \"Velox\", \"Ontology\", \"Bitspace\", \"Briacoin\", \"Ignition\", \"MedicCoin\", \"Bitcoin Green\", \"Deviant Coin\", \"Abjcoin\", \"Semux\", \"Carebit\", \"Zealium\", \"Proton\", \"iDealCash\", \"Bitcoin Incognito\", \"HollyWoodCoin\", \"Swisscoin\", \"Xt3ch\", \"TheVig\", \"EmaratCoin\", \"Dekado\", \"Lynx\", \"Poseidon Quark\", \"BitcoinWSpectrum\", \"Muse\", \"Trivechain\", \"Dystem\", \"Giant\", \"Peony Coin\", \"Absolute Coin\", \"Vitae\", \"TPCash\", \"ARENON\", \"EUNO\", \"MMOCoin\", \"Ketan\", \"XDNA\", \"PAXEX\", \"ThunderStake\", \"Kcash\", \"Bettex coin\", \"BitMoney\", \"Junson Ming Chan Coin\", \"HerbCoin\", \"Oduwa\", \"Galilel\", \"Crypto Sports\", \"Credit\", \"Dash Platinum\", \"Nasdacoin\", \"Beetle Coin\", \"Titan Coin\", \"Award\", \"Insane Coin\", \"ALAX\", \"LiteDoge\", \"TruckCoin\", \"OrangeCoin\", \"BitstarCoin\", \"NeosCoin\", \"HyperCoin\", \"PinkCoin\", \"AudioCoin\", \"IncaKoin\", \"Piggy Coin\", \"Genstake\", \"XiaoMiCoin\", \"CapriCoin\", \" ClubCoin\", \"Radium\", \"Creditbit \", \"OKCash\", \"Lisk\", \"HiCoin\", \"WhiteCoin\", \"FriendshipCoin\", \"Triangles Coin\", \"EOS\", \"Oxycoin\", \"TigerCash\", \"Particl\", \"Nxt\", \"ZEPHYR\", \"Gapcoin\", \"BitcoinPlus\"], \"legendgroup\": \"1\", \"marker\": {\"color\": [1, 1, 1, 1, 1, 1, 1, 1, 1, 1, 1, 1, 1, 1, 1, 1, 1, 1, 1, 1, 1, 1, 1, 1, 1, 1, 1, 1, 1, 1, 1, 1, 1, 1, 1, 1, 1, 1, 1, 1, 1, 1, 1, 1, 1, 1, 1, 1, 1, 1, 1, 1, 1, 1, 1, 1, 1, 1, 1, 1, 1, 1, 1, 1, 1, 1, 1, 1, 1, 1, 1, 1, 1, 1, 1, 1, 1, 1, 1, 1, 1, 1, 1, 1, 1, 1, 1, 1, 1, 1, 1, 1, 1, 1, 1, 1, 1, 1, 1, 1, 1, 1, 1, 1, 1, 1, 1, 1, 1, 1, 1, 1, 1, 1, 1, 1, 1, 1, 1, 1, 1, 1, 1, 1, 1, 1, 1, 1, 1, 1, 1, 1, 1, 1, 1, 1, 1, 1, 1, 1, 1, 1, 1, 1, 1, 1, 1, 1, 1, 1, 1, 1, 1, 1, 1, 1, 1, 1, 1, 1, 1, 1, 1, 1, 1, 1, 1, 1, 1, 1, 1, 1, 1, 1, 1, 1, 1, 1, 1, 1, 1, 1, 1, 1, 1, 1, 1, 1, 1, 1, 1, 1, 1, 1, 1, 1, 1, 1, 1, 1, 1, 1, 1, 1, 1, 1, 1, 1, 1, 1, 1, 1, 1, 1, 1, 1, 1, 1, 1, 1, 1, 1, 1, 1, 1, 1, 1, 1, 1, 1, 1, 1, 1, 1, 1, 1, 1, 1, 1, 1, 1, 1, 1, 1, 1, 1, 1, 1, 1, 1, 1, 1, 1, 1, 1, 1, 1, 1, 1, 1, 1, 1, 1, 1, 1, 1, 1, 1, 1, 1, 1, 1, 1, 1, 1, 1, 1, 1, 1, 1, 1, 1, 1], \"coloraxis\": \"coloraxis\", \"symbol\": \"circle\"}, \"mode\": \"markers\", \"name\": \"1\", \"scene\": \"scene\", \"showlegend\": true, \"type\": \"scatter3d\", \"x\": [-0.3334370781677879, -0.3167860928795252, 2.3152725107111642, -0.3911551113209266, -0.3207219273051736, -0.3113352021383226, -0.26793271219590126, -0.25519088309638244, -0.33309688339378957, -0.3256796012048291, -0.33193468515174024, -0.3334330169359549, -0.33341730864376173, -0.3569857174382808, -0.34163968541044293, -0.2841612969388489, -0.3314971448847462, -0.32759018056905637, -0.39104987998252244, -0.3780953656316171, -0.03013428704803567, -0.27466585512020153, -0.28978583803513724, -0.26701470334038796, -0.26763648357325576, -0.36401413485260203, -0.3277430950906898, -0.3318398836995284, 0.024457644095054857, -0.34746308547106763, -0.3914212046212679, -0.26071590831061775, -0.30476237992446065, -0.39133290119696656, -0.30868558617236797, -0.3321153465172442, -0.27422104514100093, -0.3912974035052969, -0.2611833645194732, -0.26741749797969827, -0.32454592837244456, -0.34295553794809164, -0.3105474417008091, -0.3564076806633247, -0.28976611749820763, -0.2677118136161956, -0.2844236373478468, -0.3334191590604785, -0.26766403280659035, -0.3479076155397653, -0.3331537157850863, -0.3914027462457404, -0.32956479175569536, -0.4312064684805776, -0.3741285669984985, -0.28816871683624284, -0.2671859838996886, -0.3038966716000566, -0.25763077496891024, -0.08909923309209467, -0.31130613613277247, -0.06908259925085829, -0.3113697912059463, -0.24076050800891247, -0.33302967294194635, -0.2880378046097676, -0.3885737478625181, 0.8626187728812639, -0.31116998026047415, 0.008961822070490436, -0.3413231695500859, -0.3892471996319085, -0.3099143186366163, -0.30758404122183824, -0.36203548166444705, -0.39013875587234215, -0.3648115585974699, -0.3093416948302761, -0.33306774346084966, -0.331507800525573, -0.22300450556289486, -0.3354067829526069, -0.3908769951616131, -0.3322725003686534, -0.31135075224541847, -0.3913919441181647, -0.33325678427130784, -0.33341339613297793, -0.2880274759173625, -0.24124311404018625, 0.05184689190936188, -0.34028094646052326, -0.333027818964695, -0.37756328781583515, -0.3396100615725137, -0.22443419974041273, -0.4329420723972555, -0.33935907392002473, -0.2624670957320207, 3.7473555198466357, -0.3909847575654947, 0.8637225568840736, -0.3913468846717156, -0.3407443860143327, -0.33295540906695353, -0.3331096274547173, -0.3413231695500859, -0.3909220616761692, -0.3112135202404044, -0.3329561465208446, -0.3288106548466255, -0.33310343748509885, -0.3286942753645244, -0.3913758581162611, -0.3323146404867906, 0.35305449976638326, -0.33330258194330165, -0.3333731081753758, -0.35819914680823595, -0.3628599862035605, -0.3296022843687035, -0.3113271821996706, -0.3912858700403915, -0.3331510664997481, -0.33327793137317163, -0.2896726711287672, -0.25145914864102575, -0.22420220926411594, -0.3141442944529794, -0.28941398807449686, -0.3905520872297866, -0.39258452630698093, -0.3892913237812543, -0.33957089754946, -0.3904500428407183, -0.33397455846874485, -0.38639367463616064, -0.33322125728038676, -0.3332204450268003, -0.32634654091296894, 0.2643923285708226, -0.3909282144669897, -0.2723260102508991, -0.34135743635138466, -0.332432458139606, 0.8759963555412953, -0.2666239552363269, -0.3635907265954092, 0.5981378266150388, -0.3635701024620227, -0.362073321506921, -0.43949260376833205, -0.267349336442187, 0.13120830393899965, -0.26742006418129227, -0.3438179081912185, -0.43899783056463204, -0.39120042247779263, -0.28974683632522735, -0.3412237909583905, -0.33285669473245943, -0.333356049283078, -0.37874733113130693, 0.6354930876188248, -0.3911412844093147, -0.3590166743985747, -0.3333116907287325, -0.3327464696501808, 0.4352839995872823, -0.3096745627314743, -0.34834699948423753, -0.38367512635008233, -0.3332620617215371, -0.39998107750803896, -0.35616926718657865, -0.33313255272793274, -0.09453265026993142, -0.3899347257552876, 3.752208324237056, 0.19554792768291623, -0.2640931389371396, -0.33059450200998186, -0.3199947095740696, -0.3580851273730748, 0.0807459329461191, -0.3322716268789394, -0.39051550173493726, -0.3572504018416377, -0.3198456755362395, -0.33337816559649514, -0.3478795639961604, -0.36509328395402146, -0.29677736196321275, -0.3289264047575896, -0.21600331695485894, -0.39279414793431433, -0.391217649634332, -0.31163246552362456, -0.2889073578003194, -0.32965519899326723, -0.3631693238367161, -0.3334055018334767, -0.33338722466420173, -0.283292514587429, -0.32145104466016455, -0.34081851801528007, -0.3331039213239816, 3.9224904221640413, -0.39865002489366574, -0.3410070599440616, -0.313925046731018, -0.2800085067063718, -0.2944921054058797, -0.2894412537056772, -0.1366506768220222, -0.28969313048206696, -0.3277400506175514, -0.3325782942191238, -0.21363586436099205, 2.2467167335988147, -0.3537957748307522, -0.2667516329400197, 1.0337523060297151, -0.3566011270013429, -0.35819858053450576, -0.40166414253777755, -0.1705000299755999, -0.3760138781141843, -0.3569189656862302, -0.3262866735726525, -0.3474572495877433, -0.3906913396850812, -0.2869404233920502, -0.3401074252307716, -0.34350638702316183, -0.3473187047842229, -0.19297697789047355, -0.45018369643645284, -0.2682864818117012, 0.5477985170711003, -0.1379773591032945, -0.40095923868810784, -0.33310789636186433, -0.4014150567252929, -0.3583154795765526, 0.5728096522413754, -0.34793384201656324, -0.3325911473106636, -0.30609172665183987, -0.2824890165240957, -0.38825750821108584, -0.3909184277979496, 3.7644417811545723, 0.10153645199250863, -0.38845979634331196, -0.3319770094326745, -0.33280149957239635, -0.2679653155333448, -0.33331949791152893, -0.3825518510812671, -0.247077396541981, -0.09114629846961218, -0.37830292883602906, -0.3325983114316181, -0.32566726812107416, -0.38748933751117476, -0.33103851735798007, -0.34159861422770366, -0.38354626056840857, -0.3098512574197252, 3.747747078247643, -0.09710456745452427, -0.3282351765214329, -0.363640226282653, -0.26781894898711944, 3.7576081620060755, 3.7588514330917056, -0.24887492634868033, -0.34153452544828494, -0.2955819032175123, 2.4821647782365535, -0.3314836870588263, -0.29008934419389626], \"y\": [1.0769949895461437, 1.0771547209342778, 1.6926142531237873, 1.2766060628618294, 2.178616123007176, 0.8790480498059106, 0.6018576592824102, 1.9690345516934686, 1.0769942711328455, 1.0772366997877356, 1.0770418016679137, 1.0769947786290144, 1.0769949305867634, 0.9571928993175015, 1.4549718254418236, 0.3019266613328686, 1.0769744378752122, 1.0000523379757718, 1.2766093416971236, 1.6235676004350443, 0.8078962523869994, 0.8785725596822024, 0.7997950163764517, 1.824203631824202, 1.8241842581756065, 0.6163212684988689, 1.076888915819515, 1.0769786081162205, 1.0881464000200334, 0.9994331309701291, 1.276612620575937, 0.06662702489718984, 1.5036074113008875, 1.2766086229046611, 1.0766862476274348, 1.076968675201117, 0.23868241966315282, 1.2766127663353246, 0.06667995708718172, 1.824191081406248, 1.0765970496069595, 1.3831836011740317, 0.8790415463407092, 0.9572138663761457, 0.7998065519081258, 1.8241738113327397, 0.799635528015712, 1.0769955479043845, 1.8241766500512406, 0.999405780673688, 1.0769903192087178, 1.276613196383509, 1.1761375653317654, 2.1244042989113776, 0.6452936724630364, 0.799788826927388, 1.8241645463258953, 0.8786196980316819, 1.9691770189702007, 1.0954079349900048, 0.8790489554548006, 1.2687356135969399, 0.8790547342634396, 1.613709551894158, 1.0769793347612093, 0.7997111986108901, 1.2764421534694428, 0.7688905857904098, 0.8790410483235831, -0.14616006834832795, 1.4549681880838392, 1.2766297366509187, 0.8789568381291586, 0.8788254181048244, 1.609870075715091, 1.2765587589181298, 1.4672232991937972, 1.0763958149375437, 1.0769765736084234, 1.0769876053341871, 1.5468907695156868, 0.9993653278827013, 1.2765958292438866, 1.0769705282813864, 0.8790482402637293, 1.2766115080393432, 1.0769864327907792, 1.0769957274677189, 0.7998607251179543, 0.3456561331877367, 1.9193023116009382, 1.4549642134675445, 1.0770077414176173, 1.2760319507879399, 1.4550080663062614, 1.5469795297928546, 2.0067129023087587, 1.4548397185003277, 1.917941924772669, 1.7485956292954472, 1.2766059710159638, 1.8588618161158523, 1.2766123360445136, 1.454965972819321, 1.0769839841098334, 1.0769768435101974, 1.4549681880838392, 1.2765876753098715, 0.8790531911606798, 1.0769877004855077, 0.5380041215679562, 1.0769864860093046, 1.0767035893191663, 1.2766106593055642, 1.0769327666924182, 0.7978890750316155, 1.0769904055991846, 1.0769947447042572, 1.4322533375032498, 0.7497036584693889, 1.076776988657051, 0.8790489746675584, 1.276610524351006, 1.0769904017560885, 1.0769851439067957, 0.7997723399973727, 0.22382803939162857, 1.5469786418611169, 1.0769211473986426, 0.7997942867560612, 1.2765722041622294, 1.932807745175327, 1.2766047377404472, 1.4549618426121134, 1.276575383697426, 1.4549406687563364, 1.2764317840297597, 1.076987396577272, 1.0769824352627662, 1.0765409454840331, 0.5678294514928008, 1.276600983070241, 0.7990000098228887, 1.454960370651112, 1.0769554196571336, 1.9437691044269145, 0.601771823619728, 1.4672164525677227, 1.9004956807763607, 1.6098762573418632, 1.609848647481079, 2.0091123374069193, 1.8241729560007556, 1.057723896858045, 1.8241782456706503, 1.3069051546328412, 2.0091277537255428, 1.2766130833025358, 0.7997954041613892, 1.4549432056806968, 1.0769805045427938, 1.076994679412215, 2.179176751702862, 1.542446908327014, 1.276603118817837, 0.6162095363669661, 1.0769882768569183, 0.6863626458971022, 1.084072734025966, 0.8790471446586954, 1.6095473656365649, 1.7812097137064424, 1.076986268354117, 1.7093757641254717, 1.3436426251939018, 1.076994496390653, 0.6011941949206675, 1.2765617412929398, 1.7484937196073924, 1.6070549977742674, 1.8241529185144285, 1.0769418151210088, 1.3326728840274598, 1.4322535152933706, 1.05615157243974, 1.0769300570842764, 1.2766070927840383, 1.4322120266109402, 1.076810999104667, 1.0769941252990045, 0.9994059797400537, 1.467220258370673, 0.3753690766985494, 1.0769789408673558, 1.5467039308925359, 1.0381332186512684, 1.2766020893502432, 1.2697899970984758, 0.7997496127253169, 1.4814076477114997, 1.6098617460017326, 1.0769939485204167, 1.0769931680598064, 0.7996707719390814, 1.4512505953103436, 1.4549380139929076, 1.0769851209865615, 1.8148917284037966, 1.7094172375340018, 1.4549375391252297, 0.5714945416641126, 1.0752025542669055, 0.6384926275630405, 0.7997991248166053, 1.07624179961307, 0.7997791272267628, 1.920906981125484, 1.076965050089708, 1.6919556778849512, 0.25633899193527815, 1.43196193111533, 0.6018352225999907, 1.5798646911908834, 0.848688635228159, 1.4322493053060457, 1.7094548405127254, 0.7921291331855204, 0.9635444208394798, 1.432235853087197, 1.0765428108518147, 0.9993961892608378, 1.2766016139629432, 0.7997191027596882, 1.4548778236992592, 0.9845577786565245, 0.9993701322786593, 1.0692219710162452, 3.538021605954284, 0.9925981834206234, 0.40419839697454285, 1.0059603613870471, 1.709443832372956, 1.0769910718929658, 1.7094532296094342, 1.4322508129725773, 1.0547441236958734, 0.9994051659919082, 1.0769646496085317, 1.2696656490350975, 1.9190095584190112, 1.276427707928279, 1.2766080377423412, 1.7485374072083908, 1.0669239741945662, 1.276704893858328, 1.0769054882009477, 1.076978171711552, 0.6018509061408202, 1.0769986531817415, 1.2765514889280298, 1.0725985927226047, 0.885795378051821, 1.276346391571306, 1.0770109995619686, 1.0769670946422492, 1.2765947372576278, 1.0769617290116305, 1.454967030390233, 0.6970369582063379, 0.8790382642752511, 1.748584260613947, 0.7990538692617222, 1.0769545801993292, 0.6162948516177309, 1.824178491856824, 1.7489994564441531, 1.7490381947247382, 0.6017849321293162, 1.4549692742369345, 1.504218174274689, 0.7704563559793534, 1.0768871106360915, 0.7997958057227642], \"z\": [-0.5070049283904, -0.5074482986067133, -0.5556358700813651, -0.4303367275489064, 0.20616920563172006, -0.29462959086135254, -0.06213513414301433, -0.5416422727410721, -0.5070135711510052, -0.5072289537638967, -0.5070483154576985, -0.5070050104435272, -0.5070054288449386, -0.36735452686345826, -0.14392550595116024, -0.30987696433737705, -0.5070524951827172, -0.19842541548076226, -0.43033976648665406, -0.6834790208513751, -0.2820153690193174, -0.2955196321288377, -0.2745158456915664, -0.50320027462115, -0.5031823184547665, -0.22218242737804947, -0.5071397674233737, -0.5070441475901978, -0.5173404405903874, -0.19785151305016346, -0.4303305933040017, 0.035770004554290684, -0.2524079534104382, -0.43033243880360494, -0.5076069732148943, -0.507036051668447, -0.3388178788555798, -0.43033378102267633, 0.03577645751797892, -0.5031886424604933, -0.5071912273410522, -0.1399554529036211, -0.2946490989038952, -0.36737152841658194, -0.274517555323187, -0.5031792974415062, -0.2746366061993243, -0.5070054458727743, -0.5031808182169203, -0.19783726632013374, -0.5070117022060782, -0.43033112642721555, -0.7555424836403474, -0.5869943016292325, -0.33858096577419894, -0.2745566395439198, -0.5031918050043276, -0.29477549038079237, -0.5415946217613009, -0.3999351378383874, -0.29463043024801067, -0.4377684382828028, -0.2946294023277128, -0.5207393375817202, -0.5070137341567571, -0.2745518900946125, -0.43038576535343054, -0.3008207919466614, -0.2946330938678779, -0.3921783663714214, -0.14393323719116738, -0.4303880907767139, -0.294656479884459, -0.29470247520902665, -0.5172307396135718, -0.4303578340641879, -0.1887183730963924, -0.5075598395501825, -0.5070124703128884, -0.5070535967693293, -0.27070860518660095, -0.19815338691337792, -0.43034278613503574, -0.507032217932735, -0.2946292122607862, -0.4303312269818984, -0.5070086552632046, -0.5070056122982727, -0.27456776492435536, -0.39700705870866054, -0.5808257865826201, -0.14395953004576947, -0.5070167472418129, -0.4306250931144552, -0.1439813001168241, -0.27068123446368253, -0.6195493834633327, -0.14397015683478914, -0.5726292207410635, -0.15344388296411213, -0.4303410834105709, -0.5357945313077825, -0.43033246810737946, -0.1439478377109788, -0.5070161226064467, -0.5070114251793107, -0.14393323719116738, -0.430340780021963, -0.2946332457995584, -0.507016491687824, -0.1567812985431848, -0.5070125904521097, -0.5070960451064285, -0.4303315505930266, -0.5070271958545883, -0.29079016434247446, -0.5070078964116078, -0.5070065421113904, -0.22554397473643673, -0.26225843612772043, -0.5070804393408411, -0.29462989293160957, -0.4303338425199761, -0.5070117787138309, -0.5070079787960641, -0.27451637833280873, -0.25462764229141766, -0.2706870867060771, -0.5074916123636755, -0.2745252984714532, -0.43034864576612625, -0.5535540211315849, -0.43038435024410504, -0.1439774781016948, -0.43035159266911827, -0.14411867823868563, -0.43044054891873157, -0.5070096662871414, -0.5070091691544361, -0.5071392281029607, -0.07222393593531087, -0.4303420116447511, -0.27488027116969826, -0.14393154295910618, -0.507026541589885, -0.5679922010755437, -0.06215971107535505, -0.18874894311627727, -0.5256739425391336, -0.5171920590828204, -0.5172275328899395, -0.6041392640244237, -0.5031884969123619, -0.5168999867531241, -0.5031872366846732, -0.1739620457780476, -0.6041535524007628, -0.43033629932892636, -0.2745168856249833, -0.14393317575345077, -0.5070182889825142, -0.5070069724427307, 0.20759762456710157, -0.20471366468517443, -0.43033677452453123, -0.22229882674461685, -0.5070074407570216, -0.05732756074066144, -0.5274429125125316, -0.29467205156862786, -0.5175478277989779, -0.48403543408523286, -0.5070085028576289, -0.4580728643298246, -0.1001195902629448, -0.5070126806123073, -0.06650938445803783, -0.4303633738493676, -0.15355760083994507, -0.5312253705264439, -0.5032698476989372, -0.5070722203981826, -0.2847006777725867, -0.22554691513570058, -0.5154427021986318, -0.5070280152369043, -0.4303532255729157, -0.22556397433727643, -0.5073340107771864, -0.5070063478467878, -0.19783800594516168, -0.18871083620722762, -0.37306689825165307, -0.507118842537504, -0.27086851076912183, -0.31968919662385453, -0.430334710131528, -0.525854608434436, -0.2745336174303507, -0.13647972820244617, -0.5172008144097218, -0.5070056288788404, -0.5070060157678984, -0.2746692714842793, -0.14087690237889713, -0.14394301919642838, -0.5070124355488007, -0.08207794945065716, -0.4581113033166968, -0.14393813808508554, -0.04036913079405889, -0.5081869526905282, -0.4341033314158621, -0.2745251048480045, -0.5119691051058841, -0.27451656261340157, -0.57126609307794, -0.5070238098148669, -0.3091121151404422, -0.3715373269355306, -0.22562639262511663, -0.06216305790899962, -0.14737295620331287, -0.27288258892354056, -0.22554356829754843, -0.4580379898068288, -0.2767723423991518, -0.28982457958648444, -0.22557495506910222, -0.5071409569902213, -0.19784780598825408, -0.4303481476123721, -0.2745808365298301, -0.14395495781492842, -0.32897679346640696, -0.19784863603274092, -0.5097928485031653, 0.8585178542216344, -0.2933585551257869, -0.47429273028004704, -0.20390117554948287, -0.45805490430816553, -0.5070129549432735, -0.4580442046545678, -0.2255407300630316, -0.5279052916282441, -0.19783653007480395, -0.5070234386350866, -0.5259836126734828, -0.5722276011026043, -0.43039236117129337, -0.43034299892392947, -0.15387565374096834, -0.5171000843321842, -0.43041611481268127, -0.5070330001200217, -0.5070194598612231, -0.062133593647549785, -0.5070083239510372, -0.43055149555119215, -0.5087589922146312, -0.30097650836664164, -0.43063896596423934, -0.5070280938542072, -0.5072011237863983, -0.43042948354929583, -0.5070629211071138, -0.1439260578428333, -0.21019702051815878, -0.2946665965399023, -0.15345273010021684, -0.2793760824113068, -0.5071340126238202, -0.22218925123331018, -0.503177040646254, -0.15374877347640467, -0.15378467745226837, -0.0626159125118172, -0.14392793441995994, -0.03263220925751549, -0.06912745005854937, -0.5070437233308503, -0.27450815051103583]}, {\"customdata\": [[\"SHA-256\"], [\"Ethash\"], [\"Scrypt\"], [\"CryptoNight-V7\"], [\"Ethash\"], [\"Equihash\"], [\"Multiple\"], [\"Scrypt\"], [\"X11\"], [\"Scrypt\"], [\"Multiple\"], [\"Scrypt\"], [\"SHA-256\"], [\"Scrypt\"], [\"Scrypt\"], [\"Quark\"], [\"Groestl\"], [\"Scrypt\"], [\"Scrypt\"], [\"Scrypt\"], [\"X11\"], [\"Scrypt\"], [\"Multiple\"], [\"SHA-256\"], [\"Scrypt\"], [\"Scrypt\"], [\"Scrypt\"], [\"Scrypt\"], [\"Scrypt\"], [\"NeoScrypt\"], [\"Scrypt\"], [\"Scrypt\"], [\"Scrypt\"], [\"Scrypt\"], [\"SHA-256\"], [\"Scrypt\"], [\"Scrypt\"], [\"Scrypt\"], [\"Scrypt\"], [\"HybridScryptHash256\"], [\"Scrypt\"], [\"Scrypt\"], [\"SHA-256\"], [\"Scrypt\"], [\"Scrypt\"], [\"Scrypt\"], [\"Scrypt\"], [\"SHA-256\"], [\"SHA-256\"], [\"SHA-256\"], [\"SHA-256\"], [\"SHA-256\"], [\"X11\"], [\"Scrypt\"], [\"Lyra2REv2\"], [\"Scrypt\"], [\"SHA-256\"], [\"CryptoNight\"], [\"CryptoNight\"], [\"Shabal256\"], [\"Scrypt\"], [\"Scrypt\"], [\"Scrypt\"], [\"Scrypt\"], [\"Scrypt\"], [\"Scrypt\"], [\"Stanford Folding\"], [\"Multiple\"], [\"QuBit\"], [\"Scrypt\"], [\"Scrypt\"], [\"M7 POW\"], [\"Scrypt\"], [\"SHA-256\"], [\"Scrypt\"], [\"X11\"], [\"Lyra2RE\"], [\"SHA-256\"], [\"X11\"], [\"Scrypt\"], [\"Scrypt\"], [\"Ethash\"], [\"Blake2b\"], [\"X11\"], [\"SHA-256\"], [\"Scrypt\"], [\"1GB AES Pattern Search\"], [\"Scrypt\"], [\"SHA-256\"], [\"X11\"], [\"Dagger\"], [\"Scrypt\"], [\"X11GOST\"], [\"Scrypt\"], [\"X11\"], [\"Scrypt\"], [\"X11\"], [\"Equihash\"], [\"CryptoNight\"], [\"SHA-256\"], [\"Multiple\"], [\"Scrypt\"], [\"SHA-256\"], [\"Scrypt\"], [\"Lyra2Z\"], [\"Ethash\"], [\"Equihash\"], [\"Scrypt\"], [\"X11\"], [\"X11\"], [\"CryptoNight\"], [\"Scrypt\"], [\"CryptoNight\"], [\"Lyra2RE\"], [\"X11\"], [\"CryptoNight-V7\"], [\"Scrypt\"], [\"X11\"], [\"Equihash\"], [\"Scrypt\"], [\"Lyra2RE\"], [\"Dagger-Hashimoto\"], [\"Scrypt\"], [\"NIST5\"], [\"Scrypt\"], [\"SHA-256\"], [\"Scrypt\"], [\"CryptoNight-V7\"], [\"Argon2d\"], [\"Blake2b\"], [\"Cloverhash\"], [\"CryptoNight\"], [\"X11\"], [\"Scrypt\"], [\"Scrypt\"], [\"X11\"], [\"X11\"], [\"CryptoNight\"], [\"Time Travel\"], [\"Scrypt\"], [\"Keccak\"], [\"X11\"], [\"SHA-256\"], [\"Scrypt\"], [\"Scrypt\"], [\"Scrypt\"], [\"Scrypt\"], [\"Scrypt\"], [\"Scrypt\"], [\"CryptoNight\"], [\"Equihash\"], [\"X11\"], [\"NeoScrypt\"], [\"Equihash\"], [\"Dagger\"], [\"Scrypt\"], [\"X11\"], [\"NeoScrypt\"], [\"Ethash\"], [\"NeoScrypt\"], [\"Multiple\"], [\"CryptoNight\"], [\"CryptoNight\"], [\"Ethash\"], [\"X11\"], [\"CryptoNight-V7\"], [\"Scrypt\"], [\"BLAKE256\"], [\"X11\"], [\"NeoScrypt\"], [\"NeoScrypt\"], [\"Scrypt\"], [\"X11\"], [\"SHA-256\"], [\"C11\"], [\"Ethash\"], [\"CryptoNight\"], [\"SkunkHash\"], [\"CryptoNight\"], [\"Scrypt\"], [\"Dagger\"], [\"Lyra2REv2\"], [\"Scrypt\"], [\"Scrypt\"], [\"X11\"], [\"Ethash\"], [\"CryptoNight\"], [\"Scrypt\"], [\"IMesh\"], [\"Equihash\"], [\"Lyra2Z\"], [\"X11\"], [\"CryptoNight\"], [\"NIST5\"], [\"Lyra2RE\"], [\"Tribus\"], [\"Lyra2Z\"], [\"CryptoNight\"], [\"CryptoNight Heavy\"], [\"CryptoNight\"], [\"Jump Consistent Hash\"], [\"CryptoNight\"], [\"X16R\"], [\"HMQ1725\"], [\"X11\"], [\"Scrypt\"], [\"CryptoNight-V7\"], [\"Cryptonight-GPU\"], [\"XEVAN\"], [\"CryptoNight Heavy\"], [\"SHA-256\"], [\"X11\"], [\"X16R\"], [\"Equihash\"], [\"Lyra2Z\"], [\"SHA-256\"], [\"CryptoNight\"], [\"Blake\"], [\"Blake\"], [\"Equihash\"], [\"Exosis\"], [\"Scrypt\"], [\"Equihash\"], [\"Equihash\"], [\"QuBit\"], [\"SHA-256\"], [\"X13\"], [\"SHA-256\"], [\"Scrypt\"], [\"NeoScrypt\"], [\"Blake\"], [\"Scrypt\"], [\"SHA-256\"], [\"Scrypt\"], [\"Groestl\"], [\"Scrypt\"], [\"Scrypt\"], [\"Multiple\"], [\"Equihash+Scrypt\"], [\"Ethash\"], [\"Leased POS\"], [\"CryptoNight\"], [\"Equihash\"]], \"hovertemplate\": \"<b>%{hovertext}</b><br><br>class=%{marker.color}<br>PC1=%{x}<br>PC2=%{y}<br>PC3=%{z}<br>Algorithm=%{customdata[0]}<extra></extra>\", \"hovertext\": [\"Bitcoin\", \"Ethereum\", \"Litecoin\", \"Monero\", \"Ethereum Classic\", \"ZCash\", \"DigiByte\", \"ProsperCoin\", \"Spreadcoin\", \"Argentum\", \"MyriadCoin\", \"MoonCoin\", \"ZetaCoin\", \"SexCoin\", \"Quatloo\", \"QuarkCoin\", \"Riecoin\", \"Digitalcoin \", \"Catcoin\", \"CannaCoin\", \"CryptCoin\", \"CasinoCoin\", \"Verge\", \"DevCoin\", \"EarthCoin\", \"E-Gulden\", \"Einsteinium\", \"Emerald\", \"Franko\", \"FeatherCoin\", \"GrandCoin\", \"GlobalCoin\", \"GoldCoin\", \"Infinite Coin\", \"IXcoin\", \"KrugerCoin\", \"LuckyCoin\", \"Litebar \", \"MegaCoin\", \"MediterraneanCoin\", \"MinCoin\", \"NobleCoin\", \"Namecoin\", \"NyanCoin\", \"RonPaulCoin\", \"StableCoin\", \"SmartCoin\", \"SysCoin\", \"TigerCoin\", \"TerraCoin\", \"UnbreakableCoin\", \"Unobtanium\", \"UroCoin\", \"ViaCoin\", \"Vertcoin\", \"WorldCoin\", \"JouleCoin\", \"ByteCoin\", \"DigitalNote \", \"BurstCoin\", \"MonaCoin\", \"Gulden\", \"PesetaCoin\", \"Wild Beast Coin\", \"Flo\", \"ArtByte\", \"Folding Coin\", \"Unitus\", \"CypherPunkCoin\", \"OmniCron\", \"GreenCoin\", \"Cryptonite\", \"MasterCoin\", \"SoonCoin\", \"1Credit\", \"MarsCoin \", \"Crypto\", \"Anarchists Prime\", \"BowsCoin\", \"Song Coin\", \"BitZeny\", \"Expanse\", \"Siacoin\", \"MindCoin\", \"I0coin\", \"Revolution VR\", \"HOdlcoin\", \"Gamecredits\", \"CarpeDiemCoin\", \"Adzcoin\", \"SoilCoin\", \"YoCoin\", \"SibCoin\", \"Francs\", \"BolivarCoin\", \"Omni\", \"PizzaCoin\", \"Komodo\", \"Karbo\", \"ZayedCoin\", \"Circuits of Value\", \"DopeCoin\", \"DollarCoin\", \"Shilling\", \"ZCoin\", \"Elementrem\", \"ZClassic\", \"KiloCoin\", \"ArtexCoin\", \"Kurrent\", \"Cannabis Industry Coin\", \"OsmiumCoin\", \"Bikercoins\", \"HexxCoin\", \"PacCoin\", \"Citadel\", \"BeaverCoin\", \"VaultCoin\", \"Zero\", \"Canada eCoin\", \"Zoin\", \"DubaiCoin\", \"EB3coin\", \"Coinonat\", \"BenjiRolls\", \"ILCoin\", \"EquiTrader\", \"Quantum Resistant Ledger\", \"Dynamic\", \"Nano\", \"ChanCoin\", \"Dinastycoin\", \"DigitalPrice\", \"Unify\", \"SocialCoin\", \"ArcticCoin\", \"DAS\", \"LeviarCoin\", \"Bitcore\", \"gCn Coin\", \"SmartCash\", \"Onix\", \"Bitcoin Cash\", \"Sojourn Coin\", \"NewYorkCoin\", \"FrazCoin\", \"Kronecoin\", \"AdCoin\", \"Linx\", \"Sumokoin\", \"BitcoinZ\", \"Elements\", \"VIVO Coin\", \"Bitcoin Gold\", \"Pirl\", \"eBoost\", \"Pura\", \"Innova\", \"Ellaism\", \"GoByte\", \"SHIELD\", \"UltraNote\", \"BitCoal\", \"DaxxCoin\", \"AC3\", \"Lethean\", \"PopularCoin\", \"Photon\", \"Sucre\", \"SparksPay\", \"GunCoin\", \"IrishCoin\", \"Pioneer Coin\", \"UnitedBitcoin\", \"Interzone\", \"1717 Masonic Commemorative Token\", \"TurtleCoin\", \"MUNcoin\", \"Niobio Cash\", \"ShareChain\", \"Travelflex\", \"KREDS\", \"BitFlip\", \"LottoCoin\", \"Crypto Improvement Fund\", \"Callisto Network\", \"BitTube\", \"Poseidon\", \"Aidos Kuneen\", \"Bitrolium\", \"Alpenschillling\", \"FuturoCoin\", \"Monero Classic\", \"Jumpcoin\", \"Infinex\", \"KEYCO\", \"GINcoin\", \"PlatinCoin\", \"Loki\", \"Newton Coin\", \"MassGrid\", \"PluraCoin\", \"Motion\", \"PlusOneCoin\", \"Axe\", \"HexCoin\", \"Webchain\", \"Ryo\", \"Urals Coin\", \"Qwertycoin\", \"Project Pai\", \"Azart\", \"Xchange\", \"CrypticCoin\", \"Actinium\", \"Bitcoin SV\", \"FREDEnergy\", \"Universal Molecule\", \"Lithium\", \"PirateCash\", \"Exosis\", \"Block-Logic\", \"Beam\", \"Bithereum\", \"SLICE\", \"BLAST\", \"Bitcoin Rhodium\", \"GlobalToken\", \"SolarCoin\", \"UFO Coin\", \"BlakeCoin\", \"Crypto Escudo\", \"Crown Coin\", \"SmileyCoin\", \"Groestlcoin\", \"Bata\", \"Pakcoin\", \"JoinCoin\", \"Vollar\", \"Reality Clash\", \"Waves\", \"Beldex\", \"Horizen\"], \"legendgroup\": \"0\", \"marker\": {\"color\": [0, 0, 0, 0, 0, 0, 0, 0, 0, 0, 0, 0, 0, 0, 0, 0, 0, 0, 0, 0, 0, 0, 0, 0, 0, 0, 0, 0, 0, 0, 0, 0, 0, 0, 0, 0, 0, 0, 0, 0, 0, 0, 0, 0, 0, 0, 0, 0, 0, 0, 0, 0, 0, 0, 0, 0, 0, 0, 0, 0, 0, 0, 0, 0, 0, 0, 0, 0, 0, 0, 0, 0, 0, 0, 0, 0, 0, 0, 0, 0, 0, 0, 0, 0, 0, 0, 0, 0, 0, 0, 0, 0, 0, 0, 0, 0, 0, 0, 0, 0, 0, 0, 0, 0, 0, 0, 0, 0, 0, 0, 0, 0, 0, 0, 0, 0, 0, 0, 0, 0, 0, 0, 0, 0, 0, 0, 0, 0, 0, 0, 0, 0, 0, 0, 0, 0, 0, 0, 0, 0, 0, 0, 0, 0, 0, 0, 0, 0, 0, 0, 0, 0, 0, 0, 0, 0, 0, 0, 0, 0, 0, 0, 0, 0, 0, 0, 0, 0, 0, 0, 0, 0, 0, 0, 0, 0, 0, 0, 0, 0, 0, 0, 0, 0, 0, 0, 0, 0, 0, 0, 0, 0, 0, 0, 0, 0, 0, 0, 0, 0, 0, 0, 0, 0, 0, 0, 0, 0, 0, 0, 0, 0, 0, 0, 0, 0, 0, 0, 0, 0, 0, 0, 0, 0, 0, 0, 0, 0, 0, 0, 0, 0, 0, 0, 0, 0, 0, 0, 0, 0, 0, 0, 0], \"coloraxis\": \"coloraxis\", \"symbol\": \"diamond\"}, \"mode\": \"markers\", \"name\": \"0\", \"scene\": \"scene\", \"showlegend\": true, \"type\": \"scatter3d\", \"x\": [-0.1490943309682459, -0.1612798823416799, -0.1700275521004666, -0.15894790861203814, -0.15972286297113247, -0.12943284612961792, 0.14432578035476343, -0.17117305507046066, -0.2290985882901171, -0.17078983333367762, -0.10891878640230883, 2.549030365023104, -0.14618114483046965, -0.16804698491745762, -0.1705939798054903, -0.23480945236856568, -0.19381226141129265, -0.17064273716246703, -0.1711553328592045, -0.17124173366138265, -0.22918787206031044, 0.7392422308376021, 0.16805764488264086, 0.2285089815047951, 0.07732830180122295, -0.1709881941642949, -0.16659632502715213, -0.17092752424518878, -0.1712986994840441, -0.19710745709511926, -0.15053431704306863, -0.17009458376223083, -0.17037184646595088, 1.5764821796035386, -0.14905572603929476, -0.16766296761097088, -0.17101461857480685, -0.17136920352587395, -0.17062893051647396, -0.1853486108708322, -0.17125054562587028, -0.03623997429908477, -0.14913328506824278, -0.16491854795118446, -0.1712299966805531, -0.16932551383155384, -0.17071706940102377, -0.1362935780022198, -0.14859739961896606, -0.1488844157385315, -0.14886739815304703, -0.14945774140816057, -0.22936165756624094, -0.17094667354462742, -0.2132839117128186, -0.16805169014847796, -0.14866465046364724, 3.852908010791777, 0.4540706177332606, 0.20844771443541418, -0.1698149895404161, -0.1544235394899608, -0.16853463537238098, -0.171371410907024, -0.16839976664274184, -0.15463224320386043, -0.15064701765218222, -0.14290352800561132, -0.2016649810610081, -0.17124457250108477, -0.044263255743039395, -0.16591241606549162, -0.17138029827762757, -0.14916104417175033, 0.4803767450633392, -0.22874923822824647, -0.15118682106175974, -0.14890106716382367, -0.22903395242773908, -0.1695052497512647, -0.16869801293163678, -0.16234662680442777, 0.38493488064321907, -0.22906932750347553, -0.14905684764652002, -0.16734076498292766, -0.1524237816562831, -0.1699445736906542, 0.2691571857349733, -0.22823058173063912, -0.15098671024975058, -0.17019180591999153, -0.17153968950655835, -0.1711703423315725, -0.2290325921560527, -0.17138035673476465, -0.22918246388891914, -0.13808007356712265, 0.2990745789346876, -0.14931676428184884, -0.1229887827243866, -0.16854887544175376, -0.14927542104170227, -0.17104396962412147, -0.1636265975324434, -0.1620889512728366, -0.12945444888236882, -0.09815143637626436, -0.21577449896165474, -0.22701198274939863, 0.29906895024308705, -0.17136210597058946, 0.2991995810527435, -0.15172692677013214, 0.48562265759389894, -0.15771336864250848, -0.17133041387334647, -0.22192100561368636, -0.1294668168268517, -0.16946488300687582, -0.15144548953352907, -0.1711217463280802, -0.14227200709685756, -0.20118161757092468, -0.17089307007976337, -0.11566335706493912, -0.17071524075302677, -0.15757122474047608, -0.15980023051519682, -0.015103278962185877, -0.16894452254246858, 0.33516771271867435, -0.2282389645133014, -0.17103430811529424, -0.17079782718226036, -0.22863339648101372, -0.22921047991756488, 0.2994636872809703, -0.18296752068005406, 3.2361283313803733, -0.12133030934967871, -0.22008829401352478, -0.14909349573824637, -0.09699977022768821, 1.5744833176609014, -0.17113209070808788, -0.17058407579382853, -0.17028524360430572, -0.17027218317260742, 0.2996471869216792, 0.08272582703339594, -0.18362700610642838, -0.20179319302836562, -0.129312968613148, -0.14974658618447853, -0.16946309334596268, -0.2247577483250789, -0.2016387014134888, -0.1604551533998161, -0.2017388444912427, -0.133141591991799, 1.1364843529302864, 0.2990517285957504, -0.08539096069887063, -0.22449942977390425, -0.14669020790772594, -0.08757372145615695, 1.0776145935414088, -0.2291844954297055, -0.20179075520220557, -0.1948330768614112, -0.170383572949949, -0.22910995118007926, -0.1490729070254974, -0.2307152723142583, -0.2812690582836584, 8.03209186638321, -0.1491611620184574, 0.30292369990927914, 0.021535595517840938, -0.14925014799909336, -0.19885118741879426, -0.17095692602473156, 0.13592216716696484, -0.2232545842259217, -0.1135227691585562, 0.30696993675621354, -0.17119378604443503, -0.15922604483903052, -0.12830471112551187, -0.1614114880512408, -0.2282797100521833, 0.2992341286696314, -0.2012410481717365, -0.15157226244952923, -0.1912575013761128, -0.16371092167577497, 0.3031599287618426, 0.5936886710799663, 2.1065820510011295, -0.1614047046612811, 0.3128303951769317, -0.19533626658842057, -0.15583291869927587, -0.2291666670488744, -0.17121835133941765, -0.14656993835560586, -0.17227610366033433, -0.1483500636486016, 3.114636971563034, -0.10894711781551207, -0.22913805034425289, -0.19476434320190888, -0.02412633039785231, -0.16310904917248356, -0.14909353327892438, 0.378944121972237, -0.15068663619771416, -0.1510784260149487, -0.24746911542139508, -0.1631227665818262, -0.1701113494670967, -0.1273742791970602, -0.1291458947230889, -0.2008764447214832, -0.14837014005566593, -0.10574752388612257, -0.1472387940316044, 0.5242690727914683, -0.1270045010809934, -0.10157443499764959, -0.1547827300483841, -0.14888378660455537, 0.5440011596020499, -0.1933735446264999, -0.171295144189477, -0.1692521504994304, -0.14363792812603837, -0.10673715247348384, -0.16212208846190324, -0.29794414888937987, 0.3207949212462236, -0.12943390238085387], \"y\": [-1.2881202942007268, -2.0384735046299465, -1.0901943138217727, -2.1586895404004465, -2.038566734916883, -2.2189929308942666, -1.828534514753893, -1.090187482474504, -0.8905673501558086, -1.090204565779063, -1.8236007009660091, -1.26460609406899, -1.2881299572035787, -1.090244648219379, -1.09022276235367, -0.45773366114241804, -1.2100008032484488, -1.0901892949731384, -1.0901869302795721, -1.0901843170941683, -0.890568782144005, -0.14895518058878085, -1.8247948114431707, -1.2905150668440937, -1.0915425578492108, -1.090181722512952, -1.0902330566376528, -1.0901872568472986, -1.090184806779557, -1.5509266180939387, -1.0904891128532868, -1.0901869527881694, -1.0901971076257624, -1.09687185213771, -1.2881190913346674, -1.0902430915044843, -1.090181870880528, -1.0901803309070535, -1.0901847028938032, -2.0750856208429185, -1.0901824722434976, -1.0960936187376664, -1.2881215079463468, -1.090205893972702, -1.0901892566813474, -1.0902844850758642, -1.0901936589131214, -1.2883066458852077, -1.2881223680284715, -1.2881279280324396, -1.2881530467877744, -1.2881176117704645, -0.890562047490233, -1.090181778745907, -1.2036306204054983, -1.0902552034589101, -1.2881231054288917, -2.2573605175528946, -2.2455017865722176, -0.8435433927038714, -1.090201946163868, -1.0907853762753292, -1.090203405365613, -1.0901812623016265, -1.0901948926968377, -1.0903328971185953, -2.1859776240019144, -1.8233096624545846, -1.417444736299085, -1.0901778119584966, -1.0929687431800654, -2.0681318416696857, -1.0901801835182212, -1.2881223728743196, -1.1319696562559802, -0.8905652396391988, -2.2468341252240673, -1.2881363845525111, -0.8905660111822888, -1.0902632484025214, -1.090264933180699, -2.0385181540025066, -2.2135490996073592, -0.89056373854362, -1.2881191262821028, -1.0901956446262604, -2.1621534836176717, -1.0901917283511005, -1.2896712581491212, -0.8905835028080197, -2.1946075723399816, -1.0902563665976863, -2.0509205900773124, -1.090186722976465, -0.890568668692703, -1.0901801832944786, -0.8905733384492078, -2.309358636081388, -2.2435882221490373, -1.2881196219544508, -1.8234991200438246, -1.0902265376239875, -1.2881189427944333, -1.0901895351465145, -2.2284543393133514, -2.0385164019320623, -2.2189936040004854, -1.094647810187829, -0.8904761807728797, -0.8906427294622643, -2.243595822238964, -1.0901810306158923, -2.2435944518921964, -2.2468132978607955, -0.9357816691239539, -2.158775944275702, -1.0901804789821852, -0.8910051825830083, -2.218991289471036, -1.0901875815559352, -2.246811953449591, -2.113936711115913, -1.0919726931872091, -0.5573139813263694, -1.0901885594891365, -1.288751899537487, -1.0902076413855113, -2.1587175174208713, -2.0847343397954843, -2.2262433117924725, -2.1608997636682483, -2.2438068168949554, -0.8905945635786924, -1.090181996233322, -1.0902122395633893, -0.8905798544871574, -0.8905700940438284, -2.243605797010094, -2.0133696370386573, -1.1190021173360387, -1.1838715854211952, -0.8910155756622372, -1.2881202681763173, -1.094949412946395, -1.0357815288324543, -1.0901855311188406, -1.0902116541840052, -1.0902131426418251, -1.090212735700271, -2.2436236285402766, -2.22654268617415, -0.8903519834390216, -1.5508640510827263, -2.218989195708175, -2.1946541858204247, -1.0901875257930471, -0.8906548380024497, -1.5508713869023858, -2.0386368000304933, -1.550865597544857, -1.8234509791464155, -2.2748619148611624, -2.2435906215618866, -2.042858666347787, -0.8907817839336294, -2.15898223422006, -1.0909433582003734, -1.1011968060480988, -0.8905698918861619, -1.5508599252827144, -1.5509664478133915, -1.0901919073742168, -0.890569729125437, -1.2881190637379687, -1.1290433178458992, -0.14853823742066183, -2.6776069425911677, -2.217940241045137, -2.2436883312558034, -1.0909185592806896, -2.1946007120678725, -1.2038666936101345, -1.0901935727468344, -1.0930289511031974, -0.8907092479173798, -2.041372799733339, -2.2440104396197853, -1.0901881284175292, -2.2255676686605748, -2.218990853768915, -2.22857336778189, -0.890595833142616, -2.2435889206198234, -0.5572974387066046, -2.2468194673453805, -2.1824542426484514, -2.2284496095030524, -2.24385916412312, -2.1973580267979904, -2.3114576498437165, -2.211442552693376, -2.243827837381801, -1.318469978406324, -2.1455540479228157, -0.8905701463514333, -1.0901896398549882, -2.1594850669519166, -2.266054297630782, -0.8974478155333444, -2.2432205538885603, -1.2882726431534313, -0.8905719545962616, -1.3185047550571916, -2.2208273778128786, -2.228480466703216, -1.288120269346023, -2.2465466552852082, -2.1380871429905817, -2.1380454260677313, -0.32905241997783174, -2.231235392996754, -1.0902212238579458, -2.219091997943935, -2.218990662749382, -1.417487664160707, -1.2881267534669911, -0.3429971432316083, -1.2881616998373537, -1.1347193822885735, -1.5512154284996098, -2.1412107493403325, -1.090337586040967, -1.2881279084296602, -1.1016383346977234, -1.2100013080003327, -1.090180486993529, -1.0902363009930998, -1.823334435079472, -2.2156119094992834, -2.0385162751011174, -0.9503965161271997, -2.243849815539152, -2.218992963805317], \"z\": [0.17803048656239392, 0.3647039168285509, -0.0343726105767809, 0.3694978149509917, 0.3646737499530653, 0.4137016885640572, 0.2691425903612597, -0.03434396932802777, 0.04232860313271191, -0.034352006239846376, 0.27511710692243224, -0.08584252493745169, 0.17795684264717118, -0.03441810941171376, -0.034355125470412085, 0.014505959247218517, 0.10528429969617156, -0.034357369925313415, -0.03434448112135476, -0.03434253984150298, 0.042331040595707456, -0.410600579250424, 0.2681440279492571, 0.16860410970544895, -0.04057054764661059, -0.03434930785925387, -0.034456493850833075, -0.034350284805042756, -0.03434102892532478, 0.25036638907408015, -0.0348413639944938, -0.03437166130857485, -0.03436349609523096, -0.07843119156985642, 0.17802937170462316, -0.03442811267649394, -0.03434861522361354, -0.03433968947188632, -0.03435820313179824, 0.287882184506738, -0.034342506625168925, -0.03718515246478648, 0.17803161150375907, -0.03450232392550136, -0.03434232493187154, -0.034381187237778575, -0.03435500951961654, 0.17772191170763832, 0.17801796880419402, 0.17802590426878653, 0.17802809050740773, 0.17803951920498956, 0.04233479090814979, -0.03435036598750614, 0.1828236635569268, -0.034416886898974014, 0.17801976914297588, 0.2072110602485201, 0.29307094626922403, -0.4292393424546699, -0.03437726086584257, -0.03471077051213908, -0.034409918620467876, -0.03433953567100703, -0.034414263437443096, -0.034752659871370224, 0.370566521709387, 0.27595760927862045, 0.21042635979800128, -0.03434314621193957, -0.037305777774834056, 0.2569479237279743, -0.03433942054705338, 0.178032413148866, -0.04667850780886792, 0.04231943042822625, 0.34458589914066196, 0.17802721381179365, 0.04232680700237817, -0.03437879841151417, -0.03439930860923573, 0.3647359142711268, 0.3789519150830471, 0.04232747625963938, 0.17802940409511225, -0.03444132269570725, 0.37319077083127683, -0.034375006880252135, 0.16747437596175832, 0.042308046067753596, 0.3234426856148148, -0.034361923306238856, 0.314498640875144, -0.03434411813358313, 0.042327049580985945, -0.034339419072400845, 0.04233137767253538, 0.7290159513008692, 0.29684307194519205, 0.17803611641187847, 0.2754670569753341, -0.034407138764368114, 0.17803498605614917, -0.034347062951775684, 0.3591187655266039, 0.36472912821997727, 0.41370231242213834, -0.03574956050320461, 0.04197764494587811, 0.04228300159912482, 0.2968440096129947, -0.03433979830472647, 0.2968405190345069, 0.34459756545945186, 0.02873355259422625, 0.3694751992076953, -0.034340668028873166, 0.04219038036286329, 0.41370238773013074, -0.03438773224834918, 0.34459021305424564, 0.3195838956101734, -0.03489821060672569, -0.04453347863637739, -0.03435103172820095, 0.17723972916610842, -0.03435359664919211, 0.3694654570573441, 0.3062506999315122, 0.3905284504757203, 0.378531429995279, 0.29594097744053527, 0.042309415596707575, -0.034348097577038925, -0.034351000269531064, 0.04231798764078059, 0.0423317568986528, 0.29683493550145773, 0.2810809130618614, -0.11865060298863192, 0.1422790437125656, 0.04214450068268216, 0.17803046244209403, -0.03574758637803125, -0.0847576279056899, -0.03434522278837826, -0.034356538930387995, -0.03436404135146464, -0.0343644185189464, 0.29683209473944255, 0.409053127587461, 0.041140874086281004, 0.25047993295351034, 0.4136982266646313, 0.3234157727687926, -0.034387783931319214, 0.04222649915152185, 0.2504767398223671, 0.3646998300779396, 0.2504787016754523, 0.27572220499163735, 0.27864866818981704, 0.29684390799523885, 0.3632170016212755, 0.04223313233362376, 0.36921425806246594, -0.03640735725743379, 0.05005760075477323, 0.042331069920844615, 0.2504794397603084, 0.2503122643876538, -0.034363738486482054, 0.042329142673551194, 0.17802980910000535, 0.15297588733745202, 0.12457224247807117, 0.14398870927717305, 0.36175321406265604, 0.29675488627742036, -0.03920595899420934, 0.32339746863639895, 0.18247845892984627, -0.034348871998885644, -0.04191688663124685, 0.04219365962191152, 0.36378278121320745, 0.2966848254601252, -0.034343370645730974, 0.34378949109603596, 0.4136725623636059, 0.3590744278279512, 0.04231059227238321, 0.2968390562750655, -0.04453368268328798, 0.34459424614047, 0.33891570736281357, 0.35912043262071125, 0.2967666671988632, 0.29321839471708133, 0.2576096374410649, 0.4592420193042932, 0.29651558340172157, 0.19980148372647288, 0.37909527657057385, 0.04233063961990535, -0.034342583350720345, 0.36926367038954433, 0.3610405541375931, -0.053213968731173775, 0.23340501421940574, 0.17701758718261418, 0.04233009506984784, 0.1997904583210216, 0.411194636687117, 0.359108230565702, 0.17803046352621765, 0.295105203686577, 0.36376300396651673, 0.3637686887613944, 0.17351942200316672, 0.417271902658656, -0.03436765387032967, 0.41365927847613465, 0.4136940984186623, 0.2104106344773873, 0.17801260292511617, -0.030511859864035443, 0.17798725958905318, -0.04751621982350612, 0.24860009621465504, 0.3628305606120743, -0.03474831401623386, 0.17802588610025405, -0.05147543897386546, 0.10527310992523095, -0.03434157100613846, -0.03438809751473147, 0.27597901505697153, 0.34803460250458224, 0.36472996414593756, 1.4229177838564324, 0.29631378056140545, 0.4137017190671551]}, {\"customdata\": [[\"VeChainThor Authority\"], [\"Proof-of-BibleHash\"], [\"SHA-256 + Hive\"], [\"Proof-of-Authority\"], [\"ECC 256K1\"]], \"hovertemplate\": \"<b>%{hovertext}</b><br><br>class=%{marker.color}<br>PC1=%{x}<br>PC2=%{y}<br>PC3=%{z}<br>Algorithm=%{customdata[0]}<extra></extra>\", \"hovertext\": [\"Vechain\", \"BiblePay\", \"LitecoinCash\", \"Poa Network\", \"Acute Angle Cloud\"], \"legendgroup\": \"3\", \"marker\": {\"color\": [3, 3, 3, 3, 3], \"coloraxis\": \"coloraxis\", \"symbol\": \"square\"}, \"mode\": \"markers\", \"name\": \"3\", \"scene\": \"scene\", \"showlegend\": true, \"type\": \"scatter3d\", \"x\": [4.401223699026138, -0.2547661277728526, -0.2354001638880651, -0.48430905998714585, -0.3266258838462617], \"y\": [3.1980471200466085, 4.218984874398697, 0.2569087639823127, 5.069027140114269, 2.195051366806166], \"z\": [8.02948801368411, 14.089605227494367, 18.98284718779086, 16.790511605919452, 10.074708949033182]}, {\"customdata\": [[\"TRC10\"]], \"hovertemplate\": \"<b>%{hovertext}</b><br><br>class=%{marker.color}<br>PC1=%{x}<br>PC2=%{y}<br>PC3=%{z}<br>Algorithm=%{customdata[0]}<extra></extra>\", \"hovertext\": [\"BitTorrent\"], \"legendgroup\": \"2\", \"marker\": {\"color\": [2], \"coloraxis\": \"coloraxis\", \"symbol\": \"x\"}, \"mode\": \"markers\", \"name\": \"2\", \"scene\": \"scene\", \"showlegend\": true, \"type\": \"scatter3d\", \"x\": [34.045630154318715], \"y\": [1.6088836271266655], \"z\": [-1.0741640162403951]}],\n",
       "                        {\"coloraxis\": {\"colorbar\": {\"title\": {\"text\": \"class\"}}, \"colorscale\": [[0.0, \"#0d0887\"], [0.1111111111111111, \"#46039f\"], [0.2222222222222222, \"#7201a8\"], [0.3333333333333333, \"#9c179e\"], [0.4444444444444444, \"#bd3786\"], [0.5555555555555556, \"#d8576b\"], [0.6666666666666666, \"#ed7953\"], [0.7777777777777778, \"#fb9f3a\"], [0.8888888888888888, \"#fdca26\"], [1.0, \"#f0f921\"]]}, \"legend\": {\"title\": {\"text\": \"class\"}, \"tracegroupgap\": 0, \"x\": 0, \"y\": 1}, \"margin\": {\"t\": 60}, \"scene\": {\"domain\": {\"x\": [0.0, 1.0], \"y\": [0.0, 1.0]}, \"xaxis\": {\"title\": {\"text\": \"PC1\"}}, \"yaxis\": {\"title\": {\"text\": \"PC2\"}}, \"zaxis\": {\"title\": {\"text\": \"PC3\"}}}, \"template\": {\"data\": {\"bar\": [{\"error_x\": {\"color\": \"#2a3f5f\"}, \"error_y\": {\"color\": \"#2a3f5f\"}, \"marker\": {\"line\": {\"color\": \"#E5ECF6\", \"width\": 0.5}}, \"type\": \"bar\"}], \"barpolar\": [{\"marker\": {\"line\": {\"color\": \"#E5ECF6\", \"width\": 0.5}}, \"type\": \"barpolar\"}], \"carpet\": [{\"aaxis\": {\"endlinecolor\": \"#2a3f5f\", \"gridcolor\": \"white\", \"linecolor\": \"white\", \"minorgridcolor\": \"white\", \"startlinecolor\": \"#2a3f5f\"}, \"baxis\": {\"endlinecolor\": \"#2a3f5f\", \"gridcolor\": \"white\", \"linecolor\": \"white\", \"minorgridcolor\": \"white\", \"startlinecolor\": \"#2a3f5f\"}, \"type\": \"carpet\"}], \"choropleth\": [{\"colorbar\": {\"outlinewidth\": 0, \"ticks\": \"\"}, \"type\": \"choropleth\"}], \"contour\": [{\"colorbar\": {\"outlinewidth\": 0, \"ticks\": \"\"}, \"colorscale\": [[0.0, \"#0d0887\"], [0.1111111111111111, \"#46039f\"], [0.2222222222222222, \"#7201a8\"], [0.3333333333333333, \"#9c179e\"], [0.4444444444444444, \"#bd3786\"], [0.5555555555555556, \"#d8576b\"], [0.6666666666666666, \"#ed7953\"], [0.7777777777777778, \"#fb9f3a\"], [0.8888888888888888, \"#fdca26\"], [1.0, \"#f0f921\"]], \"type\": \"contour\"}], \"contourcarpet\": [{\"colorbar\": {\"outlinewidth\": 0, \"ticks\": \"\"}, \"type\": \"contourcarpet\"}], \"heatmap\": [{\"colorbar\": {\"outlinewidth\": 0, \"ticks\": \"\"}, \"colorscale\": [[0.0, \"#0d0887\"], [0.1111111111111111, \"#46039f\"], [0.2222222222222222, \"#7201a8\"], [0.3333333333333333, \"#9c179e\"], [0.4444444444444444, \"#bd3786\"], [0.5555555555555556, \"#d8576b\"], [0.6666666666666666, \"#ed7953\"], [0.7777777777777778, \"#fb9f3a\"], [0.8888888888888888, \"#fdca26\"], [1.0, \"#f0f921\"]], \"type\": \"heatmap\"}], \"heatmapgl\": [{\"colorbar\": {\"outlinewidth\": 0, \"ticks\": \"\"}, \"colorscale\": [[0.0, \"#0d0887\"], [0.1111111111111111, \"#46039f\"], [0.2222222222222222, \"#7201a8\"], [0.3333333333333333, \"#9c179e\"], [0.4444444444444444, \"#bd3786\"], [0.5555555555555556, \"#d8576b\"], [0.6666666666666666, \"#ed7953\"], [0.7777777777777778, \"#fb9f3a\"], [0.8888888888888888, \"#fdca26\"], [1.0, \"#f0f921\"]], \"type\": \"heatmapgl\"}], \"histogram\": [{\"marker\": {\"colorbar\": {\"outlinewidth\": 0, \"ticks\": \"\"}}, \"type\": \"histogram\"}], \"histogram2d\": [{\"colorbar\": {\"outlinewidth\": 0, \"ticks\": \"\"}, \"colorscale\": [[0.0, \"#0d0887\"], [0.1111111111111111, \"#46039f\"], [0.2222222222222222, \"#7201a8\"], [0.3333333333333333, \"#9c179e\"], [0.4444444444444444, \"#bd3786\"], [0.5555555555555556, \"#d8576b\"], [0.6666666666666666, \"#ed7953\"], [0.7777777777777778, \"#fb9f3a\"], [0.8888888888888888, \"#fdca26\"], [1.0, \"#f0f921\"]], \"type\": \"histogram2d\"}], \"histogram2dcontour\": [{\"colorbar\": {\"outlinewidth\": 0, \"ticks\": \"\"}, \"colorscale\": [[0.0, \"#0d0887\"], [0.1111111111111111, \"#46039f\"], [0.2222222222222222, \"#7201a8\"], [0.3333333333333333, \"#9c179e\"], [0.4444444444444444, \"#bd3786\"], [0.5555555555555556, \"#d8576b\"], [0.6666666666666666, \"#ed7953\"], [0.7777777777777778, \"#fb9f3a\"], [0.8888888888888888, \"#fdca26\"], [1.0, \"#f0f921\"]], \"type\": \"histogram2dcontour\"}], \"mesh3d\": [{\"colorbar\": {\"outlinewidth\": 0, \"ticks\": \"\"}, \"type\": \"mesh3d\"}], \"parcoords\": [{\"line\": {\"colorbar\": {\"outlinewidth\": 0, \"ticks\": \"\"}}, \"type\": \"parcoords\"}], \"pie\": [{\"automargin\": true, \"type\": \"pie\"}], \"scatter\": [{\"marker\": {\"colorbar\": {\"outlinewidth\": 0, \"ticks\": \"\"}}, \"type\": \"scatter\"}], \"scatter3d\": [{\"line\": {\"colorbar\": {\"outlinewidth\": 0, \"ticks\": \"\"}}, \"marker\": {\"colorbar\": {\"outlinewidth\": 0, \"ticks\": \"\"}}, \"type\": \"scatter3d\"}], \"scattercarpet\": [{\"marker\": {\"colorbar\": {\"outlinewidth\": 0, \"ticks\": \"\"}}, \"type\": \"scattercarpet\"}], \"scattergeo\": [{\"marker\": {\"colorbar\": {\"outlinewidth\": 0, \"ticks\": \"\"}}, \"type\": \"scattergeo\"}], \"scattergl\": [{\"marker\": {\"colorbar\": {\"outlinewidth\": 0, \"ticks\": \"\"}}, \"type\": \"scattergl\"}], \"scattermapbox\": [{\"marker\": {\"colorbar\": {\"outlinewidth\": 0, \"ticks\": \"\"}}, \"type\": \"scattermapbox\"}], \"scatterpolar\": [{\"marker\": {\"colorbar\": {\"outlinewidth\": 0, \"ticks\": \"\"}}, \"type\": \"scatterpolar\"}], \"scatterpolargl\": [{\"marker\": {\"colorbar\": {\"outlinewidth\": 0, \"ticks\": \"\"}}, \"type\": \"scatterpolargl\"}], \"scatterternary\": [{\"marker\": {\"colorbar\": {\"outlinewidth\": 0, \"ticks\": \"\"}}, \"type\": \"scatterternary\"}], \"surface\": [{\"colorbar\": {\"outlinewidth\": 0, \"ticks\": \"\"}, \"colorscale\": [[0.0, \"#0d0887\"], [0.1111111111111111, \"#46039f\"], [0.2222222222222222, \"#7201a8\"], [0.3333333333333333, \"#9c179e\"], [0.4444444444444444, \"#bd3786\"], [0.5555555555555556, \"#d8576b\"], [0.6666666666666666, \"#ed7953\"], [0.7777777777777778, \"#fb9f3a\"], [0.8888888888888888, \"#fdca26\"], [1.0, \"#f0f921\"]], \"type\": \"surface\"}], \"table\": [{\"cells\": {\"fill\": {\"color\": \"#EBF0F8\"}, \"line\": {\"color\": \"white\"}}, \"header\": {\"fill\": {\"color\": \"#C8D4E3\"}, \"line\": {\"color\": \"white\"}}, \"type\": \"table\"}]}, \"layout\": {\"annotationdefaults\": {\"arrowcolor\": \"#2a3f5f\", \"arrowhead\": 0, \"arrowwidth\": 1}, \"coloraxis\": {\"colorbar\": {\"outlinewidth\": 0, \"ticks\": \"\"}}, \"colorscale\": {\"diverging\": [[0, \"#8e0152\"], [0.1, \"#c51b7d\"], [0.2, \"#de77ae\"], [0.3, \"#f1b6da\"], [0.4, \"#fde0ef\"], [0.5, \"#f7f7f7\"], [0.6, \"#e6f5d0\"], [0.7, \"#b8e186\"], [0.8, \"#7fbc41\"], [0.9, \"#4d9221\"], [1, \"#276419\"]], \"sequential\": [[0.0, \"#0d0887\"], [0.1111111111111111, \"#46039f\"], [0.2222222222222222, \"#7201a8\"], [0.3333333333333333, \"#9c179e\"], [0.4444444444444444, \"#bd3786\"], [0.5555555555555556, \"#d8576b\"], [0.6666666666666666, \"#ed7953\"], [0.7777777777777778, \"#fb9f3a\"], [0.8888888888888888, \"#fdca26\"], [1.0, \"#f0f921\"]], \"sequentialminus\": [[0.0, \"#0d0887\"], [0.1111111111111111, \"#46039f\"], [0.2222222222222222, \"#7201a8\"], [0.3333333333333333, \"#9c179e\"], [0.4444444444444444, \"#bd3786\"], [0.5555555555555556, \"#d8576b\"], [0.6666666666666666, \"#ed7953\"], [0.7777777777777778, \"#fb9f3a\"], [0.8888888888888888, \"#fdca26\"], [1.0, \"#f0f921\"]]}, \"colorway\": [\"#636efa\", \"#EF553B\", \"#00cc96\", \"#ab63fa\", \"#FFA15A\", \"#19d3f3\", \"#FF6692\", \"#B6E880\", \"#FF97FF\", \"#FECB52\"], \"font\": {\"color\": \"#2a3f5f\"}, \"geo\": {\"bgcolor\": \"white\", \"lakecolor\": \"white\", \"landcolor\": \"#E5ECF6\", \"showlakes\": true, \"showland\": true, \"subunitcolor\": \"white\"}, \"hoverlabel\": {\"align\": \"left\"}, \"hovermode\": \"closest\", \"mapbox\": {\"style\": \"light\"}, \"paper_bgcolor\": \"white\", \"plot_bgcolor\": \"#E5ECF6\", \"polar\": {\"angularaxis\": {\"gridcolor\": \"white\", \"linecolor\": \"white\", \"ticks\": \"\"}, \"bgcolor\": \"#E5ECF6\", \"radialaxis\": {\"gridcolor\": \"white\", \"linecolor\": \"white\", \"ticks\": \"\"}}, \"scene\": {\"xaxis\": {\"backgroundcolor\": \"#E5ECF6\", \"gridcolor\": \"white\", \"gridwidth\": 2, \"linecolor\": \"white\", \"showbackground\": true, \"ticks\": \"\", \"zerolinecolor\": \"white\"}, \"yaxis\": {\"backgroundcolor\": \"#E5ECF6\", \"gridcolor\": \"white\", \"gridwidth\": 2, \"linecolor\": \"white\", \"showbackground\": true, \"ticks\": \"\", \"zerolinecolor\": \"white\"}, \"zaxis\": {\"backgroundcolor\": \"#E5ECF6\", \"gridcolor\": \"white\", \"gridwidth\": 2, \"linecolor\": \"white\", \"showbackground\": true, \"ticks\": \"\", \"zerolinecolor\": \"white\"}}, \"shapedefaults\": {\"line\": {\"color\": \"#2a3f5f\"}}, \"ternary\": {\"aaxis\": {\"gridcolor\": \"white\", \"linecolor\": \"white\", \"ticks\": \"\"}, \"baxis\": {\"gridcolor\": \"white\", \"linecolor\": \"white\", \"ticks\": \"\"}, \"bgcolor\": \"#E5ECF6\", \"caxis\": {\"gridcolor\": \"white\", \"linecolor\": \"white\", \"ticks\": \"\"}}, \"title\": {\"x\": 0.05}, \"xaxis\": {\"automargin\": true, \"gridcolor\": \"white\", \"linecolor\": \"white\", \"ticks\": \"\", \"title\": {\"standoff\": 15}, \"zerolinecolor\": \"white\", \"zerolinewidth\": 2}, \"yaxis\": {\"automargin\": true, \"gridcolor\": \"white\", \"linecolor\": \"white\", \"ticks\": \"\", \"title\": {\"standoff\": 15}, \"zerolinecolor\": \"white\", \"zerolinewidth\": 2}}}, \"width\": 1000},\n",
       "                        {\"responsive\": true}\n",
       "                    ).then(function(){\n",
       "                            \n",
       "var gd = document.getElementById('a067f3b1-11b5-4534-a27f-bedd0f255ad7');\n",
       "var x = new MutationObserver(function (mutations, observer) {{\n",
       "        var display = window.getComputedStyle(gd).display;\n",
       "        if (!display || display === 'none') {{\n",
       "            console.log([gd, 'removed!']);\n",
       "            Plotly.purge(gd);\n",
       "            observer.disconnect();\n",
       "        }}\n",
       "}});\n",
       "\n",
       "// Listen for the removal of the full notebook cells\n",
       "var notebookContainer = gd.closest('#notebook-container');\n",
       "if (notebookContainer) {{\n",
       "    x.observe(notebookContainer, {childList: true});\n",
       "}}\n",
       "\n",
       "// Listen for the clearing of the current output cell\n",
       "var outputEl = gd.closest('.output');\n",
       "if (outputEl) {{\n",
       "    x.observe(outputEl, {childList: true});\n",
       "}}\n",
       "\n",
       "                        })\n",
       "                };\n",
       "                });\n",
       "            </script>\n",
       "        </div>"
      ]
     },
     "metadata": {},
     "output_type": "display_data"
    }
   ],
   "source": [
    "# Create a 3D scatter plot using Plotly Express to plot the clusters using the clustered_df DataFrame. \n",
    "# You should include the following parameters on the plot: hover_name=\"CoinName\" \n",
    "# and hover_data=[\"Algorithm\"] to show this additional info on each data point.\n",
    "fig = px.scatter_3d(\n",
    "                    clustered_df,\n",
    "                    x=\"PC1\",\n",
    "                    y=\"PC2\",\n",
    "                    z=\"PC3\",\n",
    "                    color=\"class\",\n",
    "                    symbol=\"class\",\n",
    "                    width=1000,\n",
    "                    hover_name=\"CoinName\",\n",
    "                    hover_data=[\"Algorithm\"]\n",
    ")\n",
    "fig.update_layout(legend=dict(x=0, y=1))\n",
    "fig.show()"
   ]
  },
  {
   "cell_type": "code",
   "execution_count": 126,
   "metadata": {},
   "outputs": [],
   "source": [
    "# Use hvplot.table to create a data table with all the current tradable cryptocurrencies. \n",
    "# The table should have the following columns: CoinName, Algorithm, ProofType, TotalCoinSupply, TotalCoinsMined and Class.\n"
   ]
  },
  {
   "cell_type": "code",
   "execution_count": null,
   "metadata": {},
   "outputs": [],
   "source": [
    "# Create a scatter plot using hvplot.scatter to present the clustered data about cryptocurrencies \n",
    "# having x=\"TotalCoinsMined\" and y=\"TotalCoinSupply\" to contrast the number of available coins \n",
    "# versus the total number of mined coins. \n",
    "# Use the hover_cols=[\"CoinName\"] parameter to include the cryptocurrency name on each data point."
   ]
  }
 ],
 "metadata": {
  "kernelspec": {
   "display_name": "mlenv",
   "language": "python",
   "name": "mlenv"
  },
  "language_info": {
   "codemirror_mode": {
    "name": "ipython",
    "version": 3
   },
   "file_extension": ".py",
   "mimetype": "text/x-python",
   "name": "python",
   "nbconvert_exporter": "python",
   "pygments_lexer": "ipython3",
   "version": "3.7.7"
  }
 },
 "nbformat": 4,
 "nbformat_minor": 4
}
